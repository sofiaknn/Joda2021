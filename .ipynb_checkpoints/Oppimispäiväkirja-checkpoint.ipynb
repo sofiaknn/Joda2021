{
 "cells": [
  {
   "cell_type": "markdown",
   "metadata": {},
   "source": [
    "# Johdanto datatieteeseen 2021"
   ]
  },
  {
   "cell_type": "markdown",
   "metadata": {},
   "source": [
    "## Oppimispäiväkirja"
   ]
  },
  {
   "cell_type": "markdown",
   "metadata": {},
   "source": [
    "## Viikko 1"
   ]
  },
  {
   "cell_type": "markdown",
   "metadata": {},
   "source": [
    "Osallistuin ensimmäisellä viikolla sekä luennolle että demosessioon. Ensimmäisen viikon oppimispäiväkirja on laadittu avausluennon ja ensimmäisen demosession aineistoja käyttäen."
   ]
  },
  {
   "cell_type": "markdown",
   "metadata": {},
   "source": [
    "Datatiede koostuu neljästä osa-alueesta, joita ovat liiketoimintaosaaminen, ohjelmointi ja tietokantaosaaminen, tilastollinen analyysi sekä datalähtöinen viestintä ja visualisointi. Datatieteilijän rooli ja työ organisaatiossa on monitieteistä, ja siinä yhdistyy esimerkiksi tietotekninen, matemaattinen ja liiketoiminnallinen osaaminen. Datatieteestä on aiemmin käytetty myös termiä datalogy. Datatiede voidaan nähdä myös markkinointiterminä tilastotieteelle, mutta on selvää, että tilastotiede on vain yksi osa-alue datatieteessä. Datatieteessä keskeistä on laajojen aineistojen muokkaaminen ja ohjelmoinnin hyödyntäminen (Huhtamäki 2021).\n",
    "\n",
    "Datatieteilijän (engl. Data Scientist) roolin on kuvattu olevan \"The Sexiest Job of the 21th Century\". Kyseinen rooli vaatii sekoituksen  monialaisia taitoja matematiikan, tilastotieteen, tietojenkäsittelytieteen, viestinnän ja liiketoiminnan saralta. Datatieteilijän löytäminen on vaikeaa, ja lähes yhtä vaikeaa on löytää ihmisiä, jotka ymmärtävät kuka datatieteilijä on. Moderni datatieteilijä on sellainen, jolla on edellämainitut taidot hallussa (Amsterdam School of Data Science 2017). \n",
    "\n",
    "CRISP-DM on avoin standardin prosessikuvaus datatieteen prosessista, joka kuvaa datatieteen asiantuntijoiden käyttämiä yleisiä lähestymistapoja. Prosessiin kuuluu kuusi eri vaihetta, joita ovat liiketoiminnan ymmärtäminen, datan ymmärtäminen, datan valmistelu, mallintaminen, arviointi ja käyttöönotto. Prosessimallin ja datatieteen metrokartan pohjalta voidaan yrittää hahmottaa, mitä vaaditaan hyvältä datatieteilijältä. On kuitenkin relevanttia miettiä, että onko yhden henkilön mahdollista hallita niin laajoja kokonaisuuksia, kuin mitä esitellään esimerkiksi datatieteen metrokartassa (Huhtamäki 2021). \n",
    "\n",
    "Dataa on käytössä ennenmäkemätön määrä, ja määrä vain kasvaa minuutti minuutilta. Myös julkista dataa on saatavilla enemmän kuin koskaan. Tekoälyn toinen aalto on käynnissä, ja siinä merkittävässä osassa on data ja tilastollinen oppiminen. Nykyinen tekoälyn aalto keskittyy koneoppimiseen ja neuroverkkoihin. Käytettävissä oleva data, kehitystyökalut ja kasvava laskentateho vauhdittavat datatieteen kehitystä. Laskentatehon kasvun lisäksi datatieteen kehittymistä jouduttaa teknisten ratkaisujen kehittyminen, joiden avulla skaalataan yksittäisen koneen tai klusterin laskentatehoa. Erityyppisiä laskentaympäristöjä on kuutta erilaista tyyppiä, ja niitä voivat olla esimerkiksi henkilökohtainen kone, pilviratkaisu tai laskentaklusteri (Huhtamäki 2021). \n",
    "\n",
    "Datatieteessä käytettäviä työvälineitä ovat tilastolaskentaympäristöt (esim. R), joita korvaavat nyt hyvää vauhtia python-pohjaiset ympäristöt. Keskeisiä python-kirjastoja ovat esimerkiksi Pandas ja Scikit-learn sekä visualisointityövälineet (esim. Holoviews) (Huhtamäki 2021).\n",
    "\n",
    "Ensimmäisellä viikolla tutustuin erilaisiin työkirjapohjaisiin laskentaympäristöihin, kuten Google Colabiin ja Jupyter Notebooksiin. Näistä valitsin omaan käyttööni Jupyter Notebookin, jonka sain toimintaan lataamalla Anacondan omalle koneelle. Jupyter notebook osoittautui melko helppokäyttöiseksi pienen opettelun jälkeen. Heti ensimmäisellä viikolla tutustuin lähemmin myös jo aiemmin mainittuun pythonin pandas-kirjastoon sekä numpy-kirjastoon. \n"
   ]
  },
  {
   "cell_type": "markdown",
   "metadata": {},
   "source": [
    "### Viisi tärkeintä asiaa"
   ]
  },
  {
   "cell_type": "markdown",
   "metadata": {},
   "source": [
    "1. Datatieteessä yhdistyy useampi tieteenala.\n",
    "2. Python on kasvattanut rooliaan datatieteessä tilasto-ohjelmistojen ohi.\n",
    "3. Yleisimmin käytetty analyysiprosessi on CRISP-DM.\n",
    "4. Tekoälyn toisessa aallossa pääosassa on data ja tilastollinen oppminen. \n",
    "5. Laskentatehon kasvu on merkittävin asia datatieteen kehittymisessä."
   ]
  },
  {
   "cell_type": "markdown",
   "metadata": {},
   "source": [
    "### Kehitysideat"
   ]
  },
  {
   "cell_type": "markdown",
   "metadata": {},
   "source": [
    "1. Työkirjaympäristöjä, niiden asennusta ja olisi hyödyllistä demota yksityiskohtaisemmin.\n",
    "2. Kurssin suorittamisohjeisiin voisi laittaa vinkkejä siitä, miten oppimispäiväkirjan linkki kannattaa jakaa moodleen. "
   ]
  },
  {
   "cell_type": "markdown",
   "metadata": {},
   "source": [
    "### Koodidemo"
   ]
  },
  {
   "cell_type": "code",
   "execution_count": 13,
   "metadata": {
    "scrolled": true
   },
   "outputs": [
    {
     "data": {
      "text/html": [
       "<div>\n",
       "<style scoped>\n",
       "    .dataframe tbody tr th:only-of-type {\n",
       "        vertical-align: middle;\n",
       "    }\n",
       "\n",
       "    .dataframe tbody tr th {\n",
       "        vertical-align: top;\n",
       "    }\n",
       "\n",
       "    .dataframe thead th {\n",
       "        text-align: right;\n",
       "    }\n",
       "</style>\n",
       "<table border=\"1\" class=\"dataframe\">\n",
       "  <thead>\n",
       "    <tr style=\"text-align: right;\">\n",
       "      <th></th>\n",
       "      <th>country</th>\n",
       "      <th>iso_code</th>\n",
       "      <th>date</th>\n",
       "      <th>total_vaccinations</th>\n",
       "      <th>people_vaccinated</th>\n",
       "      <th>people_fully_vaccinated</th>\n",
       "      <th>daily_vaccinations_raw</th>\n",
       "      <th>daily_vaccinations</th>\n",
       "      <th>total_vaccinations_per_hundred</th>\n",
       "      <th>people_vaccinated_per_hundred</th>\n",
       "      <th>people_fully_vaccinated_per_hundred</th>\n",
       "      <th>daily_vaccinations_per_million</th>\n",
       "      <th>vaccines</th>\n",
       "      <th>source_name</th>\n",
       "      <th>source_website</th>\n",
       "    </tr>\n",
       "  </thead>\n",
       "  <tbody>\n",
       "    <tr>\n",
       "      <th>0</th>\n",
       "      <td>Afghanistan</td>\n",
       "      <td>AFG</td>\n",
       "      <td>2021-02-22</td>\n",
       "      <td>0.0</td>\n",
       "      <td>0.0</td>\n",
       "      <td>NaN</td>\n",
       "      <td>NaN</td>\n",
       "      <td>NaN</td>\n",
       "      <td>0.00</td>\n",
       "      <td>0.00</td>\n",
       "      <td>NaN</td>\n",
       "      <td>NaN</td>\n",
       "      <td>Oxford/AstraZeneca</td>\n",
       "      <td>Government of Afghanistan</td>\n",
       "      <td>https://tolonews.com/index.php/health-170355</td>\n",
       "    </tr>\n",
       "    <tr>\n",
       "      <th>1</th>\n",
       "      <td>Afghanistan</td>\n",
       "      <td>AFG</td>\n",
       "      <td>2021-02-23</td>\n",
       "      <td>NaN</td>\n",
       "      <td>NaN</td>\n",
       "      <td>NaN</td>\n",
       "      <td>NaN</td>\n",
       "      <td>1367.0</td>\n",
       "      <td>NaN</td>\n",
       "      <td>NaN</td>\n",
       "      <td>NaN</td>\n",
       "      <td>35.0</td>\n",
       "      <td>Oxford/AstraZeneca</td>\n",
       "      <td>Government of Afghanistan</td>\n",
       "      <td>https://tolonews.com/index.php/health-170355</td>\n",
       "    </tr>\n",
       "    <tr>\n",
       "      <th>2</th>\n",
       "      <td>Afghanistan</td>\n",
       "      <td>AFG</td>\n",
       "      <td>2021-02-24</td>\n",
       "      <td>NaN</td>\n",
       "      <td>NaN</td>\n",
       "      <td>NaN</td>\n",
       "      <td>NaN</td>\n",
       "      <td>1367.0</td>\n",
       "      <td>NaN</td>\n",
       "      <td>NaN</td>\n",
       "      <td>NaN</td>\n",
       "      <td>35.0</td>\n",
       "      <td>Oxford/AstraZeneca</td>\n",
       "      <td>Government of Afghanistan</td>\n",
       "      <td>https://tolonews.com/index.php/health-170355</td>\n",
       "    </tr>\n",
       "    <tr>\n",
       "      <th>3</th>\n",
       "      <td>Afghanistan</td>\n",
       "      <td>AFG</td>\n",
       "      <td>2021-02-25</td>\n",
       "      <td>NaN</td>\n",
       "      <td>NaN</td>\n",
       "      <td>NaN</td>\n",
       "      <td>NaN</td>\n",
       "      <td>1367.0</td>\n",
       "      <td>NaN</td>\n",
       "      <td>NaN</td>\n",
       "      <td>NaN</td>\n",
       "      <td>35.0</td>\n",
       "      <td>Oxford/AstraZeneca</td>\n",
       "      <td>Government of Afghanistan</td>\n",
       "      <td>https://tolonews.com/index.php/health-170355</td>\n",
       "    </tr>\n",
       "    <tr>\n",
       "      <th>4</th>\n",
       "      <td>Afghanistan</td>\n",
       "      <td>AFG</td>\n",
       "      <td>2021-02-26</td>\n",
       "      <td>NaN</td>\n",
       "      <td>NaN</td>\n",
       "      <td>NaN</td>\n",
       "      <td>NaN</td>\n",
       "      <td>1367.0</td>\n",
       "      <td>NaN</td>\n",
       "      <td>NaN</td>\n",
       "      <td>NaN</td>\n",
       "      <td>35.0</td>\n",
       "      <td>Oxford/AstraZeneca</td>\n",
       "      <td>Government of Afghanistan</td>\n",
       "      <td>https://tolonews.com/index.php/health-170355</td>\n",
       "    </tr>\n",
       "    <tr>\n",
       "      <th>5</th>\n",
       "      <td>Afghanistan</td>\n",
       "      <td>AFG</td>\n",
       "      <td>2021-02-27</td>\n",
       "      <td>NaN</td>\n",
       "      <td>NaN</td>\n",
       "      <td>NaN</td>\n",
       "      <td>NaN</td>\n",
       "      <td>1367.0</td>\n",
       "      <td>NaN</td>\n",
       "      <td>NaN</td>\n",
       "      <td>NaN</td>\n",
       "      <td>35.0</td>\n",
       "      <td>Oxford/AstraZeneca</td>\n",
       "      <td>Government of Afghanistan</td>\n",
       "      <td>https://tolonews.com/index.php/health-170355</td>\n",
       "    </tr>\n",
       "    <tr>\n",
       "      <th>6</th>\n",
       "      <td>Afghanistan</td>\n",
       "      <td>AFG</td>\n",
       "      <td>2021-02-28</td>\n",
       "      <td>8200.0</td>\n",
       "      <td>8200.0</td>\n",
       "      <td>NaN</td>\n",
       "      <td>NaN</td>\n",
       "      <td>1367.0</td>\n",
       "      <td>0.02</td>\n",
       "      <td>0.02</td>\n",
       "      <td>NaN</td>\n",
       "      <td>35.0</td>\n",
       "      <td>Oxford/AstraZeneca</td>\n",
       "      <td>Government of Afghanistan</td>\n",
       "      <td>https://tolonews.com/index.php/health-170355</td>\n",
       "    </tr>\n",
       "    <tr>\n",
       "      <th>7</th>\n",
       "      <td>Albania</td>\n",
       "      <td>ALB</td>\n",
       "      <td>2021-01-10</td>\n",
       "      <td>0.0</td>\n",
       "      <td>0.0</td>\n",
       "      <td>NaN</td>\n",
       "      <td>NaN</td>\n",
       "      <td>NaN</td>\n",
       "      <td>0.00</td>\n",
       "      <td>0.00</td>\n",
       "      <td>NaN</td>\n",
       "      <td>NaN</td>\n",
       "      <td>Pfizer/BioNTech</td>\n",
       "      <td>Ministry of Health</td>\n",
       "      <td>https://shendetesia.gov.al/covid19-ministria-e...</td>\n",
       "    </tr>\n",
       "    <tr>\n",
       "      <th>8</th>\n",
       "      <td>Albania</td>\n",
       "      <td>ALB</td>\n",
       "      <td>2021-01-11</td>\n",
       "      <td>NaN</td>\n",
       "      <td>NaN</td>\n",
       "      <td>NaN</td>\n",
       "      <td>NaN</td>\n",
       "      <td>64.0</td>\n",
       "      <td>NaN</td>\n",
       "      <td>NaN</td>\n",
       "      <td>NaN</td>\n",
       "      <td>22.0</td>\n",
       "      <td>Pfizer/BioNTech</td>\n",
       "      <td>Ministry of Health</td>\n",
       "      <td>https://shendetesia.gov.al/covid19-ministria-e...</td>\n",
       "    </tr>\n",
       "    <tr>\n",
       "      <th>9</th>\n",
       "      <td>Albania</td>\n",
       "      <td>ALB</td>\n",
       "      <td>2021-01-12</td>\n",
       "      <td>128.0</td>\n",
       "      <td>128.0</td>\n",
       "      <td>NaN</td>\n",
       "      <td>NaN</td>\n",
       "      <td>64.0</td>\n",
       "      <td>0.00</td>\n",
       "      <td>0.00</td>\n",
       "      <td>NaN</td>\n",
       "      <td>22.0</td>\n",
       "      <td>Pfizer/BioNTech</td>\n",
       "      <td>Ministry of Health</td>\n",
       "      <td>https://shendetesia.gov.al/covid19-ministria-e...</td>\n",
       "    </tr>\n",
       "  </tbody>\n",
       "</table>\n",
       "</div>"
      ],
      "text/plain": [
       "       country iso_code        date  total_vaccinations  people_vaccinated  \\\n",
       "0  Afghanistan      AFG  2021-02-22                 0.0                0.0   \n",
       "1  Afghanistan      AFG  2021-02-23                 NaN                NaN   \n",
       "2  Afghanistan      AFG  2021-02-24                 NaN                NaN   \n",
       "3  Afghanistan      AFG  2021-02-25                 NaN                NaN   \n",
       "4  Afghanistan      AFG  2021-02-26                 NaN                NaN   \n",
       "5  Afghanistan      AFG  2021-02-27                 NaN                NaN   \n",
       "6  Afghanistan      AFG  2021-02-28              8200.0             8200.0   \n",
       "7      Albania      ALB  2021-01-10                 0.0                0.0   \n",
       "8      Albania      ALB  2021-01-11                 NaN                NaN   \n",
       "9      Albania      ALB  2021-01-12               128.0              128.0   \n",
       "\n",
       "   people_fully_vaccinated  daily_vaccinations_raw  daily_vaccinations  \\\n",
       "0                      NaN                     NaN                 NaN   \n",
       "1                      NaN                     NaN              1367.0   \n",
       "2                      NaN                     NaN              1367.0   \n",
       "3                      NaN                     NaN              1367.0   \n",
       "4                      NaN                     NaN              1367.0   \n",
       "5                      NaN                     NaN              1367.0   \n",
       "6                      NaN                     NaN              1367.0   \n",
       "7                      NaN                     NaN                 NaN   \n",
       "8                      NaN                     NaN                64.0   \n",
       "9                      NaN                     NaN                64.0   \n",
       "\n",
       "   total_vaccinations_per_hundred  people_vaccinated_per_hundred  \\\n",
       "0                            0.00                           0.00   \n",
       "1                             NaN                            NaN   \n",
       "2                             NaN                            NaN   \n",
       "3                             NaN                            NaN   \n",
       "4                             NaN                            NaN   \n",
       "5                             NaN                            NaN   \n",
       "6                            0.02                           0.02   \n",
       "7                            0.00                           0.00   \n",
       "8                             NaN                            NaN   \n",
       "9                            0.00                           0.00   \n",
       "\n",
       "   people_fully_vaccinated_per_hundred  daily_vaccinations_per_million  \\\n",
       "0                                  NaN                             NaN   \n",
       "1                                  NaN                            35.0   \n",
       "2                                  NaN                            35.0   \n",
       "3                                  NaN                            35.0   \n",
       "4                                  NaN                            35.0   \n",
       "5                                  NaN                            35.0   \n",
       "6                                  NaN                            35.0   \n",
       "7                                  NaN                             NaN   \n",
       "8                                  NaN                            22.0   \n",
       "9                                  NaN                            22.0   \n",
       "\n",
       "             vaccines                source_name  \\\n",
       "0  Oxford/AstraZeneca  Government of Afghanistan   \n",
       "1  Oxford/AstraZeneca  Government of Afghanistan   \n",
       "2  Oxford/AstraZeneca  Government of Afghanistan   \n",
       "3  Oxford/AstraZeneca  Government of Afghanistan   \n",
       "4  Oxford/AstraZeneca  Government of Afghanistan   \n",
       "5  Oxford/AstraZeneca  Government of Afghanistan   \n",
       "6  Oxford/AstraZeneca  Government of Afghanistan   \n",
       "7     Pfizer/BioNTech         Ministry of Health   \n",
       "8     Pfizer/BioNTech         Ministry of Health   \n",
       "9     Pfizer/BioNTech         Ministry of Health   \n",
       "\n",
       "                                      source_website  \n",
       "0       https://tolonews.com/index.php/health-170355  \n",
       "1       https://tolonews.com/index.php/health-170355  \n",
       "2       https://tolonews.com/index.php/health-170355  \n",
       "3       https://tolonews.com/index.php/health-170355  \n",
       "4       https://tolonews.com/index.php/health-170355  \n",
       "5       https://tolonews.com/index.php/health-170355  \n",
       "6       https://tolonews.com/index.php/health-170355  \n",
       "7  https://shendetesia.gov.al/covid19-ministria-e...  \n",
       "8  https://shendetesia.gov.al/covid19-ministria-e...  \n",
       "9  https://shendetesia.gov.al/covid19-ministria-e...  "
      ]
     },
     "execution_count": 13,
     "metadata": {},
     "output_type": "execute_result"
    }
   ],
   "source": [
    "# Määritellään pandas kirjasto.\n",
    "import pandas as pd\n",
    "# Luetaan csv-tiedosto ja haetaan sen 10 ensimmäistä riviä.\n",
    "# Data ladattu Kaggle-palvelusta.\n",
    "orig_df = pd.read_csv('country_vaccinations.csv')\n",
    "orig_df.head(10)\n",
    "# Skenderi, E (2021) Session 1 - Analysing Transaction Data. https://github.com/InfoTUNI/joda2021/blob/master/koodiesimerkit/Session%201%20-%20Analysis%20of%20Transactions.ipynb"
   ]
  },
  {
   "cell_type": "code",
   "execution_count": 15,
   "metadata": {},
   "outputs": [
    {
     "name": "stdout",
     "output_type": "stream",
     "text": [
      "country                                 object\n",
      "iso_code                                object\n",
      "date                                    object\n",
      "total_vaccinations                     float64\n",
      "people_vaccinated                      float64\n",
      "people_fully_vaccinated                float64\n",
      "daily_vaccinations_raw                 float64\n",
      "daily_vaccinations                     float64\n",
      "total_vaccinations_per_hundred         float64\n",
      "people_vaccinated_per_hundred          float64\n",
      "people_fully_vaccinated_per_hundred    float64\n",
      "daily_vaccinations_per_million         float64\n",
      "vaccines                                object\n",
      "source_name                             object\n",
      "source_website                          object\n",
      "dtype: object\n"
     ]
    }
   ],
   "source": [
    "# Tulostetaan sarakkeiden tyypit.\n",
    "print(orig_df.dtypes)"
   ]
  },
  {
   "cell_type": "code",
   "execution_count": 16,
   "metadata": {},
   "outputs": [
    {
     "name": "stdout",
     "output_type": "stream",
     "text": [
      "country                                 object\n",
      "iso_code                                object\n",
      "date                                    object\n",
      "total_vaccinations                     float64\n",
      "people_vaccinated                      float64\n",
      "people_fully_vaccinated                float64\n",
      "daily_vaccinations_raw                 float64\n",
      "daily_vaccinations                       int64\n",
      "total_vaccinations_per_hundred         float64\n",
      "people_vaccinated_per_hundred          float64\n",
      "people_fully_vaccinated_per_hundred    float64\n",
      "daily_vaccinations_per_million         float64\n",
      "vaccines                                object\n",
      "source_name                             object\n",
      "source_website                          object\n",
      "dtype: object\n"
     ]
    }
   ],
   "source": [
    "# Korvataan sarakkeen NaN-arvot nollalla ja muunnetaan ne kokonaisluvuiksi.\n",
    "orig_df['daily_vaccinations'] = orig_df['daily_vaccinations'].fillna(0).astype(int)\n",
    "orig_df['daily_vaccinations'] = orig_df['daily_vaccinations'].apply(np.int64)\n",
    "print(orig_df.dtypes)\n",
    "# Skenderi, E (2021) Session 1 - Analysing Transaction Data. https://github.com/InfoTUNI/joda2021/blob/master/koodiesimerkit/Session%201%20-%20Analysis%20of%20Transactions.ipynb"
   ]
  },
  {
   "cell_type": "code",
   "execution_count": 17,
   "metadata": {},
   "outputs": [
    {
     "name": "stdout",
     "output_type": "stream",
     "text": [
      "Sum of people vaccinated in Finland: 676566\n"
     ]
    }
   ],
   "source": [
    "# Valitaan kaikki rivit, joissa maa on Finland.\n",
    "fin = orig_df.loc[:,['daily_vaccinations','country']]\n",
    "fin = fin[ fin['country'] == 'Finland' ]\n",
    "sum_fin = sum(fin['daily_vaccinations'])\n",
    "# Tulostetaan suomessa annettujen rokotteiden summa.\n",
    "print(\"Sum of people vaccinated in Finland: {}\".format(sum_fin))\n",
    "# Skenderi, E (2021) Session 1 - Analysing Transaction Data. https://github.com/InfoTUNI/joda2021/blob/master/koodiesimerkit/Session%201%20-%20Analysis%20of%20Transactions.ipynb"
   ]
  },
  {
   "cell_type": "markdown",
   "metadata": {},
   "source": [
    "## Viikko 2"
   ]
  },
  {
   "cell_type": "markdown",
   "metadata": {},
   "source": [
    "Toisella viikolla osallistuin sekä luennolle että demosessioon. Oppimispäiväkirjassa on hyödynnetty luentorunkoa, demosessiota ja muuta luennon ohessa esiteltyä aineistoa. Luentoviikolla 2 keskityttiin datan keräämiseen ja jalostamiseen."
   ]
  },
  {
   "cell_type": "markdown",
   "metadata": {},
   "source": [
    "Philip Guo esittelee blogitekstissään kuvion nimeltä The Data Science Workflow, joka esittelee tyypillisen datatieteen työnkulun vaiheet. Siihen kuuluu neljä pääasiallista vaihetta: datan valmistelu, analyysin suorittaminen ja pohdinta sekä niiden vuorottelu datan tulkitsemiseksi ja viimeiseksi tulosten levittäminen raportin ja/tai suoritettavan koodin muodossa (Guo 2013). Datatieteen työprosessista voitaisiin nostaa esiin myös ETL ja DAD. ETL on enemmän datainsinööreille, jotka keskittyvät ohjelmistokehitykseen, tietokantojen suunnitteluun ja siihen, että data liikkuu jouhevasti lähteen ja määränpään välillä. DAD taas on tarkoitettu datatieteilijöille, jotka keskittyvät datan tuottamaan arvoon. Datatieteilijöiden on kuitenkin tarpeellista ymmärtää myös tietovirtojen kulku (Granville 2014).\n",
    "\n",
    "Data-analytiikan kyvykkyydet parantavat organisaation suorituskykyä ja analytiikan avulla pyritäänkin lisäämään ymmärrystä erityisesti liiketoimintaprosesseista. Ymmärrystä voidaan tarkastella analytiikan nelikentän avulla joka jakautuu kuvailevaan, diagnosoivaan, ennakoivaan ja ohjaavaan analytiikkaan. Edellisten lisäksi voitaisiin mainita vielä kartoittava analytiikka. Kuvaileva analytiikka selittää mitä on tapahtunut ja diagnosoiva analytiikka miksi jotain tapahtui. Ennakoivan analytiikan avulla pyritään ennakoimaan tulevaa liiketoimintatilannetta ja ohjaava analytiikka vastaa kysymykseen mitä asialle pitäisi tehdä (Huhtamäki 2021). Wegenerin ja Sinhan raportissaan esittelemien analytiikan tilaa yrityksissä kuvaavien lukujen perusteella voisi sanoa, että analytiikkaa ei hyödynnetä vielä yrityksissä niin paljoa kuin olisi mahdollista. Analytiikan hyödyntäminen ja merkitys kasvaa yrityksissä kovaa vauhtia.\n",
    "\n",
    "Dataa voidaan kerätä mm. ryömijöiden ja raapijoiden avulla. Ryömijä on robotti, joka käy systemaattisesti läpi verkko-osoitteita tarkoituksenaan yleisesti sivujen indeksointi. Ryömijä saa käyttäjältä lähtöpisteeksi verkkosivujen osoitteita, jotka se käy läpi. Ryömijä kasvattaa omaa hakuavaruuttaan lisäämällä alkupisteestä löytyvien verkkosivujen sisältämät hyperlinkit omaan hakujonoon. Ryömijän toimintaa kontrolloidaan rajoittamalla mitä sivuja se käsittelee (valinta), milloin sen tulee palata jollekin sivulle (uudelleenkäynti), miten se estää ylikuormituksen vierailtavilla sivuilla (kohteliaisuus) ja miten sen toimintaa koordinoidaan (rinnakkaistaminen) (Huhtamäki 20201). Suosittuja avoimen lähdekoodin ryömijöitä ovat esimerkiksi Heritix, Nutch ja Scrapy (Baiju NT 2018). \n",
    "\n",
    "Raapija on työkalu, jolla kerätään automatisoidusti tietoa verkkosivuilta. Käytännössä toteutukset ovat yleensä yhdistelmiä ryömijöistä ja raapijoista, joissa ryömijä luo hakuavaruuden lisäämällä hyperlinkkejä hakujonoon ja raapija kerää tiedon sivustoilta annettujen parametrien pohjalta. Raapija pyrkii yleisesti tunnistamaan metaelementtejä  verkkosivujen rakenteessa ja käyttämällä näitä hyödyksi käyttäjää kiinnostavan tiedon tallentamiseksi. Muita tekniikoita voivat olla myös semanttiseen rakenteeseen perustuva haku tai sivuston ulkoasuun perustuva tunnistus (Huhtamäki 2021). Yleisesti käytettyjä raapijoita ovat mm. Scraper API, ScrapeSimple ja Octoparse (Ni 2019). Myös BeautifulSoup-kirjastoa voidaan käyttää tietojen raapimiseen. Hyödynsin kyseistä kirjastoa sekä tämän viikon koodidemossa, että harjoitustyössäni. BeatifulSoup-kirjaston lisäksi myös requests-kirjasto tuli tutuksi prosessin aikana. Tietojen raapiminen ei kokemukseni mukaan ole loppujenlopuksi niin monimutkaista, kuin miltä se kuulostaa, mutta ei silti välttämättä kovin yksinkertaistakaan. Itse koin siinä jonkin verran haasteita, varsinkin harjoitustyödataa kerätessäni. Omasta näkökulmastani esimerkiksi web-ohjelmointiosaamisesta olisi hyötyä raapijoiden ja ryömijöiden käytössä.\n",
    "\n",
    "Raapijoiden ja ryömijöiden käyttö voidaan nähdä usein myös negatiivisena asiana. Sitä on käytetty paljon liiketoimintatarkoituksessa kilpailuedun kasvattamiseksi. Raavintaa saatetaan usein tehdä myös välittämättä tekijänoikeuksista ja lisäksi sillä saatetaan aiheuttaa odottamatonta kuormitusta nettisivustolle (Bernard 2017). Voitaisiin esimerkiksi miettiä, että onko eettisesti oikein kerätä toisten toimijoiden nettisivuilta dataa omiin tarkoituksiin. Eettiset kysymykset heräsivät itsellänikin, kun keräsin dataa harjoitustyöhöni web-sivulta ruudunraavinnan avulla.\n",
    "\n",
    "Datatyyppi on standardimuoto, jolla ohjelma käsittelee muuttujan sisältämää tietoa. Yleisimpiä datatyyppejä ovat esimerkiksi reaali, numeerinen ja boolean. Datatyyppi rajoittaa sitä, mitä operaatioita datalle voidaan suorittaa. Data voidaan lisäksi jakaa käytännössä joko teksti- ja binäärimuotoiseen tiedostotyyppiin. Tekstimuotoinen on ihmisen luettavissa ja binäärimuotoinen vain koneen luettavissa (Huhtamäki 2021).\n",
    "\n",
    "Tiedon välittäminen (Data wrangling tai data munging) tarkoittaa tiedon muuntamista ja mallinnusta raakamuotoisesta datasta paremmin hyödynnettävään muotoon. Lopputuote riippuu hyvin paljolti siitä, millaisessa analytiikkaprosessissa sitä halutaan hyödyntää. Esimerkiksi Pandas on erinomainen työkalu datan hallitsemisessa (Huhtamäki 2021). Pandas tuli jo hieman tutuksi ensimmäisellä luentoviikolla, ja tällä viikolla sen käyttötarkoitukseen tutustuttiin hieman syvemmin. Pandas on nopea, tehokas, joustava ja helppokäyttöinen avoimen lähdekoodin data-analyysi työkalu, joka on rakennettu Python-ohjelmointikielen päälle (Pandas 2021). Pandasin käytön tueksi löytyy \"cheat sheetejä\", jotka opastavat erilaisissa toiminnoissa sen mukaan, mitä halutaan tehdä (Huhtamäki 2021)."
   ]
  },
  {
   "cell_type": "markdown",
   "metadata": {},
   "source": [
    "### Viisi tärkeintä asiaa"
   ]
  },
  {
   "cell_type": "markdown",
   "metadata": {},
   "source": [
    "1. Data Science Workflow -prosessikaavio.\n",
    "2. ETL ja DAD ja niiden erot.\n",
    "3. Data-analytiikan avulla pyritään parantamaan organisaation suorituskykyä.\n",
    "4. Raapijoita ja ryömijöitä voidaan käyttää datan keräämiseen web-sivustoilta.\n",
    "5. Yleisimpiä datatyyppejä ovat reaali, numeerinen ja boolean."
   ]
  },
  {
   "cell_type": "markdown",
   "metadata": {},
   "source": [
    "### Kehitysideat"
   ]
  },
  {
   "cell_type": "markdown",
   "metadata": {},
   "source": [
    "1. Erilaisia yleisimpiä python-kirjastoja ja niiden käyttötarkoitusta voisi käydä hieman läpi luennoilla, esim. Pandas ja Numpy."
   ]
  },
  {
   "cell_type": "markdown",
   "metadata": {},
   "source": [
    "### Koodidemo"
   ]
  },
  {
   "cell_type": "code",
   "execution_count": 2,
   "metadata": {},
   "outputs": [],
   "source": [
    "# Tuodaan kirjastot\n",
    "from bs4 import BeautifulSoup\n",
    "import pandas as pd\n",
    "from urllib.request import urlopen"
   ]
  },
  {
   "cell_type": "code",
   "execution_count": 3,
   "metadata": {},
   "outputs": [],
   "source": [
    "# Määritellään verkkosivu ja haetaan lähdekoodi.\n",
    "url = 'https://quotes.toscrape.com'\n",
    "page = urlopen(url)\n",
    "soup = BeautifulSoup(page, 'html.parser')"
   ]
  },
  {
   "cell_type": "code",
   "execution_count": 8,
   "metadata": {},
   "outputs": [],
   "source": [
    "# Haetaan sivulta halutut elementit.\n",
    "quotes = soup.find_all('div', {'class': 'quote'})\n",
    "# Käydään elementit läpi ja haetaan halutut tiedot.\n",
    "for quote in quotes:\n",
    "    text = quote.find('span', class_ = 'text').text\n",
    "    author = quote.find('small', class_ ='author').text\n",
    "    tags = quote.find('div', class_ ='tags').find_all('a')\n",
    "    \n",
    "    tags_list = []\n",
    "    for tag in tags:\n",
    "        tags_list.append(tag.text)\n",
    "\n",
    "    single_quote = [text, author, tags_list]\n",
    "    all_quotes.append(single_quote)\n",
    "# Tallennetaan haluttu tieto dataframeen.\n",
    "df = pd.DataFrame(all_quotes, columns=['quote', 'author', 'tags'])\n",
    "# Silveira, O (2020) A Gentle Inroduction to Web Scraping with Python. https://towardsdatascience.com/a-gentle-introduction-to-web-scraping-with-python-b914a64b2fb8"
   ]
  },
  {
   "cell_type": "code",
   "execution_count": 9,
   "metadata": {},
   "outputs": [
    {
     "data": {
      "text/html": [
       "<div>\n",
       "<style scoped>\n",
       "    .dataframe tbody tr th:only-of-type {\n",
       "        vertical-align: middle;\n",
       "    }\n",
       "\n",
       "    .dataframe tbody tr th {\n",
       "        vertical-align: top;\n",
       "    }\n",
       "\n",
       "    .dataframe thead th {\n",
       "        text-align: right;\n",
       "    }\n",
       "</style>\n",
       "<table border=\"1\" class=\"dataframe\">\n",
       "  <thead>\n",
       "    <tr style=\"text-align: right;\">\n",
       "      <th></th>\n",
       "      <th>quote</th>\n",
       "      <th>author</th>\n",
       "      <th>tags</th>\n",
       "    </tr>\n",
       "  </thead>\n",
       "  <tbody>\n",
       "    <tr>\n",
       "      <th>0</th>\n",
       "      <td>“A day without sunshine is like, you know, nig...</td>\n",
       "      <td>Steve Martin</td>\n",
       "      <td>[humor, obvious, simile]</td>\n",
       "    </tr>\n",
       "    <tr>\n",
       "      <th>1</th>\n",
       "      <td>“The world as we have created it is a process ...</td>\n",
       "      <td>Albert Einstein</td>\n",
       "      <td>[change, deep-thoughts, thinking, world]</td>\n",
       "    </tr>\n",
       "    <tr>\n",
       "      <th>2</th>\n",
       "      <td>“It is our choices, Harry, that show what we t...</td>\n",
       "      <td>J.K. Rowling</td>\n",
       "      <td>[abilities, choices]</td>\n",
       "    </tr>\n",
       "    <tr>\n",
       "      <th>3</th>\n",
       "      <td>“There are only two ways to live your life. On...</td>\n",
       "      <td>Albert Einstein</td>\n",
       "      <td>[inspirational, life, live, miracle, miracles]</td>\n",
       "    </tr>\n",
       "    <tr>\n",
       "      <th>4</th>\n",
       "      <td>“The person, be it gentleman or lady, who has ...</td>\n",
       "      <td>Jane Austen</td>\n",
       "      <td>[aliteracy, books, classic, humor]</td>\n",
       "    </tr>\n",
       "    <tr>\n",
       "      <th>5</th>\n",
       "      <td>“Imperfection is beauty, madness is genius and...</td>\n",
       "      <td>Marilyn Monroe</td>\n",
       "      <td>[be-yourself, inspirational]</td>\n",
       "    </tr>\n",
       "    <tr>\n",
       "      <th>6</th>\n",
       "      <td>“Try not to become a man of success. Rather be...</td>\n",
       "      <td>Albert Einstein</td>\n",
       "      <td>[adulthood, success, value]</td>\n",
       "    </tr>\n",
       "    <tr>\n",
       "      <th>7</th>\n",
       "      <td>“It is better to be hated for what you are tha...</td>\n",
       "      <td>André Gide</td>\n",
       "      <td>[life, love]</td>\n",
       "    </tr>\n",
       "    <tr>\n",
       "      <th>8</th>\n",
       "      <td>“I have not failed. I've just found 10,000 way...</td>\n",
       "      <td>Thomas A. Edison</td>\n",
       "      <td>[edison, failure, inspirational, paraphrased]</td>\n",
       "    </tr>\n",
       "    <tr>\n",
       "      <th>9</th>\n",
       "      <td>“A woman is like a tea bag; you never know how...</td>\n",
       "      <td>Eleanor Roosevelt</td>\n",
       "      <td>[misattributed-eleanor-roosevelt]</td>\n",
       "    </tr>\n",
       "    <tr>\n",
       "      <th>10</th>\n",
       "      <td>“A day without sunshine is like, you know, nig...</td>\n",
       "      <td>Steve Martin</td>\n",
       "      <td>[humor, obvious, simile]</td>\n",
       "    </tr>\n",
       "  </tbody>\n",
       "</table>\n",
       "</div>"
      ],
      "text/plain": [
       "                                                quote             author  \\\n",
       "0   “A day without sunshine is like, you know, nig...       Steve Martin   \n",
       "1   “The world as we have created it is a process ...    Albert Einstein   \n",
       "2   “It is our choices, Harry, that show what we t...       J.K. Rowling   \n",
       "3   “There are only two ways to live your life. On...    Albert Einstein   \n",
       "4   “The person, be it gentleman or lady, who has ...        Jane Austen   \n",
       "5   “Imperfection is beauty, madness is genius and...     Marilyn Monroe   \n",
       "6   “Try not to become a man of success. Rather be...    Albert Einstein   \n",
       "7   “It is better to be hated for what you are tha...         André Gide   \n",
       "8   “I have not failed. I've just found 10,000 way...   Thomas A. Edison   \n",
       "9   “A woman is like a tea bag; you never know how...  Eleanor Roosevelt   \n",
       "10  “A day without sunshine is like, you know, nig...       Steve Martin   \n",
       "\n",
       "                                              tags  \n",
       "0                         [humor, obvious, simile]  \n",
       "1         [change, deep-thoughts, thinking, world]  \n",
       "2                             [abilities, choices]  \n",
       "3   [inspirational, life, live, miracle, miracles]  \n",
       "4               [aliteracy, books, classic, humor]  \n",
       "5                     [be-yourself, inspirational]  \n",
       "6                      [adulthood, success, value]  \n",
       "7                                     [life, love]  \n",
       "8    [edison, failure, inspirational, paraphrased]  \n",
       "9                [misattributed-eleanor-roosevelt]  \n",
       "10                        [humor, obvious, simile]  "
      ]
     },
     "execution_count": 9,
     "metadata": {},
     "output_type": "execute_result"
    }
   ],
   "source": [
    "df"
   ]
  },
  {
   "cell_type": "markdown",
   "metadata": {},
   "source": [
    "## Viikko 3"
   ]
  },
  {
   "cell_type": "markdown",
   "metadata": {},
   "source": [
    "Kolmannella viikolla osallistuin sekä luennolle että demosessioon. Oppimispäiväkirjassa on hyödynnetty luentorunkoa, demosessiota ja muuta luennon ohessa esiteltyä aineistoa. Luentoviikolla 3 käsiteltiin koneoppimisen periatteita."
   ]
  },
  {
   "cell_type": "markdown",
   "metadata": {},
   "source": [
    "Koneoppimisessa oppimisprosessi on pohjimmiltaan samanlainen kuin ihmisen oppimisessa. Se voidaan jakaa neljään toisiinsa liittyvään komponenttiin: tietojen tallennus, abstraktio, yleistäminen ja arviointi. Koneoppimisalgoritmit voidaan jakaa eri kategorioihin sen mukaan, mikä niiden tarkoitus on. Kategorioita ovat esimerkiksi ohjattu, ohjaamaton ja vahvistettu oppiminen (Ivan 2015).\n",
    "\n",
    "Ohjatun oppimisen algoritmeja käytetään pääasiallisesti ennakoivassa mallintamisessa. Ennakoiva malli on rakennettu koneoppimisalgoritmista ja piirteistä tai ominaisuuksista jotka on eroteltu \"harjoitusdatasta\" siten, että mallin avulla voidaan ennustaa arvoja syötetystä datasta. Ohjatut oppimisalgoritmit yrittävät siis mallintaa suhteita ja riippuvuuksia siten, että voimme ennustaa uuden datan lähtöarvot niiden suhteiden perusteella, jotka se on oppinut edellisistä data-aineistoista. Ohjatun oppimisen algoritmit voidaan jakaa kahteen päätyyppiin, jotka ovat luokittelu- ja regressioalgoritmit. Luokittelualgoritmit rakentavat ennustavia malleja \"harjoitusdatasta\", jossa on erotettavissa piirteitä ja luokkamerkintöjä. Tämä ennustava malli pystyy luokittelemaan uutta dataa perustuen aiemmin opittuihin piirteisiin ja luokkamerkitöihin. Luokittelualgoritmeja ovat esimerkiksi decision tree, random forest ja support vector machine. Regressioalgoritmi rakentaa mallin perustuen \"harjoitusdatan\" piirteisiin ja siitä saatuihin arvoihin. Mallia käytetään ennustaessa arvoja uudelle datalle. Regressioalgoritmeja ovat esim. lineaarinen regressio, monimuuttujaregressio, regressiopuut ja lassoregressio (Ivan 2015).\n",
    "\n",
    "Viime vuosina monet menestystarinat tekoälystä pohjautuvat koneoppimiseen ja syviin neuroverkkoihin. Tekoälyn kehitys voitaisiin jakaa kolmeen aaltoon: käsin rakennetut toteutukset, tilastollinen oppiminen ja tilanteeseen mukautuva oppiva tekoäly. Nästä tilastollinen oppiminen on nykyisin vallitseva teknologia, johon koneoppiminen ja syvät neuroverkot kuuluvat. Kolmannen aallon odotetaan alkavan 2020-luvulla. Asiantuntijoiden näkökulmasta koneoppiminen ja neuroverkot tulevat olemaan merkittävin tekoälyteknologia myös lähivuosina (Ailisto, Kaski & Suominen 2019).\n",
    "\n",
    "Laskennallinen analytiikka perustuu piirteisiin (features), jotka voivat olla binäärisiä, kategorisia tai jatkuvia. Piirteiden voidaan sanoa olevan syötteen muuttujan synonyymeja. Ihmisen asiantuntemuksen avulla muunnetaan ns. raakadata sarjaksi koneoppimisen näkökulmasta hyödyllisiä ominaisuuksia. Prosessia voidaan täydentää  eri menetelmillä, jotka tunnistavat datasta piirteitä automaattisesti.Tällaisia prosesseja ovat esimerkiksi standardointi, kohinan poisto, ulottuvuuksien vähentäminen ja ulottuvuuksien kasvattaminen (Huhtamäki 2021).\n",
    "\n",
    "Piirteiden suunnittelu (feature engineering) on tärkeä koneoppimisen osa-alue. Se on prosessi, jossa datatietojen avulla luodaan ominaisuuksia, joiden avulla koneoppimisalgoritmit saadaan toimimaan. Jos piirteiden suunnittelu tehdään oikein, niin se lisää koneoppimisalgoritmin ennustavaa voimaa luomalla raakadatasta ominaisuuksia, jotka helpottavat koneoppimisprosessia. Piirteiden suunnittelun avulla on mahdollista luoda valtava ero hyvän ja huonon mallin välille (Shekhar 2018). Yleisesti piirteet valitaan siten, että muuttujat ovat ongelman tutkimisen kannalta relevantteja (Huhtamäki 2021). \n",
    "\n",
    "Luennolla tehtiin käytännön työväline, joka pystyy tekemään päätöksen myönnetäänkö asiakkaalle laina vai ei. Esimerkissä valittiin käytettäväksi SDG regressor algoritmia. Ennen varsinaisen mallin rakentamista prosessoitiin dataa hieman, mm. käsittelemällä kategorisia muuttujia (hot encoding) ja täydentämällä puuttuvia tietoja kyseisten muuttujien keskiarvoilla (imputointi). Lisäksi päätettiin muuttujat, jotka jäävät osaksi analyysiä ja jaettiin syöte opetus- ja testiaineistoon. Mallin opettamisen ja testaamisen jälkeen sen suoriutumista voidaan arvioida tarkkuus-arvon tai confusion matrixin avulla (Huhtamäki 2021).\n",
    "\n",
    "Omassa harjoitustyössäni tein piirteiden suunnittelua erottelemalla datasta uusia piirteitä toisaalta karsimalla pois \"turhia\" piirteitä. Käsittelin myös kategorisia muuttujia ja tein tyyppimuunnoksia. Jaoin datan opetus- ja testiaineistoon, jonka jälkeen opetin muutaman erilaisen regressiomallin (DecisionTreeRegressor, RandomForestRegressor ja GradientBoostingRegressor) datan avulla ja testasin niitä. Näistä RandomForestRegressor todettiin tarkkuudeltaan parhaaksi."
   ]
  },
  {
   "cell_type": "markdown",
   "metadata": {},
   "source": [
    "### Viisi tärkeintä asiaa"
   ]
  },
  {
   "cell_type": "markdown",
   "metadata": {},
   "source": [
    "1. Supervised Learning Workflow\n",
    "2. Yksi koneoppimisen kategoria on ohjattu oppiminen.\n",
    "3. Ohjatun oppimisen algoritmeja ovat luokittelu- ja regressioalgoritmit.\n",
    "4. Koneoppiminen ja neuroverkot tulevat olemaan merkittävimpiä tekoälyteknologioita lähivuosina.\n",
    "5. Piirteiden suunnittelun avulla voidaan rakentaa parempia ja toimivampia koneoppimismalleja. "
   ]
  },
  {
   "cell_type": "markdown",
   "metadata": {},
   "source": [
    "### Kehitysideat"
   ]
  },
  {
   "cell_type": "markdown",
   "metadata": {},
   "source": [
    "1. Tekoälyä käsitteenä voisi käydä käsitteenä tarkemmin läpi ja sitä mitä kaikkea se oikeastaan sisältää. Se on ainakin itselleni ehkä jonkin verran häilyvä käsite."
   ]
  },
  {
   "cell_type": "markdown",
   "metadata": {},
   "source": [
    "### Koodidemo"
   ]
  },
  {
   "cell_type": "code",
   "execution_count": 37,
   "metadata": {},
   "outputs": [],
   "source": [
    "import matplotlib.pyplot as plt\n",
    "import pandas as pd\n",
    "from pandas import read_csv\n",
    "import sklearn\n",
    "from pandas.plotting import scatter_matrix\n",
    "from sklearn.model_selection import train_test_split\n",
    "from sklearn.linear_model import LogisticRegression\n",
    "from sklearn.tree import DecisionTreeClassifier\n",
    "from sklearn.neighbors import KNeighborsClassifier\n",
    "from sklearn.discriminant_analysis import LinearDiscriminantAnalysis\n",
    "from sklearn.naive_bayes import GaussianNB\n",
    "from sklearn.model_selection import cross_val_score, StratifiedKFold\n",
    "#from sklearn.model_selection import StratifiedKFold\n",
    "from sklearn.metrics import classification_report, confusion_matrix, accuracy_score\n",
    "#from sklearn.metrics import confusion_matrix\n",
    "#from sklearn.metrics import accuracy_score\n",
    "from sklearn.svm import SVC"
   ]
  },
  {
   "cell_type": "code",
   "execution_count": 38,
   "metadata": {},
   "outputs": [
    {
     "name": "stdout",
     "output_type": "stream",
     "text": [
      "(150, 5)\n"
     ]
    }
   ],
   "source": [
    "# Haetaan datasetti ja tallennetaan se dataframeen.\n",
    "url = \"https://raw.githubusercontent.com/jbrownlee/Datasets/master/iris.csv\"\n",
    "names = ['sepal-length', 'sepal-width', 'petal-length', 'petal-width', 'class']\n",
    "dataset = read_csv(url, names=names)\n",
    "print(dataset.shape)"
   ]
  },
  {
   "cell_type": "code",
   "execution_count": 39,
   "metadata": {},
   "outputs": [
    {
     "data": {
      "text/html": [
       "<div>\n",
       "<style scoped>\n",
       "    .dataframe tbody tr th:only-of-type {\n",
       "        vertical-align: middle;\n",
       "    }\n",
       "\n",
       "    .dataframe tbody tr th {\n",
       "        vertical-align: top;\n",
       "    }\n",
       "\n",
       "    .dataframe thead th {\n",
       "        text-align: right;\n",
       "    }\n",
       "</style>\n",
       "<table border=\"1\" class=\"dataframe\">\n",
       "  <thead>\n",
       "    <tr style=\"text-align: right;\">\n",
       "      <th></th>\n",
       "      <th>sepal-length</th>\n",
       "      <th>sepal-width</th>\n",
       "      <th>petal-length</th>\n",
       "      <th>petal-width</th>\n",
       "      <th>class</th>\n",
       "    </tr>\n",
       "  </thead>\n",
       "  <tbody>\n",
       "    <tr>\n",
       "      <th>0</th>\n",
       "      <td>5.1</td>\n",
       "      <td>3.5</td>\n",
       "      <td>1.4</td>\n",
       "      <td>0.2</td>\n",
       "      <td>Iris-setosa</td>\n",
       "    </tr>\n",
       "    <tr>\n",
       "      <th>1</th>\n",
       "      <td>4.9</td>\n",
       "      <td>3.0</td>\n",
       "      <td>1.4</td>\n",
       "      <td>0.2</td>\n",
       "      <td>Iris-setosa</td>\n",
       "    </tr>\n",
       "    <tr>\n",
       "      <th>2</th>\n",
       "      <td>4.7</td>\n",
       "      <td>3.2</td>\n",
       "      <td>1.3</td>\n",
       "      <td>0.2</td>\n",
       "      <td>Iris-setosa</td>\n",
       "    </tr>\n",
       "    <tr>\n",
       "      <th>3</th>\n",
       "      <td>4.6</td>\n",
       "      <td>3.1</td>\n",
       "      <td>1.5</td>\n",
       "      <td>0.2</td>\n",
       "      <td>Iris-setosa</td>\n",
       "    </tr>\n",
       "    <tr>\n",
       "      <th>4</th>\n",
       "      <td>5.0</td>\n",
       "      <td>3.6</td>\n",
       "      <td>1.4</td>\n",
       "      <td>0.2</td>\n",
       "      <td>Iris-setosa</td>\n",
       "    </tr>\n",
       "  </tbody>\n",
       "</table>\n",
       "</div>"
      ],
      "text/plain": [
       "   sepal-length  sepal-width  petal-length  petal-width        class\n",
       "0           5.1          3.5           1.4          0.2  Iris-setosa\n",
       "1           4.9          3.0           1.4          0.2  Iris-setosa\n",
       "2           4.7          3.2           1.3          0.2  Iris-setosa\n",
       "3           4.6          3.1           1.5          0.2  Iris-setosa\n",
       "4           5.0          3.6           1.4          0.2  Iris-setosa"
      ]
     },
     "execution_count": 39,
     "metadata": {},
     "output_type": "execute_result"
    }
   ],
   "source": [
    "dataset.head()"
   ]
  },
  {
   "cell_type": "code",
   "execution_count": 9,
   "metadata": {},
   "outputs": [
    {
     "name": "stdout",
     "output_type": "stream",
     "text": [
      "       sepal-length  sepal-width  petal-length  petal-width\n",
      "count    150.000000   150.000000    150.000000   150.000000\n",
      "mean       5.843333     3.054000      3.758667     1.198667\n",
      "std        0.828066     0.433594      1.764420     0.763161\n",
      "min        4.300000     2.000000      1.000000     0.100000\n",
      "25%        5.100000     2.800000      1.600000     0.300000\n",
      "50%        5.800000     3.000000      4.350000     1.300000\n",
      "75%        6.400000     3.300000      5.100000     1.800000\n",
      "max        7.900000     4.400000      6.900000     2.500000\n"
     ]
    }
   ],
   "source": [
    "# Tulostetaan yhteenveto muuttujista.\n",
    "print(dataset.describe())"
   ]
  },
  {
   "cell_type": "code",
   "execution_count": 10,
   "metadata": {},
   "outputs": [
    {
     "name": "stdout",
     "output_type": "stream",
     "text": [
      "class\n",
      "Iris-setosa        50\n",
      "Iris-versicolor    50\n",
      "Iris-virginica     50\n",
      "dtype: int64\n"
     ]
    }
   ],
   "source": [
    "# Tarkastetaan kuinka monta riviä kuuluu mihinkin luokkaan.\n",
    "print(dataset.groupby('class').size())"
   ]
  },
  {
   "cell_type": "code",
   "execution_count": 13,
   "metadata": {},
   "outputs": [
    {
     "data": {
      "image/png": "[encoded data removed]",
      "text/plain": [
       "<Figure size 432x288 with 4 Axes>"
      ]
     },
     "metadata": {
      "needs_background": "light"
     },
     "output_type": "display_data"
    }
   ],
   "source": [
    "# Visualisoidaan dataa, jotta saadaan ideaa muuttujien jakautuneisuudesta.\n",
    "dataset.plot(kind='box', subplots=True, layout=(2, 2), sharex=False, sharey=False)\n",
    "plt.show()"
   ]
  },
  {
   "cell_type": "code",
   "execution_count": 14,
   "metadata": {},
   "outputs": [
    {
     "data": {
      "image/png": "[encoded data removed]",
      "text/plain": [
       "<Figure size 432x288 with 4 Axes>"
      ]
     },
     "metadata": {
      "needs_background": "light"
     },
     "output_type": "display_data"
    }
   ],
   "source": [
    "dataset.hist()\n",
    "plt.show()"
   ]
  },
  {
   "cell_type": "code",
   "execution_count": 17,
   "metadata": {},
   "outputs": [
    {
     "data": {
      "image/png": "[encoded data removed]",
      "text/plain": [
       "<Figure size 432x288 with 16 Axes>"
      ]
     },
     "metadata": {
      "needs_background": "light"
     },
     "output_type": "display_data"
    }
   ],
   "source": [
    "# Tarkastellaan suhteita muuttujien välillä.\n",
    "scatter_matrix(dataset)\n",
    "plt.show()"
   ]
  },
  {
   "cell_type": "code",
   "execution_count": 40,
   "metadata": {},
   "outputs": [],
   "source": [
    "# Jaetaan datasetti osiin, joita käytetään datan kouluttamiseen ja arviointiin.\n",
    "# Osa datasta pidetään validointiaineistona, jonka avulla mallin tarkkuutta testataan.\n",
    "array = dataset.values\n",
    "X = array[:,0:4]\n",
    "Y = array[:, 4]\n",
    "X_train, X_validation, Y_train, Y_validation = train_test_split(X, Y, test_size=0.20, random_state=1)"
   ]
  },
  {
   "cell_type": "code",
   "execution_count": 32,
   "metadata": {},
   "outputs": [
    {
     "name": "stdout",
     "output_type": "stream",
     "text": [
      "LR: 0.941667 (0.065085)\n",
      "LDA: 0.975000 (0.038188)\n",
      "KNN: 0.958333 (0.041667)\n",
      "CART: 0.941667 (0.053359)\n",
      "NB: 0.950000 (0.055277)\n",
      "SVM: 0.983333 (0.033333)\n"
     ]
    }
   ],
   "source": [
    "# Rakennetaan ja arvioidaan mallit.\n",
    "models = []\n",
    "models.append(('LR', LogisticRegression(solver='liblinear', multi_class='ovr')))\n",
    "models.append(('LDA', LinearDiscriminantAnalysis()))\n",
    "models.append(('KNN', KNeighborsClassifier()))\n",
    "models.append(('CART', DecisionTreeClassifier()))\n",
    "models.append(('NB', GaussianNB()))\n",
    "models.append(('SVM', SVC(gamma='auto')))\n",
    "\n",
    "results = []\n",
    "names = []\n",
    "for name, model in models:\n",
    "    kfold = StratifiedKFold(n_splits=10, random_state=1, shuffle=True)\n",
    "    cv_results = cross_val_score(model, X_train, Y_train, cv=kfold, scoring='accuracy')\n",
    "    results.append(cv_results)\n",
    "    names.append(name)\n",
    "    print('%s: %f (%f)' % (name, cv_results.mean(), cv_results.std()))"
   ]
  },
  {
   "cell_type": "code",
   "execution_count": 33,
   "metadata": {},
   "outputs": [
    {
     "data": {
      "image/png": "[encoded data removed]",
      "text/plain": [
       "<Figure size 432x288 with 1 Axes>"
      ]
     },
     "metadata": {
      "needs_background": "light"
     },
     "output_type": "display_data"
    }
   ],
   "source": [
    "# Arvioidaan malleja visualisoinnin avulla.\n",
    "plt.boxplot(results, labels=names)\n",
    "plt.title('Algorithm Comparison')\n",
    "plt.show()\n",
    "# Support Vector Machines (SVM) näyttää saavan parhaan tarkkuusarvon vertailussa."
   ]
  },
  {
   "cell_type": "code",
   "execution_count": 35,
   "metadata": {},
   "outputs": [
    {
     "name": "stdout",
     "output_type": "stream",
     "text": [
      "0.9666666666666667\n",
      "[[11  0  0]\n",
      " [ 0 12  1]\n",
      " [ 0  0  6]]\n",
      "                 precision    recall  f1-score   support\n",
      "\n",
      "    Iris-setosa       1.00      1.00      1.00        11\n",
      "Iris-versicolor       1.00      0.92      0.96        13\n",
      " Iris-virginica       0.86      1.00      0.92         6\n",
      "\n",
      "       accuracy                           0.97        30\n",
      "      macro avg       0.95      0.97      0.96        30\n",
      "   weighted avg       0.97      0.97      0.97        30\n",
      "\n"
     ]
    }
   ],
   "source": [
    "# Valitaan malliksi SVM ja tehdään sen avulla ennusteita.\n",
    "# Sovitetaan malli opetettuun datasettiin ja tehdään ennusteita validointia varten säästetyn datasetin avulla.\n",
    "model = SVC(gamma='auto')\n",
    "model.fit(X_train, Y_train)\n",
    "predictions = model.predict(X_validation)\n",
    "\n",
    "# Arvioidaan ennusteita.\n",
    "print(accuracy_score(Y_validation, predictions))\n",
    "print(confusion_matrix(Y_validation, predictions))\n",
    "print(classification_report(Y_validation, predictions))\n",
    "# Tarkkuus on 96 %.\n",
    "# Confusion matrix kertoo tehdyistä virheistä.\n",
    "# Brownlee, J. (2019). Your First Machine Learning Project in Python Step-By-Step. https://machinelearningmastery.com/machine-learning-in-python-step-by-step/"
   ]
  },
  {
   "cell_type": "markdown",
   "metadata": {},
   "source": [
    "## Viikko 4"
   ]
  },
  {
   "cell_type": "markdown",
   "metadata": {},
   "source": [
    "Viikolla neljä osallistuin opetukseen katsomalla luentotallenteen jälkikäteen. Demosessioon osallistuin livenä. Oppimispäiväkirjassa on hyödynnetty luentorunkoa, demosessiota ja muuta luennon ohessa esiteltyä aineistoa. Luentoviikolla 4 syvennyttiin harjoitustyöprosessiin."
   ]
  },
  {
   "cell_type": "markdown",
   "metadata": {},
   "source": [
    "Luennolla käytiin läpi harjoitustyön tekemistä CRISP-DM mallin mukaisesti. CRISP-DM malli on pääasiallinen prosessimalli, jota käytetään datatiedeprojeteissa. Sen keskiössä on liiketoiminnan ymmärtäminen (KDnuggets 2014). Mallin tavoitteena on korostaa, että todellisen maalilman datatiedeprojekteissa lähtökohtana on liiketoimintaongelma, ei data. Prosessissa voi hyödyntää kehikkoa mahdollisuuksien tunnistamiseen (Huhtamäki 2021). Kehikko on kehitetty hyödyntäen liiketoiminta- ja lean-kehikkoja, jotka ovat hyviä työkaluja uusista tuotteista keskustellessa. Mahdollisuuksien kehikko tosin olettaa, että tuote on jo olemassa. Koska tuotteeseen voitaisiin lisätä niin paljon hyviä ominaisuuksia, niin on otettava huomioon käyttäjän ongelmat, joita yritetään ratkaista. On mietittävä, miten käyttäjä käyttää ratkaisuita ongelmiensa ratkaisemiseksi (Patton 2020).\n",
    "\n",
    "Lähdetään dataprojektissa liikkeelle liiketoiminnan ymmärtämisestä ja siitä, miten voidaan tuottaa datan avulla arvoa liiketoiminnalle. Ensin on luotava jonkinlainen arviointikehikko sille, miten voidaan arvioida datan tuottamaa arvoa liiketoimintaprosessille. Harjoitustyössä on olennaista päättää jokin selkeä kysymys, johon vastata datan avulla ja vasta sitten pohtia, onko tarvittavaa dataa saatavilla (Huhtamäki 2021). Toimialan sidosryhmät haluavat tietää, auttavatko tehdyt analytiikkainvestoinnit tekemään parempia, nopeampia ja älykkäämpiä päätöksiä mitattavissa olevilla liiketoiminnan tuloksilla. Ensimmäinen tekijä analytiikkainvestoinnin onnistumisen arvioinnissa on tuloksena olevien liiketoimintapäätösten laatu, tyypilillisesti mitattuna jollakin keskeisellä suorituskykyindikaattorilla (KPI), kuten voitto, asiakaspalvelu tai kustannukset. Mutta miten mitata päätöksen laatua ennen päätöksen tosiasiallista toteuttamista? Avain on siepata KPI:t päätöksenteko-optimointimalleihin, joissa ne heijastavat suoraan vaihtoehtoisten päätösten, suunnitelmien ja aikataulujen vaikutusta. Toinen tekijä on nopeus, jota pyritään saavuttamaan optimointimallien ja automaation avulla. Nopeampi aikataulu tarkoittaa lyhyempiä toimitusaikoja ja nopeampaa markkinoille tuloa, jotka tuottavat merkittävää kilpailuetua. Kolmas ja usein unohdettu tekijä on kestävyys. Päätös, suunnitelma tai aikataulu on vankka, kun se tuottaa edelleen hyviä tuloksia, vaikka ympäröivä maailma muuttuisi. Kestävämpään päätöksentekoon pyritään yhdistelemällä optimointia ja koneoppimista (van den Heever 2017).\n",
    "\n",
    "Kun kysymys johon harjoitustyössä halutaan vastata on valittu, niin tulee pohtia, mistä saadaan tarvittava data kysymykseen vastaamiseksi. On mahdollista käyttää esimerkiksi organisaation itse luomaa dataa, mutta tällöin tulee arvioida mahdollisuuksien mukaan, millaisia datalähteitä organisaatiolla on käytössään. Toinen vaihtoehto on käyttää API-rajapintoja, joiden takaa löytyy vaikka minkälaisia datalähteitä, joista voi olla hyötyä harjoitustyössä. Kolmas vaihtoehto on etsiä avointa dataa, jota varsinkin julkiset toimijat ovat omalta osaltaa lähteneet julkaisemaan aika aktiivisestikin (Huhtamäki 2021). \n",
    "\n",
    "Kun aineisto on valittu ja hankittu, niin dataa tulee tarkastella ja selvittää mitä se pitää sisällään. Tässä kohtaa kannattaa miettiä alkuperäistä kysymystä ja pohtia mitä käytössä olevat muuttujat ovat ja mihin ne voivat vastata. Kun data on ymmärretty, niin sen jälkeen se voidaan putsata. Putsaaminen voi sisältää esimerkiksi kirjoitusvirheiden korjausta tai muuttujien muuntamista. Seuraava vaihe on datan rikastaminen, jossa pyritään yhdstämään eri lähteistä tulevat datat yhdeksi. Tavoitteena tulisi olla muuntaa data sellaiseen muotoon, jossa alkuperäiselle kysymykselle arvokkaat piirteet olisivat tunnistettavissa (Huhtamäki 2021). \n",
    "\n",
    "Dataa visualisoitaessa tulee kriittisesti arvioida, millaiset kuvat ovat arvokkaita loppukäyttäjälle. Kaikesta ei kannata tehdä visualisointeja vain siksi, että voi. Tulisi pystyä selittämään, miksi joku tietty kuvaaja on arvokas asiaa analysoivalle loppukäyttälle. Visualisointeja tehtäessä tulisi pystyä valitsemaan oikeat muuttujat useiden muiden muuttujien joukosta. Visualisoinnin jälkeen dataa voidaan ruveta mallintamaan. Tässä vaiheessa mieleen kannattaa palauttaa alkuperäinen kysymys ja ottaa se huomioon mallin valinnassa. Tässä voi käyttää apuna esimerkiksi scikit-learn-kirjaston algoritmi \"cheat-sheetiä\". Analyysi tulee harvoin valmiiksi mallin valitsemisen jälkeen, vaan prosessi jatkuu iteroimalla. Kun analyysiprosessin on käynyt kertaalleen läpi, niin dataa voi mahdollisesti haluta täydentää uudella datalla tai rikastaa ja mallintaa sitä toisella tavalla. Prosessin myötä voi myös herätä kokonaan uusia kysymyksiä, joihin etsiä vastausta (Huhtamäki 2021).\n",
    "\n",
    "Koen, että liiketoiminnan ymmärtäminen ja oikean kysymyksen löytäminen on varmasti itselleni vaikein osa harjoitustyötä. Olin ajatellut käyttää harjoitustyössä AirBnB-datasettejä, ja haluaisin löytää jonkin hyvän kysymyksen johon lähden datan avulla etsimään vastausta. En siis haluasi toteuttaa valmista esimerkkiä hintaennustimesta, vaan lähteä hieman haastamaan itseäni koettamalla miettiä jotain toista ongelmaa/kysymystä. Pidän avoinna myös mahdollisuutta käyttää jotain muuta, kuin AirBnB-dataa.\n",
    "\n",
    "Harjoitustyön teon lomassa huomasin vahvasti tarpeen iteroimiselle. Halusin vielä esimerkiksi erotella uusia piirteitä datasta ja visualisointien kautta huomasin myös, että dataa pitää vielä siivota. Visualisointeja olisi tehnyt mieli kehittää eteenpäin ja myös testata erilaisia malleja. Uskon siis todellakin sen, että juuri koskaan datatiedeprojekti ei tule valmiiksi ilman iterointia. \n",
    "\n",
    "Koska osallistuin luennolle vasta jälkikäteen katsomalla tallenteen, niin on jonkin verran vaikeaa arvioida, miten vuorovaikutteinen break-out-ryhmätyöskentely lopulta sujui. Tallenteen perusteella arvioisin, että se olisi voinut sujua paremminkin. Tähän vaikutti todennäköisesti ainakin luennolle livenä osallistuneiden määrä, joka oli verrattain pieni koko kurssin osallistujamäärään suhteutettuna. Esimerkiksi Flingaan kirjattiin vain yksi tai kaksi AirBnb-caseen liittyvää ongelmaa. Tämä kielii ehkä siitä, että muillakin on vaikeuksia keksiä hyviä kysymyksiä ja ongelmia, joihin harjoitustyössä lähdettäisiin hakemaan vastausta. Ideana vuorovaikutteisempi työskentely luennolla on mielestäni hyvä, ja varmasti joissan tapauksissa voisi toimia paremmin. Koska moni varmasti pohtii juurikin sitä oikeaa kysymystä, niin erityisesti siinä voisi autaa kurssikaverien kanssa yhdessä ideoiminen."
   ]
  },
  {
   "cell_type": "markdown",
   "metadata": {},
   "source": [
    "### Viisi tärkeintä asiaa"
   ]
  },
  {
   "cell_type": "markdown",
   "metadata": {},
   "source": [
    "1. Mahdollisuuksien tunnistamisen kehikko\n",
    "2. Liiketoiminnan ymmärtäminen ja arvonluonti liiketoimintaprosessille datan avulla\n",
    "3. Analytiikan hyötyjen mittaaminen\n",
    "4. Datan hankkiminen, ymmärtäminen, putsaaminen ja visualisointi\n",
    "5. Mallintaminen ja iterointi, scikit-learn algorithm cheat-sheet"
   ]
  },
  {
   "cell_type": "markdown",
   "metadata": {},
   "source": [
    "### Kehitysideat"
   ]
  },
  {
   "cell_type": "markdown",
   "metadata": {},
   "source": [
    "1. Voisiko ennen luentoa olla \"pakollisena\" tehtävänä jokaiselle keksiä hyvä kysymys tai kiinnostava ongelmia AirBnB-casesta, joka tulisi sitten kirjata Flingaan. Parhaat ideat voitaisiin nostaa esiin tykkäysten perusteella ja niitä voitaisiin jatkojalostaa. Tällaisen prosessin avulla voisi löytyä usempikin kiinnostava ongelma kurssin opiskelijoiden ratkaistavaksi. Tiedostan, että tämän kaltainen työnkulku oli tavoitteena myös luennolla, mutta kaatui ideoiden vähäiseen määrään. Etukäteen ideointi ja \"pakollisuus\" lisäisivät toivottavasti tuotettujen ideoiden määrää. Ideoita voisivat tuottaa myös ne, jotka eivät pääse osallistumaan luennolle reaaliajassa."
   ]
  },
  {
   "cell_type": "markdown",
   "metadata": {},
   "source": [
    "### Koodidemo"
   ]
  },
  {
   "cell_type": "code",
   "execution_count": 23,
   "metadata": {},
   "outputs": [],
   "source": [
    "# Importatataan kirjastot\n",
    "import pandas as pd\n",
    "import numpy as np\n",
    "\n",
    "from sklearn import preprocessing\n",
    "from sklearn import linear_model\n",
    "from sklearn.model_selection import cross_val_predict\n",
    "\n",
    "import matplotlib.pyplot as plt"
   ]
  },
  {
   "cell_type": "code",
   "execution_count": 3,
   "metadata": {},
   "outputs": [
    {
     "data": {
      "text/html": [
       "<div>\n",
       "<style scoped>\n",
       "    .dataframe tbody tr th:only-of-type {\n",
       "        vertical-align: middle;\n",
       "    }\n",
       "\n",
       "    .dataframe tbody tr th {\n",
       "        vertical-align: top;\n",
       "    }\n",
       "\n",
       "    .dataframe thead th {\n",
       "        text-align: right;\n",
       "    }\n",
       "</style>\n",
       "<table border=\"1\" class=\"dataframe\">\n",
       "  <thead>\n",
       "    <tr style=\"text-align: right;\">\n",
       "      <th></th>\n",
       "      <th>age</th>\n",
       "      <th>sex</th>\n",
       "      <th>bmi</th>\n",
       "      <th>children</th>\n",
       "      <th>smoker</th>\n",
       "      <th>region</th>\n",
       "      <th>charges</th>\n",
       "    </tr>\n",
       "  </thead>\n",
       "  <tbody>\n",
       "    <tr>\n",
       "      <th>0</th>\n",
       "      <td>19</td>\n",
       "      <td>female</td>\n",
       "      <td>27.900</td>\n",
       "      <td>0</td>\n",
       "      <td>yes</td>\n",
       "      <td>southwest</td>\n",
       "      <td>16884.92400</td>\n",
       "    </tr>\n",
       "    <tr>\n",
       "      <th>1</th>\n",
       "      <td>18</td>\n",
       "      <td>male</td>\n",
       "      <td>33.770</td>\n",
       "      <td>1</td>\n",
       "      <td>no</td>\n",
       "      <td>southeast</td>\n",
       "      <td>1725.55230</td>\n",
       "    </tr>\n",
       "    <tr>\n",
       "      <th>2</th>\n",
       "      <td>28</td>\n",
       "      <td>male</td>\n",
       "      <td>33.000</td>\n",
       "      <td>3</td>\n",
       "      <td>no</td>\n",
       "      <td>southeast</td>\n",
       "      <td>4449.46200</td>\n",
       "    </tr>\n",
       "    <tr>\n",
       "      <th>3</th>\n",
       "      <td>33</td>\n",
       "      <td>male</td>\n",
       "      <td>22.705</td>\n",
       "      <td>0</td>\n",
       "      <td>no</td>\n",
       "      <td>northwest</td>\n",
       "      <td>21984.47061</td>\n",
       "    </tr>\n",
       "    <tr>\n",
       "      <th>4</th>\n",
       "      <td>32</td>\n",
       "      <td>male</td>\n",
       "      <td>28.880</td>\n",
       "      <td>0</td>\n",
       "      <td>no</td>\n",
       "      <td>northwest</td>\n",
       "      <td>3866.85520</td>\n",
       "    </tr>\n",
       "  </tbody>\n",
       "</table>\n",
       "</div>"
      ],
      "text/plain": [
       "   age     sex     bmi  children smoker     region      charges\n",
       "0   19  female  27.900         0    yes  southwest  16884.92400\n",
       "1   18    male  33.770         1     no  southeast   1725.55230\n",
       "2   28    male  33.000         3     no  southeast   4449.46200\n",
       "3   33    male  22.705         0     no  northwest  21984.47061\n",
       "4   32    male  28.880         0     no  northwest   3866.85520"
      ]
     },
     "execution_count": 3,
     "metadata": {},
     "output_type": "execute_result"
    }
   ],
   "source": [
    "# luetaan data.\n",
    "df = pd.read_csv('insurance.csv')\n",
    "\n",
    "df.head()"
   ]
  },
  {
   "cell_type": "code",
   "execution_count": 27,
   "metadata": {},
   "outputs": [
    {
     "data": {
      "text/html": [
       "<div>\n",
       "<style scoped>\n",
       "    .dataframe tbody tr th:only-of-type {\n",
       "        vertical-align: middle;\n",
       "    }\n",
       "\n",
       "    .dataframe tbody tr th {\n",
       "        vertical-align: top;\n",
       "    }\n",
       "\n",
       "    .dataframe thead th {\n",
       "        text-align: right;\n",
       "    }\n",
       "</style>\n",
       "<table border=\"1\" class=\"dataframe\">\n",
       "  <thead>\n",
       "    <tr style=\"text-align: right;\">\n",
       "      <th></th>\n",
       "      <th>age</th>\n",
       "      <th>bmi</th>\n",
       "      <th>smoker</th>\n",
       "      <th>charges</th>\n",
       "    </tr>\n",
       "  </thead>\n",
       "  <tbody>\n",
       "    <tr>\n",
       "      <th>0</th>\n",
       "      <td>19</td>\n",
       "      <td>27</td>\n",
       "      <td>1</td>\n",
       "      <td>16884</td>\n",
       "    </tr>\n",
       "    <tr>\n",
       "      <th>1</th>\n",
       "      <td>18</td>\n",
       "      <td>33</td>\n",
       "      <td>0</td>\n",
       "      <td>1725</td>\n",
       "    </tr>\n",
       "    <tr>\n",
       "      <th>2</th>\n",
       "      <td>28</td>\n",
       "      <td>33</td>\n",
       "      <td>0</td>\n",
       "      <td>4449</td>\n",
       "    </tr>\n",
       "    <tr>\n",
       "      <th>3</th>\n",
       "      <td>33</td>\n",
       "      <td>22</td>\n",
       "      <td>0</td>\n",
       "      <td>21984</td>\n",
       "    </tr>\n",
       "    <tr>\n",
       "      <th>4</th>\n",
       "      <td>32</td>\n",
       "      <td>28</td>\n",
       "      <td>0</td>\n",
       "      <td>3866</td>\n",
       "    </tr>\n",
       "  </tbody>\n",
       "</table>\n",
       "</div>"
      ],
      "text/plain": [
       "   age  bmi  smoker  charges\n",
       "0   19   27       1    16884\n",
       "1   18   33       0     1725\n",
       "2   28   33       0     4449\n",
       "3   33   22       0    21984\n",
       "4   32   28       0     3866"
      ]
     },
     "execution_count": 27,
     "metadata": {},
     "output_type": "execute_result"
    }
   ],
   "source": [
    "# Poistetaan dataframesta osa sarakkeista joita ei oteta mukaan analyysiin.\n",
    "df = df[['age', 'bmi', 'smoker', 'charges']]\n",
    "df.head()"
   ]
  },
  {
   "cell_type": "code",
   "execution_count": 28,
   "metadata": {},
   "outputs": [
    {
     "name": "stdout",
     "output_type": "stream",
     "text": [
      "[1 0]\n"
     ]
    }
   ],
   "source": [
    "print(df.smoker.unique())"
   ]
  },
  {
   "cell_type": "code",
   "execution_count": 32,
   "metadata": {},
   "outputs": [
    {
     "data": {
      "text/html": [
       "<div>\n",
       "<style scoped>\n",
       "    .dataframe tbody tr th:only-of-type {\n",
       "        vertical-align: middle;\n",
       "    }\n",
       "\n",
       "    .dataframe tbody tr th {\n",
       "        vertical-align: top;\n",
       "    }\n",
       "\n",
       "    .dataframe thead th {\n",
       "        text-align: right;\n",
       "    }\n",
       "</style>\n",
       "<table border=\"1\" class=\"dataframe\">\n",
       "  <thead>\n",
       "    <tr style=\"text-align: right;\">\n",
       "      <th></th>\n",
       "      <th>age</th>\n",
       "      <th>bmi</th>\n",
       "      <th>smoker</th>\n",
       "      <th>charges</th>\n",
       "    </tr>\n",
       "  </thead>\n",
       "  <tbody>\n",
       "    <tr>\n",
       "      <th>0</th>\n",
       "      <td>19</td>\n",
       "      <td>27</td>\n",
       "      <td>1</td>\n",
       "      <td>16884</td>\n",
       "    </tr>\n",
       "    <tr>\n",
       "      <th>1</th>\n",
       "      <td>18</td>\n",
       "      <td>33</td>\n",
       "      <td>0</td>\n",
       "      <td>1725</td>\n",
       "    </tr>\n",
       "    <tr>\n",
       "      <th>2</th>\n",
       "      <td>28</td>\n",
       "      <td>33</td>\n",
       "      <td>0</td>\n",
       "      <td>4449</td>\n",
       "    </tr>\n",
       "    <tr>\n",
       "      <th>3</th>\n",
       "      <td>33</td>\n",
       "      <td>22</td>\n",
       "      <td>0</td>\n",
       "      <td>21984</td>\n",
       "    </tr>\n",
       "    <tr>\n",
       "      <th>4</th>\n",
       "      <td>32</td>\n",
       "      <td>28</td>\n",
       "      <td>0</td>\n",
       "      <td>3866</td>\n",
       "    </tr>\n",
       "  </tbody>\n",
       "</table>\n",
       "</div>"
      ],
      "text/plain": [
       "   age  bmi  smoker  charges\n",
       "0   19   27       1    16884\n",
       "1   18   33       0     1725\n",
       "2   28   33       0     4449\n",
       "3   33   22       0    21984\n",
       "4   32   28       0     3866"
      ]
     },
     "execution_count": 32,
     "metadata": {},
     "output_type": "execute_result"
    }
   ],
   "source": [
    "# Muunnetaan smoker -muuttujasta kategorinen.\n",
    "le = preprocessing.LabelEncoder()\n",
    "arr = le.fit_transform(df.smoker)\n",
    "df.smoker = arr\n",
    "df.head()"
   ]
  },
  {
   "cell_type": "code",
   "execution_count": 30,
   "metadata": {},
   "outputs": [
    {
     "data": {
      "image/png": "[encoded data removed]",
      "text/plain": [
       "<Figure size 1440x720 with 1 Axes>"
      ]
     },
     "metadata": {
      "needs_background": "light"
     },
     "output_type": "display_data"
    }
   ],
   "source": [
    "# Suoritetaan lineaarinen regressio.\n",
    "lr = linear_model.LinearRegression()\n",
    "\n",
    "# Määritetään x ja y.\n",
    "y = df.charges\n",
    "X = df.drop(columns='charges')\n",
    "\n",
    "predict = cross_val_predict(lr, X, y, cv=10)\n",
    "\n",
    "fig, ax = plt.subplots(figsize=(20, 10))\n",
    "ax.scatter(y, predict, edgecolors=(0, 0, 0))\n",
    "ax.plot([y.min(), y.max()], [y.min(), y.max()], 'k--', lw=4)\n",
    "ax.set_xlabel('Measured')\n",
    "ax.set_ylabel('Predicted')\n",
    "plt.show()"
   ]
  },
  {
   "cell_type": "code",
   "execution_count": 31,
   "metadata": {},
   "outputs": [
    {
     "name": "stdout",
     "output_type": "stream",
     "text": [
      "              age       bmi    smoker   charges\n",
      "age      1.000000  0.108437 -0.025019  0.299009\n",
      "bmi      0.108437  1.000000  0.001669  0.196188\n",
      "smoker  -0.025019  0.001669  1.000000  0.787251\n",
      "charges  0.299009  0.196188  0.787251  1.000000\n"
     ]
    }
   ],
   "source": [
    "# Tulostetaan Pearsonin korrelaatiokertoimet.\n",
    "print(df.corr())"
   ]
  },
  {
   "cell_type": "code",
   "execution_count": null,
   "metadata": {},
   "outputs": [],
   "source": [
    "# Skenderi, E (2021) Session 4 - Categorial and missing data. https://github.com/InfoTUNI/joda2021/blob/master/koodiesimerkit/Session%204%20-%20Categorical%20and%20Missing%20Data.ipynb"
   ]
  },
  {
   "cell_type": "markdown",
   "metadata": {},
   "source": [
    "## Viikko 5"
   ]
  },
  {
   "cell_type": "markdown",
   "metadata": {},
   "source": [
    "Viidennellä viikolla osallistuin sekä vierailuluennolle että demosessioon. Oppimispäiväkirjassa on hyödynnetty vierailijaluennolla esiteltyä työkirjaa. Vierailijaluennon pitivät Teemu Mikkonen ja Timo Lehtonen Solitalta ja siinä käsiteltiin luonnollisen kielen analyysiä."
   ]
  },
  {
   "cell_type": "markdown",
   "metadata": {},
   "source": [
    "Luonnollisen kielen prosessointi (Natural Language Processing NLP) on datatieteen erityisala, jossa lähteenä käytetään luonnollista kieltä. Luonnollisen kielen analysointi on haastavaa, koska kieli on luonteeltaan rakenteetonta. Tekstin esikäsittely, piirteiden erottaminen ja tekstin muuttaminen numeraaliseen muotoon ovat olennaisia datan jalostuskeinoja luonnollisen kielen prosessoinnissa. NLP linkittyy usein johonkin toiseen data/koneoppimisratkaisuun ja niitä hyödynnetään yhdessä (Mikkonen 2021).\n",
    "\n",
    "\n",
    "Luennolla käytiin läpi esimerkki eduskuntadatan luokittelusta, jossa luokiteltiin ministerien vastauksia kirjallisiin kysymyksiin. Prosessi alkoi kirjastojen importtauksesta ja hukkasanalistan käsittelystä, jonka jälkeen data luettiin. Sitten opetus- ja testidata luettiin csv-tiedostosta Pandasin DataFrameen. Dataan tutustuttiin hieman tarkemmin .head() ja .info() funktioiden avulla. Opetusdatan luokkien jakaumaa havainnollistettiin .value_counts() -funktion avulla, jotta saatiin parempi kuva kuhunkin luokkaan kuuluvien rivien määrästä. Data oli tässä tapauksessa jakautunut jonkin verran epätasaisesti eri luokkiin kuuluvaksi, joka herätti kysymyksen datasetin painottamisen tarpeelle. Datasettejä voi tarvittaessa tasapainottaa joko yliotannan tai aliotannan menetelmin. Yliotannassa datasettiin lisätään keinotekoisia arvoja, jotka ovat lähellä ko. tunnisteen datapisteitä. Aliotannassa taas yleisimpien luokkien datapisteiden määrää voidaan karsia, jolloin jakauma tasoittuu. Aliotannassa on ainakin se huono puoli, että siinä joudutaan poistamaan opetusdatasta monta hyvää ja käyttökelpoista riviä dataa (Mikkonen 2021).\n",
    "\n",
    "Dataan tutustumisen jälkeen voidaan aloittaa sen esikäsittely. Esikäsittelyn avulla parannetaan opetusdatan laatua, vähennetään kohinaa ja muunnetaan data sellaiseen muotoon, että sitä voidaan käyttää mallin opetukseen. Opetusdataa voidaan esikäsitellä ennen mallin opettamista mutta myös mallin opetusfunktion sisällä. Manuaalisessa esikäsittelyssä käsitellään teksti ensin niin, että kaikki isot kirjaimet muutetaan pieniksi. Sen jälkeen tekstistä poistetaan kaikki erikoismerkit. Sitten kaikki sanat muunnetaan perusmuotooon voikko-kirjaston avulla. Lisäksi teksistä poistetaan ns. \"hukkasanat\", eli sellaiset sanat, jotka eivät lisää tekstikorpuksen informaatioarvoa (Mikkonen 2021).  \n",
    "\n",
    "Manuaalisen esikäsittelyn jälkeen data on käsitelty FastText mallin opetusta varten niin, että se sisältää label -sarakkeen, jossa opetuslabelille on lisätty tunniste sekä preprocessed -sarakkeen, joka sisältää esikäsitellyn tekstin. Sen jälkeen lähdetäänkin opettamaan mallia. FastText on NLP-kirjasto, jonka avulla sanoja käsitellään vektorimuodossa. Sanojen muuntaminen vektorimuotoon on esikäsittelyä, joka tapahtuu mallin opetusfunktiossa. Mallille syötetään opetusparametreina opetusdata, luokan tunnuksen etuliite (label), iterointien määrä, mallin opettamien sanavektoreiden ulottuvuudet, muodostettavien ngramien koko ja kuinka montaa ympäröivää sanaa tulkitaan sanan kontekstiksi. Tämän jälkeen malli opetetaan funktiolla .train_supervised(). Iterointien määrää kannattaa arvioida tarkkaan, sillä riskinä voi olla datan ylisovittaminen (overfitting) (Mikkonen 2021).\n",
    "\n",
    "Mallia testataan .test() -funktiolla, joka arvioi mallin tarkkuutta. On suotavaa testata myös mallin tarkkuutta, eikä ainostaan katsoa kuinka monta ennustetta meni oikein. Testaamisen jälkeen Mikkonen sovelsi mallia ulkopuoliseen datalähteeseen. Esimerkissä datalähteenä käytettiin ministerien twiittejä ja pyrittiin ennustamaan kuka ministeri twiitin oli kirjoittanut. Malli onnistui ennustamaan twiiteille oikeat luokat (Mikkonen 2021). \n",
    "\n",
    "NLP-prosessi eteni luennon esimerkissä hyvin samalla tavalla kuin harjoitustyöprosessi CRISP-DM mallin mukaisesti. Se sisälsi samat vaiheet, mutta tietenkin esimerkiksi dataa jalostettiin ja mallinnettiin eri menetelmin. Luento onnistui ehdottomasti herättämään mielenkiintoni NLP:tä kohtaan ja pohtimaan oman osaamisen kehittämistä tällä saralla. Myös Solitaa ja data-akatemiaa kohtaan heräsi mielenkiinto."
   ]
  },
  {
   "cell_type": "markdown",
   "metadata": {},
   "source": [
    "### Viisi tärkeintä asiaa"
   ]
  },
  {
   "cell_type": "markdown",
   "metadata": {},
   "source": [
    "1. NLP on datatieteen erityisala, jossa käsitellään luonnollista kieltä.\n",
    "2. Hukkasanat ovat NLP-datan kohinaa, eli sellaisia sanoja, jotka eivät lisää tekstikorpuksen informaatioarvoa.\n",
    "3. Datasettejä voi olla joskus tarpeen painottaa yliotannan tai aliotannan avulla.\n",
    "4. NLP dataa esikäsitellään poistamalla erikoismerkit, muuttamalla isot alkukirjaimet pieniksi, poistamalla hukkasanat ja perusmuotoistamalla teksi.\n",
    "5. FastText -kirjaston avulla sanoja käsitellään vektorimuodossa."
   ]
  },
  {
   "cell_type": "markdown",
   "metadata": {},
   "source": [
    "### Kehitysideat"
   ]
  },
  {
   "cell_type": "markdown",
   "metadata": {},
   "source": [
    "1. Vierailijaluentoja voisi olla enemmänkin, vaikka ns. \"ylimääräisenä\" kurssin omien luentojen lisäksi. Vierailijaluento oli todella hyvä ja oli kiinnostavaa kuulla miten kurssilla opetettuja asioita hyödynnetään työelämässä."
   ]
  },
  {
   "cell_type": "markdown",
   "metadata": {},
   "source": [
    "### Koodidemo"
   ]
  },
  {
   "cell_type": "code",
   "execution_count": 33,
   "metadata": {},
   "outputs": [
    {
     "name": "stderr",
     "output_type": "stream",
     "text": [
      "[nltk_data] Downloading package punkt to\n",
      "[nltk_data]     C:\\Users\\sofia\\AppData\\Roaming\\nltk_data...\n",
      "[nltk_data]   Package punkt is already up-to-date!\n",
      "[nltk_data] Downloading package stopwords to\n",
      "[nltk_data]     C:\\Users\\sofia\\AppData\\Roaming\\nltk_data...\n",
      "[nltk_data]   Package stopwords is already up-to-date!\n"
     ]
    }
   ],
   "source": [
    "import nltk\n",
    "import re\n",
    "nltk.download('punkt')\n",
    "nltk.download('stopwords')\n",
    "from nltk.corpus import stopwords\n",
    "from nltk.stem import WordNetLemmatizer"
   ]
  },
  {
   "cell_type": "code",
   "execution_count": 23,
   "metadata": {},
   "outputs": [
    {
     "name": "stdout",
     "output_type": "stream",
     "text": [
      "natural language processing (nlp) is a subfield of linguistics, computer science, and artificial intelligence concerned with the interactions between computers and human language, in particular how to program computers to process and analyze large amounts of natural language data. the result is a computer capable of \"understanding\" the contents of documents, including the contextual nuances of the language within them. the technology can then accurately extract information and insights contained in the documents as well as categorize and organize the documents themselves.\n"
     ]
    }
   ],
   "source": [
    "# Muutetaan kaikki isot kirjaimet pieniksi.\n",
    "text = 'Natural language processing (NLP) is a subfield of linguistics, computer science, and artificial intelligence concerned with the interactions between computers and human language, in particular how to program computers to process and analyze large amounts of natural language data. The result is a computer capable of \"understanding\" the contents of documents, including the contextual nuances of the language within them. The technology can then accurately extract information and insights contained in the documents as well as categorize and organize the documents themselves.'\n",
    "lower_text = text.lower()\n",
    "print (lower_text)\n",
    "# Pema, G (2018). Getting started with NLP using NLTK. https://becominghuman.ai/nlp-for-beginners-using-nltk-f58ec22005cd"
   ]
  },
  {
   "cell_type": "code",
   "execution_count": 45,
   "metadata": {},
   "outputs": [
    {
     "name": "stdout",
     "output_type": "stream",
     "text": [
      "natural language processing nlp is a subfield of linguistics computer science and artificial intelligence concerned with the interactions between computers and human language in particular how to program computers to process and analyze large amounts of natural language data the result is a computer capable of understanding the contents of documents including the contextual nuances of the language within them the technology can then accurately extract information and insights contained in the documents as well as categorize and organize the documents themselves\n"
     ]
    }
   ],
   "source": [
    "# Poistetaan erikoismerkit.\n",
    "modified_text = re.sub(r'[^a-zA-Z0-9_\\s]+', '', lower_text)\n",
    "print(modified_string)\n",
    "# Data Science Stack Exchange (2018). https://datascience.stackexchange.com/questions/39960/remove-special-character-in-a-list-or-string"
   ]
  },
  {
   "cell_type": "code",
   "execution_count": 42,
   "metadata": {},
   "outputs": [
    {
     "name": "stdout",
     "output_type": "stream",
     "text": [
      "['natural', 'language', 'processing', 'nlp', 'is', 'a', 'subfield', 'of', 'linguistics', 'computer', 'science', 'and', 'artificial', 'intelligence', 'concerned', 'with', 'the', 'interactions', 'between', 'computers', 'and', 'human', 'language', 'in', 'particular', 'how', 'to', 'program', 'computers', 'to', 'process', 'and', 'analyze', 'large', 'amounts', 'of', 'natural', 'language', 'data', 'the', 'result', 'is', 'a', 'computer', 'capable', 'of', 'understanding', 'the', 'contents', 'of', 'documents', 'including', 'the', 'contextual', 'nuances', 'of', 'the', 'language', 'within', 'them', 'the', 'technology', 'can', 'then', 'accurately', 'extract', 'information', 'and', 'insights', 'contained', 'in', 'the', 'documents', 'as', 'well', 'as', 'categorize', 'and', 'organize', 'the', 'documents', 'themselves']\n"
     ]
    }
   ],
   "source": [
    "# Erotellaan teksti sanoiksi.\n",
    "words = []\n",
    "words = nltk.word_tokenize(modified_text)\n",
    "print(words)    \n",
    "# Yordanov, V (2018). Introduction to Natural Language Processing for Text. https://towardsdatascience.com/introduction-to-natural-language-processing-for-text-df845750fb63 "
   ]
  },
  {
   "cell_type": "code",
   "execution_count": 43,
   "metadata": {},
   "outputs": [
    {
     "name": "stdout",
     "output_type": "stream",
     "text": [
      "['natural', 'language', 'processing', 'nlp', 'subfield', 'linguistics', 'computer', 'science', 'artificial', 'intelligence', 'concerned', 'interactions', 'computers', 'human', 'language', 'particular', 'program', 'computers', 'process', 'analyze', 'large', 'amounts', 'natural', 'language', 'data', 'result', 'computer', 'capable', 'understanding', 'contents', 'documents', 'including', 'contextual', 'nuances', 'language', 'within', 'technology', 'accurately', 'extract', 'information', 'insights', 'contained', 'documents', 'well', 'categorize', 'organize', 'documents']\n"
     ]
    }
   ],
   "source": [
    "# Poistetaan hukkasanat.\n",
    "without_stop_words = []\n",
    "stop_words = set(stopwords.words(\"english\"))\n",
    "\n",
    "without_stop_words = [word for word in words if not word in stop_words]\n",
    "print(without_stop_words)\n",
    "# Yordanov, V (2018). Introduction to Natural Language Processing for Text. https://towardsdatascience.com/introduction-to-natural-language-processing-for-text-df845750fb63 "
   ]
  },
  {
   "cell_type": "code",
   "execution_count": 44,
   "metadata": {},
   "outputs": [
    {
     "name": "stdout",
     "output_type": "stream",
     "text": [
      "['natural', 'language', 'processing', 'nlp', 'subfield', 'linguistics', 'computer', 'science', 'artificial', 'intelligence', 'concerned', 'interaction', 'computer', 'human', 'language', 'particular', 'program', 'computer', 'process', 'analyze', 'large', 'amount', 'natural', 'language', 'data', 'result', 'computer', 'capable', 'understanding', 'content', 'document', 'including', 'contextual', 'nuance', 'language', 'within', 'technology', 'accurately', 'extract', 'information', 'insight', 'contained', 'document', 'well', 'categorize', 'organize', 'document']\n"
     ]
    }
   ],
   "source": [
    "# Perusmuotoistetaan sanat.\n",
    "wordnet_lemmatizer = WordNetLemmatizer()\n",
    "\n",
    "lemmatized_word = [wordnet_lemmatizer.lemmatize(word) for word in without_stop_words]\n",
    "print (lemmatized_word)\n",
    "# Pema, G (2018). Getting started with NLP using NLTK. https://becominghuman.ai/nlp-for-beginners-using-nltk-f58ec22005cd"
   ]
  },
  {
   "cell_type": "markdown",
   "metadata": {},
   "source": [
    "## Viikko 6"
   ]
  },
  {
   "cell_type": "markdown",
   "metadata": {},
   "source": [
    "Kuudennella viikolla osallistuin sekä luennolle että demosessioon. Oppimispäiväkirjassa on hyödynnetty luentorunkoa, demosessiota ja muuta luennon ohessa esiteltyä aineistoa. Luentoviikolla 6 käsiteltiin ohjaamatonta koneoppimista."
   ]
  },
  {
   "cell_type": "markdown",
   "metadata": {},
   "source": [
    "Ohjaamatonta oppimista sovelletaan silloin, kun datajoukossa ei ole erikseen määriteltyä ennustavaa piirrettä. Esimerkiksi ostoskorianalyysi, verkostoanalyysi, ryvästäminen ja aihemallinnus ovat ohjaamattoman oppimisen menetelmiä. Ryvästämisellä tarkoitetaan syötteen pisteiden jakamista kokonaisuuksiin eli ryppäisiin siten, että jokainen ryppäistä sijaitsee mahdollisimman pienellä alueella, mutta mahdollisimman kaukana toisistaan. Ohjaamattomassa ryvästämisessä on tärkeää löytää aineistosta keskenään samankaltaisia havaintoja. Esimerkkinä K-Means -algoritmit, jossa tavoitteena on arvioida valittua keskuspistettä vastaan, mihin keskuspisteeseen syöte kuuluu, ovat hyvä esimerkki ryvästämisestä. K-Means -algoritmit pyrkivät siis löytämään keskuspisteet määrittämällä syötteen pisteet klustereihin. Klusterit perustuvat nykyisiin keskuspisteisiin, jotka samalla valitsevat keskuspisteet perustuen nykyisten syötteiden osoittamiin klustereihin (Huhtamäki 2021).\n",
    "\n",
    "K-Means -analyysissä ei pystytä hyödyntämään kategorisia muuttujia, sillä niiden etäisyyttä ei pystytä mittaamaan. Jos haluttaisiin hyödyntää kategorisia muuttujia, niin silloin tulisi soveltaa K-Modes -analyysiä (Huhtamäki 2021). K-Modes algoritmi laajentaa K-Means paradigmaa klusterin kategorisiin muuttujiin hyödyntämällä kategoristen muuttujien yhteensovittamiseroja, moodeja keskimääräisten arvojen sijasta ja taajuuspohjaista menetelmää  moodin päivittämiseksi K-Mean -algoritmiin klusterointikustannus-toiminnon minimoimiseksi. Koska K-Modes -algoritmi käyttää samaa klusterointiprosessia kuin K-Means, se säilyttää K-Means algoritmin tehokkkuuden (He 2006).\n",
    "\n",
    "K-Means toimii niin, että valitaan klustereiden määrä k ja niille keskipisteet sekä lasketaan jokaisen havainnon etäisyys keskipisteistä. Jokainen havainto sijoitetaan siihen klusteriin, jonka keskipiste on lähimpänä. Keskipisteiden paikat lasketaan uudelleen perustuen syntyneisiin klustereihin ja toistetaan kunnes keskipisteet eivät enää muutu. Klustereiden määrän valintaan ei ole olemassa yksiselitteistä tapaa. Eräs lähestymistapa on kyynärpääperiaate, joka toimii niin, että lasketaan neliösumma eri klustereiden määrillä. Lähestymistavan avulla etsitään pistettä, jossa klustereiden määrän lisääminen ei enää juurikaan lisää hyötyä (Huhtamäki 2021). \n",
    "\n",
    "Aihemallinnus on menetelmä, jonka avulla pyritään löytämään kokoelmassa esiintyvät abstraktit \"aiheet\". Sitä käytetään dokumenttikokoelmassa olevien piilotettujen rakenteiden löytämiseksi ja lähtökohtana on, että dokumenteista on löydettävissä piirteitä erilaisista aiheista, jotka esiintyvät useammassa dokumentissa (Huhtamäki 2021). Aihemallinnusta voidaan soveltaa massiivisiin dokumenttikokoelmiin ja sovittaa monenlaiseen dataan. Aihemallinnus -algoritmeja on käytetty mallien löytämiseen geneettisestä datasta, kuvista ja sosiaalisista verkostoista (Blei 2012). Aihemallinnuksen avulla arvioidaan datasta kahta olennaista jakaumaa: aiheiden jakaumaa dokumenteissa ja sanojen jakaumaa aiheissa. Latent Dirichlet Allocation (LDA) on aihemallinnusmenetelmä, jota käytetään usein media-aineistojen tutkimuksessa. LDA malli olettaa, että dokumentti on vähän kuin synteettisesti luotu sana sanalta niin, että jokaista sanaa valitessa on ensin valittu sille aihe. LDA:ssa on monia sisäisiä parametreja, joiden arvot määrittyvät mallinnusprosessissa datasta, kun jakaumia estimoidaan (Toivanen, Huhtamäki, Valaskivi & Tikka 2020). \n",
    "\n",
    "Aihemallin luomiseksi voidaan käyttää Gensim-kirjastoa, joka on hyvin skaalautuva tekstin semanttisen analyysin kirjasto, jonka yleisin käyttötarkoitus on etsiä semanttisesti samankaltaisia dokumentteja. Paketti mahdollistaa tekstin esikäsittelyn, semanttisen tekstin muuttamisen vektoriksi sekä mallintamisen LSI- ja LDA-algoritmien kanssa (Huhtamäki 2021). \n",
    "\n",
    "Kuten K-Means analyysissä, myös aihemallinnuksessa ainoa käyttäjän mallille antama parametri on haluttu aiheiden määrä. Sekä sanojen jakaumat aiheissa että aiheiden jakaumat dokumenteissa riippuvat annettujen aiheiden määrästä (Toivanen ym. 2020). Aineistossa piilevien aiheiden määrä on todennäköisesti helpoiten arvioitavissa havainnoimalla tuloksia, mutta tarjolla on myös muita mahdollisuuksia, kuten KL-divergenssi. Piilevät aiheet kuvautuvat sana-teema -matriisina, jossa jokaisella sanalla on todennäköisyys kuulua jokaiseen piilevään aiheeseen (Huhtamäki 2021). "
   ]
  },
  {
   "cell_type": "markdown",
   "metadata": {},
   "source": [
    "### Viisi tärkeintä asiaa"
   ]
  },
  {
   "cell_type": "markdown",
   "metadata": {},
   "source": [
    "1. Ohjaamatonta oppimista sovelletaan, kun datajoukossa ei ole määriteltävissä ennustavaa piirrettä.\n",
    "2. Ostoskorianalyysi, verkostoanalyysi, ryvästäminen ja aihemallinnus ovat ohjaamattoman oppimisen menetelmiä.\n",
    "3. Ryvästämisessä datan pisteet jaetaan kokonaisuuksiin, eli ryppäisiin.\n",
    "4. Aihemallinnuksessa pyritään löytämään kokoelmassa esiintyvät abstraktit aiheet.\n",
    "5. Myös ohjaamattomassa oppimisessa tapahtuu ohjaamista, esim. klustereiden tai aiheiden määrän valinta."
   ]
  },
  {
   "cell_type": "markdown",
   "metadata": {},
   "source": [
    "### Kehitysehdotukset"
   ]
  },
  {
   "cell_type": "markdown",
   "metadata": {},
   "source": [
    "1. Tämän viikon luennoista en varsinaisesti keksinyt mitään kehitysehdotuksia. Yleisesti tuli mieleen, että voitaisiinko kurssilla käydä läpi erilaisia työtehtäviä, joihin voisi työllistyä data science kentällä. "
   ]
  },
  {
   "cell_type": "markdown",
   "metadata": {},
   "source": [
    "### Koodidemo"
   ]
  },
  {
   "cell_type": "code",
   "execution_count": 2,
   "metadata": {},
   "outputs": [],
   "source": [
    "document = ['This is the most beautiful place in the world.', 'This man has more skills to show in cricket than any other game.', 'Hi there! how was your ladakh trip last month?', 'There was a player who had scored 200+ runs in single cricket innings in his career.', 'I have got the opportunity to travel to Paris next year for my internship.', 'May be he is better than you in batting but you are much better than him in bowling.', 'That was really a great day for me when I was there at Lavasa for the whole night.', 'That’s exactly I wanted to become, a highest ratting batsmen ever with top scores.', 'Does it really matter wether you go to Thailand or Goa, its just you have spend your holidays.', 'Why don’t you go to Switzerland next year for your 25th Wedding anniversary?', 'Travel is fatal to prejudice, bigotry, and narrow mindedness., and many of our people need it sorely on these accounts.', 'Stop worrying about the potholes in the road and enjoy the journey.', 'No cricket team in the world depends on one or two players. The team always plays to win.', 'Cricket is a team game. If you want fame for yourself, go play an individual game.', 'Because in the end, you won’t remember the time you spent working in the office or mowing your lawn. Climb that goddamn mountain.', 'Isn’t cricket supposed to be a team sport? I feel people should decide first whether cricket is a team game or an individual sport.']"
   ]
  },
  {
   "cell_type": "code",
   "execution_count": 5,
   "metadata": {},
   "outputs": [],
   "source": [
    "from sklearn.feature_extraction.text import TfidfVectorizer\n",
    "from sklearn.cluster import KMeans\n",
    "import numpy as np\n",
    "import pandas as pd"
   ]
  },
  {
   "cell_type": "code",
   "execution_count": 6,
   "metadata": {},
   "outputs": [],
   "source": [
    "vectorizer = TfidfVectorizer(stop_words='english')\n",
    "X = vectorizer.fit_transform(document)"
   ]
  },
  {
   "cell_type": "code",
   "execution_count": 7,
   "metadata": {},
   "outputs": [
    {
     "data": {
      "text/plain": [
       "KMeans(max_iter=100, n_clusters=2, n_init=1)"
      ]
     },
     "execution_count": 7,
     "metadata": {},
     "output_type": "execute_result"
    }
   ],
   "source": [
    "true_k = 2\n",
    "model = KMeans(n_clusters=true_k, init='k-means++', max_iter=100, n_init=1)\n",
    "model.fit(X)"
   ]
  },
  {
   "cell_type": "code",
   "execution_count": 8,
   "metadata": {},
   "outputs": [],
   "source": [
    "order_centroids = model.cluster_centers_.argsort()[:, ::-1]\n",
    "terms = vectorizer.get_feature_names()"
   ]
  },
  {
   "cell_type": "code",
   "execution_count": 13,
   "metadata": {},
   "outputs": [
    {
     "name": "stdout",
     "output_type": "stream",
     "text": [
      "Cluster 0:\n",
      " better\n",
      " year\n",
      " really\n",
      " beautiful\n",
      " place\n",
      " world\n",
      " month\n",
      " ladakh\n",
      " trip\n",
      " hi\n",
      "Cluster 1:\n",
      " cricket\n",
      " team\n",
      " game\n",
      " skills\n",
      " man\n",
      " individual\n",
      " sport\n",
      " people\n",
      " enjoy\n",
      " road\n"
     ]
    }
   ],
   "source": [
    "for i in range(true_k):\n",
    " print('Cluster %d:' % i),\n",
    " for ind in order_centroids[i, :10]:\n",
    "  print(' %s' % terms[ind])"
   ]
  },
  {
   "cell_type": "code",
   "execution_count": 14,
   "metadata": {},
   "outputs": [
    {
     "name": "stdout",
     "output_type": "stream",
     "text": [
      "\n",
      "\n",
      "Prediction\n",
      "[1]\n"
     ]
    }
   ],
   "source": [
    "print('\\n')\n",
    "print('Prediction')\n",
    "X = vectorizer.transform(['Nothing is easy in cricket. Maybe when you watch it on TV, it looks easy. But it is not. You have to use your brain and time the ball.'])\n",
    "predicted = model.predict(X)\n",
    "print(predicted)\n",
    "# https://towardsdatascience.com/applying-machine-learning-to-classify-an-unsupervised-text-document-e7bb6265f52"
   ]
  },
  {
   "cell_type": "markdown",
   "metadata": {},
   "source": [
    "## Viikko 7"
   ]
  },
  {
   "cell_type": "markdown",
   "metadata": {},
   "source": [
    "Seitsemännellä viikolla osallistuin luennolle. Oppimispäiväkirjassa on hyödynnetty luentorunkoa ja muuta luennon ohessa esiteltyä aineistoa. Luentoviikolla 7 käsiteltiin visuaalisen analytiikan ja vuorovaikutteisen eksploratiivisen analytiikan hyödyntämistä datatieteessä."
   ]
  },
  {
   "cell_type": "markdown",
   "metadata": {},
   "source": [
    "Visualisoinnin avulla tuotetaan datasta esityksiä, joiden perusteella analysoija voi tehdä siitä johtopäätöksiä ja havaintoja. Koneoppimista ja visualisointia voidaan hyödyntää ristiin, sillä ne tukevat toisiaan. Esimerkiksi piirteiden erottelussa visuaalinen analytiikka on erittäin tärkeää. Visualisointien avulla voidaan tunnistaa virheitä ja säännönmukaisuuksia datasta (Huhtamäki 2021). \n",
    "\n",
    "Visualisoinnilla on kaksi keskeistä sovellusta datatieteessä. Ensimmäinen niistä on eksploratiivinen analytiikka, eli raakadatan tutkiminen ja kartoittaminen. Oikean kysymyksen löytäminen on usein tärkeämpää kuin vastauksen löytäminen. Kysymystä tulee kehittää, sillä ensimmäinen kysymys ei välttämättä ole se paras. Ensin kysytään jotain, johon löydetään vastaus, mutta sitten löytyykin uusi, parempi kysymys. Saadakseen kaiken irti datasta, on käyttäjän pystyttävä ymmärtämään sitä, käsittelemään kysymyksiä, paljastamaan kiinnostavia malleja ja tunnistamaan virheitä. Toinen sovellus on kommunikointi, eli tulosten esittäminen loppukäyttäjälle. Sen tavoitteena on kommunikoida informaatiota ja auttaa loppukäyttäjää ymmärtämään aineistoa sekä kiinnostumaan siitä ja hyödyntämään sitä (Huhtamäki 2021).\n",
    "\n",
    "Ben Fry:n seitsemän askelta datan visualisoinnille:\n",
    "1. Hanki data systemaattisen ja luotettavan prosessin avulla.\n",
    "2. Pura aineisto ja luo rakenne mallintamalla se piirteisiin ja luokkiin.\n",
    "3. Suodata aineisto nostamalla kiinnostavimmat asiat esille. Pidä lähtödata saatavilla.\n",
    "4. Tunnista aineiston rakenteita tiedon louhinnan keinoin.\n",
    "5. Kuvaile aineisto käyttäen perustyökaluja.\n",
    "6. Jalosta peruskuvauksia selkeämmiksi ja houkuttelevammiksi.\n",
    "7. Vuorovaikuta aineisto käyttäjälle. Pdf-raportti ei ole nykypäivää, sen sijaan tarjotaan vuorovaikutteinen sovellus/raportti loppukäyttäjälle.\n",
    "\n",
    "Visualisoinnin tulisi pystyä välittämään aineiston ainutlaatuiset ominaisuudet. Kaikki visualisointitekniikat eivät automaattisesti sovi käytettäväksi kaikkien datasettien kanssa, koska jokainen ratkaistava ongelma on uniikki. Usein vähemmillä yksityiskohdilla voidaan välittää enemmän tietoa, koska liian yksityskohtainen visualisointi voi sivuuttaa käyttäjältä kaikkein tärkeimmän tiedon. Siksi tulisikin käyttää mahdollisimman vähän dataa kuin mahdollista. Visualisointia tehdessä tulee tuntea kohdeyleisö ja toteuttaa visualisointi heidän tarpeensa huomioiden (Fry 2008). \n",
    "\n",
    "Kaikilla visualisoinneilla on sama tavoite: auttaa käyttäjää tarttumaan tietoihin helposti ja tekemään nopeita päätelmiä ja päätöksiä. On tärkeää, että visualisoinnit eivät ole liioiteltuja, vaan että ne osuvat oikeaan kohtaan, jossa ne ovat tarttuvia, informatiivisia ja helposti navigoitavia. Datan visualisointi todennäköisesti epäonnistuu, jos data on huonoa, garbage in, garbage out -periaatteen mukaisesti. Dataa tulisi tarkastella keruu-, hankinta-, siivoamis- ja kokoamisvaiheissa, ennen kuin visualisointi tehdään. Yleisiä virheitä ovat tietojen päällekkäisyys, menetetyt tiedot ja NA-arvot, joita ei ole merkitty. Kun data on valmista visualisoitavaksi, niin tulee tarkasti miettiä, minkä visualisointityypin valitsee. Vääräntyyppinen kaavio ei kuvaa dataa parhaalla mahdollisella tavalla. Lisäksi värien käyttöön visualisoinnissa tulee kiinnittää huomiota, sillä vaikka ne auttavat käyttäjää tulkitsemaan visualisointeja nopeammin, niin liika värien määrä voi aiheuttaa hämmennystä. Suurin virhe datan visualisoinnissa on käyttäjän johtaminen vääriin tulkintoihin. Esimerkiksi y-akselin katkaiseminen ei ole usein kovinkaan hyvä idea. Tyypillinen virhe voi myös olla epäjohdonmukaisten asteikkojen käyttäminen visualisoinnissa (Ayalasomayajula 2017). Visualisointeja tulisi kehittää ja testata kuten käyttökokemusta. Käyttäjältä tulisi varmistaa, että meneekö informaatio jakeluun ja että havainnoiko käyttäjä oikeita asioita (Huhtamäki 2021).\n",
    "\n",
    "Erilaisia visualisointityyppejä on olemassa useita. Tällaisia tyyppejä ovat esimerksiksi aikasarjat, lajitellut luokat, kategoriset osakokonaisuudet kokonaisuuden osana, erokuvaaja, frekvenssi ja korrelaatio. Erityyppisistä kuvaajista ja niiden käyttötarkoituksista on olemassa useita \"Cheat Sheetejä\", joiden avulla voi valita sopivimman kuvaajan omaa käyttötarkoitusta varten. Esimerkkinä Association Analytics:n Cheet Sheat, joka on todella selkeä (Huhtamäki 2021).\n",
    "\n",
    "Yksi haastavimmista tehtävistä datan visualisointisuunnittelijalle on vakuuttaa sidosryhmänsä siitä, että tuntematon visualisointitekniikka voi olla tehokkaampi kuin yleinen. Yleisö tuntee pylväskaavion, sirontakaaviot ja viivakaaviot, ja siksi yleisö ajattelee, että nämä yksinkertaiset kaaviot ovat paremmin luettavissa tai kertovat tiedot tehokkaammin kuin tuntemattomat kaaviotyypit. Tuttu kaavio voi olla helposti käytettävissä, mutta toivottoman sopimaton dataan. Tuntemattomamman kaavion lukeminen voi vaatia ponnisteluja, joten se voi vaikuttaa ensin lukukelvottomalta, mutta pienen tarkastelun jälkeen tarjoaakin näkemyksiä, joita käyttäjä nimenomaan tarvitsee (Meeks 2019). \n",
    "\n",
    "Analytiikka on mahdollista viedä entistä pidemmälle, kun käyttäjän keskeiseksi työkaluksi tuleekin visuaalinen rajapinta ja itse aineisto jää taka-alalle. Ennakkotehtävässä tutustuttiin Jeffrey Heerin johdolla mm. käyttäjän ja järjestelmän yhteistyöhön analyysitehtävien toteuttamisessa. Heer on ollut mukana perustamssa Trifacta -nimistä ohjelmistoa, joka luo machine in the loop -periaatetta käytännön analytiikkasoveluksiin. IBM Watson taas on ohjelmisto, joka avulla käyttäjän on mahdollista tutustua aineistoon vain visuaalisen rajapinnan kautta kysymällä työkalulta kysymyksiä, joiden vastaukset se näyttää käyttäjälle työpöytänäkymässä (Huhtamäki 2021). Ihmiset odottavat ohjelmistojen auttavan ymmärtämään omaa dataansa, jolloin suunnittelijan vastuulla on varmistaa tietojen mielekäs ja helposti tulkittava esitys. IBM:llä on joukko suunnitteluohjeita, jotka auttavat saavuttamaan tämän tavoitteen. Loppukäyttäjä tarvitsee visualisointikokemuksen, joka on mahdollisimman mukaansatempaava ja tekee helpoksi paljastaa syvempiä oivalluksia datasta liiketoimintapäätösten tueksi. Tarjoamalla visualisointeja, jotka ovat joustavia ja muuttuvat käyttäjän ajatusprosessin mukana, mahdollistavat käyttäjälle todellisen datan eksploraation. Hyvin suunniteltu eksplorointi työkalu ei mahdollista ainoastaan vapaata datan eksplorointia, vaan myös ohjaa käyttäjää kohti näkökulmia, joita he todella etsivät (Bhowmick 2018).\n",
    "\n",
    "Oman kokemukseni mukaan datan visualisointi saattaa vaikuttaa ensin \"helpolta\" osuudelta datatiedeprosessissa. Visualisointi on kuitenkin paljon laajempi ja monimuotoisempi työvaihe kuin mitä kuvittelin ja näkisin että siinä on helppo epäonnistua. Haasteena on juurikin löytää ne oikeanlaiset kuvaajat, joista loppukäyttäjä hyötyy. Helposti saattaa sortua myös tuottamaan \"ylimääräisiä\" visualisointeja, jotka eivät sinällään ole huonoja, mutta toisaalta eivät tarjoa mitään kiinnostavaa loppukäyttäjälle. Lisähaastetta tuo se, että visualisointien tulisi olla tänä päivänä vuorovaikutteisia pelkkien staattisten raporttien sijaan. Harjoitustyöprosessissa datan visualisointi tarjosi minulle paljon haastetta, mutta toisaalta myös opin paljon aiheesta."
   ]
  },
  {
   "cell_type": "markdown",
   "metadata": {},
   "source": [
    "### Viisi tärkeintä asiaa"
   ]
  },
  {
   "cell_type": "markdown",
   "metadata": {},
   "source": [
    "1. Visualisoinnin avulla tuotetaan datasta esityksiä, joiden perusteella voi tehdä johtopäätöksiä ja havaintoja.\n",
    "2. Visualisoinnin kaksi keskeistä sovellusta ovat eksploraviivinen analytiikka sekä tulosten kommunikointi.\n",
    "3. Datan visualisointi on prosessi yhtälailla kuin datatieteen työprosessikin.\n",
    "4. Oikeanlaisen visualisointityypin valinta on erityisen tärkeää. Tässä apuna \"Cheat Sheetit\".\n",
    "5. Analytiikka ja datan eksplorointi on viety askelta pidemmälle kehittämällä työkaluja käyttäjän tueksi. Esim. Trifacta ja IBM Watson."
   ]
  },
  {
   "cell_type": "markdown",
   "metadata": {},
   "source": [
    "### Kehitysehdotukset"
   ]
  },
  {
   "cell_type": "markdown",
   "metadata": {},
   "source": [
    "1. Olisiko kurssille mahdollista saada mukaan jokin yksinkertainen demo, jossa toteutettaisiin visualisointi PowerBI:llä tai vastaavalla?"
   ]
  },
  {
   "cell_type": "markdown",
   "metadata": {},
   "source": [
    "### Koodidemo"
   ]
  },
  {
   "cell_type": "code",
   "execution_count": 4,
   "metadata": {},
   "outputs": [],
   "source": [
    "import seaborn as sns\n",
    "import pandas as pd\n",
    "\n",
    "# luetaan data.\n",
    "df = pd.read_csv('diamonds.csv')"
   ]
  },
  {
   "cell_type": "code",
   "execution_count": 5,
   "metadata": {},
   "outputs": [
    {
     "name": "stdout",
     "output_type": "stream",
     "text": [
      "<class 'pandas.core.frame.DataFrame'>\n",
      "RangeIndex: 53940 entries, 0 to 53939\n",
      "Data columns (total 11 columns):\n",
      " #   Column      Non-Null Count  Dtype  \n",
      "---  ------      --------------  -----  \n",
      " 0   Unnamed: 0  53940 non-null  int64  \n",
      " 1   carat       53940 non-null  float64\n",
      " 2   cut         53940 non-null  object \n",
      " 3   color       53940 non-null  object \n",
      " 4   clarity     53940 non-null  object \n",
      " 5   depth       53940 non-null  float64\n",
      " 6   table       53940 non-null  float64\n",
      " 7   price       53940 non-null  int64  \n",
      " 8   x           53940 non-null  float64\n",
      " 9   y           53940 non-null  float64\n",
      " 10  z           53940 non-null  float64\n",
      "dtypes: float64(6), int64(2), object(3)\n",
      "memory usage: 4.5+ MB\n"
     ]
    }
   ],
   "source": [
    "df.info()"
   ]
  },
  {
   "cell_type": "code",
   "execution_count": 6,
   "metadata": {},
   "outputs": [],
   "source": [
    "df.drop(columns=\"Unnamed: 0\", inplace=True)"
   ]
  },
  {
   "cell_type": "code",
   "execution_count": 7,
   "metadata": {},
   "outputs": [
    {
     "data": {
      "text/html": [
       "<div>\n",
       "<style scoped>\n",
       "    .dataframe tbody tr th:only-of-type {\n",
       "        vertical-align: middle;\n",
       "    }\n",
       "\n",
       "    .dataframe tbody tr th {\n",
       "        vertical-align: top;\n",
       "    }\n",
       "\n",
       "    .dataframe thead th {\n",
       "        text-align: right;\n",
       "    }\n",
       "</style>\n",
       "<table border=\"1\" class=\"dataframe\">\n",
       "  <thead>\n",
       "    <tr style=\"text-align: right;\">\n",
       "      <th></th>\n",
       "      <th>carat</th>\n",
       "      <th>cut</th>\n",
       "      <th>color</th>\n",
       "      <th>clarity</th>\n",
       "      <th>depth</th>\n",
       "      <th>table</th>\n",
       "      <th>price</th>\n",
       "      <th>x</th>\n",
       "      <th>y</th>\n",
       "      <th>z</th>\n",
       "    </tr>\n",
       "  </thead>\n",
       "  <tbody>\n",
       "    <tr>\n",
       "      <th>0</th>\n",
       "      <td>0.23</td>\n",
       "      <td>Ideal</td>\n",
       "      <td>E</td>\n",
       "      <td>SI2</td>\n",
       "      <td>61.5</td>\n",
       "      <td>55.0</td>\n",
       "      <td>326</td>\n",
       "      <td>3.95</td>\n",
       "      <td>3.98</td>\n",
       "      <td>2.43</td>\n",
       "    </tr>\n",
       "    <tr>\n",
       "      <th>1</th>\n",
       "      <td>0.21</td>\n",
       "      <td>Premium</td>\n",
       "      <td>E</td>\n",
       "      <td>SI1</td>\n",
       "      <td>59.8</td>\n",
       "      <td>61.0</td>\n",
       "      <td>326</td>\n",
       "      <td>3.89</td>\n",
       "      <td>3.84</td>\n",
       "      <td>2.31</td>\n",
       "    </tr>\n",
       "    <tr>\n",
       "      <th>2</th>\n",
       "      <td>0.23</td>\n",
       "      <td>Good</td>\n",
       "      <td>E</td>\n",
       "      <td>VS1</td>\n",
       "      <td>56.9</td>\n",
       "      <td>65.0</td>\n",
       "      <td>327</td>\n",
       "      <td>4.05</td>\n",
       "      <td>4.07</td>\n",
       "      <td>2.31</td>\n",
       "    </tr>\n",
       "    <tr>\n",
       "      <th>3</th>\n",
       "      <td>0.29</td>\n",
       "      <td>Premium</td>\n",
       "      <td>I</td>\n",
       "      <td>VS2</td>\n",
       "      <td>62.4</td>\n",
       "      <td>58.0</td>\n",
       "      <td>334</td>\n",
       "      <td>4.20</td>\n",
       "      <td>4.23</td>\n",
       "      <td>2.63</td>\n",
       "    </tr>\n",
       "    <tr>\n",
       "      <th>4</th>\n",
       "      <td>0.31</td>\n",
       "      <td>Good</td>\n",
       "      <td>J</td>\n",
       "      <td>SI2</td>\n",
       "      <td>63.3</td>\n",
       "      <td>58.0</td>\n",
       "      <td>335</td>\n",
       "      <td>4.34</td>\n",
       "      <td>4.35</td>\n",
       "      <td>2.75</td>\n",
       "    </tr>\n",
       "    <tr>\n",
       "      <th>...</th>\n",
       "      <td>...</td>\n",
       "      <td>...</td>\n",
       "      <td>...</td>\n",
       "      <td>...</td>\n",
       "      <td>...</td>\n",
       "      <td>...</td>\n",
       "      <td>...</td>\n",
       "      <td>...</td>\n",
       "      <td>...</td>\n",
       "      <td>...</td>\n",
       "    </tr>\n",
       "    <tr>\n",
       "      <th>53935</th>\n",
       "      <td>0.72</td>\n",
       "      <td>Ideal</td>\n",
       "      <td>D</td>\n",
       "      <td>SI1</td>\n",
       "      <td>60.8</td>\n",
       "      <td>57.0</td>\n",
       "      <td>2757</td>\n",
       "      <td>5.75</td>\n",
       "      <td>5.76</td>\n",
       "      <td>3.50</td>\n",
       "    </tr>\n",
       "    <tr>\n",
       "      <th>53936</th>\n",
       "      <td>0.72</td>\n",
       "      <td>Good</td>\n",
       "      <td>D</td>\n",
       "      <td>SI1</td>\n",
       "      <td>63.1</td>\n",
       "      <td>55.0</td>\n",
       "      <td>2757</td>\n",
       "      <td>5.69</td>\n",
       "      <td>5.75</td>\n",
       "      <td>3.61</td>\n",
       "    </tr>\n",
       "    <tr>\n",
       "      <th>53937</th>\n",
       "      <td>0.70</td>\n",
       "      <td>Very Good</td>\n",
       "      <td>D</td>\n",
       "      <td>SI1</td>\n",
       "      <td>62.8</td>\n",
       "      <td>60.0</td>\n",
       "      <td>2757</td>\n",
       "      <td>5.66</td>\n",
       "      <td>5.68</td>\n",
       "      <td>3.56</td>\n",
       "    </tr>\n",
       "    <tr>\n",
       "      <th>53938</th>\n",
       "      <td>0.86</td>\n",
       "      <td>Premium</td>\n",
       "      <td>H</td>\n",
       "      <td>SI2</td>\n",
       "      <td>61.0</td>\n",
       "      <td>58.0</td>\n",
       "      <td>2757</td>\n",
       "      <td>6.15</td>\n",
       "      <td>6.12</td>\n",
       "      <td>3.74</td>\n",
       "    </tr>\n",
       "    <tr>\n",
       "      <th>53939</th>\n",
       "      <td>0.75</td>\n",
       "      <td>Ideal</td>\n",
       "      <td>D</td>\n",
       "      <td>SI2</td>\n",
       "      <td>62.2</td>\n",
       "      <td>55.0</td>\n",
       "      <td>2757</td>\n",
       "      <td>5.83</td>\n",
       "      <td>5.87</td>\n",
       "      <td>3.64</td>\n",
       "    </tr>\n",
       "  </tbody>\n",
       "</table>\n",
       "<p>53940 rows × 10 columns</p>\n",
       "</div>"
      ],
      "text/plain": [
       "       carat        cut color clarity  depth  table  price     x     y     z\n",
       "0       0.23      Ideal     E     SI2   61.5   55.0    326  3.95  3.98  2.43\n",
       "1       0.21    Premium     E     SI1   59.8   61.0    326  3.89  3.84  2.31\n",
       "2       0.23       Good     E     VS1   56.9   65.0    327  4.05  4.07  2.31\n",
       "3       0.29    Premium     I     VS2   62.4   58.0    334  4.20  4.23  2.63\n",
       "4       0.31       Good     J     SI2   63.3   58.0    335  4.34  4.35  2.75\n",
       "...      ...        ...   ...     ...    ...    ...    ...   ...   ...   ...\n",
       "53935   0.72      Ideal     D     SI1   60.8   57.0   2757  5.75  5.76  3.50\n",
       "53936   0.72       Good     D     SI1   63.1   55.0   2757  5.69  5.75  3.61\n",
       "53937   0.70  Very Good     D     SI1   62.8   60.0   2757  5.66  5.68  3.56\n",
       "53938   0.86    Premium     H     SI2   61.0   58.0   2757  6.15  6.12  3.74\n",
       "53939   0.75      Ideal     D     SI2   62.2   55.0   2757  5.83  5.87  3.64\n",
       "\n",
       "[53940 rows x 10 columns]"
      ]
     },
     "execution_count": 7,
     "metadata": {},
     "output_type": "execute_result"
    }
   ],
   "source": [
    "df"
   ]
  },
  {
   "cell_type": "code",
   "execution_count": 8,
   "metadata": {},
   "outputs": [
    {
     "data": {
      "text/plain": [
       "<AxesSubplot:xlabel='cut', ylabel='count'>"
      ]
     },
     "execution_count": 8,
     "metadata": {},
     "output_type": "execute_result"
    },
    {
     "data": {
      "image/png": "[encoded data removed]",
      "text/plain": [
       "<Figure size 432x288 with 1 Axes>"
      ]
     },
     "metadata": {
      "needs_background": "light"
     },
     "output_type": "display_data"
    }
   ],
   "source": [
    "sns.countplot(x='cut', data=df)"
   ]
  },
  {
   "cell_type": "code",
   "execution_count": 9,
   "metadata": {},
   "outputs": [
    {
     "data": {
      "text/plain": [
       "<AxesSubplot:xlabel='color', ylabel='count'>"
      ]
     },
     "execution_count": 9,
     "metadata": {},
     "output_type": "execute_result"
    },
    {
     "data": {
      "image/png": "[encoded data removed]",
      "text/plain": [
       "<Figure size 432x288 with 1 Axes>"
      ]
     },
     "metadata": {
      "needs_background": "light"
     },
     "output_type": "display_data"
    }
   ],
   "source": [
    "sns.countplot(x=\"color\", data=df)"
   ]
  },
  {
   "cell_type": "code",
   "execution_count": 11,
   "metadata": {},
   "outputs": [
    {
     "data": {
      "text/plain": [
       "<AxesSubplot:xlabel='carat', ylabel='price'>"
      ]
     },
     "execution_count": 11,
     "metadata": {},
     "output_type": "execute_result"
    },
    {
     "data": {
      "image/png": "[encoded data removed]",
      "text/plain": [
       "<Figure size 432x288 with 1 Axes>"
      ]
     },
     "metadata": {
      "needs_background": "light"
     },
     "output_type": "display_data"
    }
   ],
   "source": [
    "sns.scatterplot(x=\"carat\", y=\"price\", data=df)"
   ]
  },
  {
   "cell_type": "code",
   "execution_count": 12,
   "metadata": {},
   "outputs": [
    {
     "data": {
      "text/plain": [
       "<seaborn.axisgrid.FacetGrid at 0x201dca6de20>"
      ]
     },
     "execution_count": 12,
     "metadata": {},
     "output_type": "execute_result"
    },
    {
     "data": {
      "image/png": "[encoded data removed]",
      "text/plain": [
       "<Figure size 447.5x360 with 1 Axes>"
      ]
     },
     "metadata": {
      "needs_background": "light"
     },
     "output_type": "display_data"
    }
   ],
   "source": [
    "sns.catplot(x=\"clarity\", hue=\"cut\", kind=\"count\", palette=\"pastel\", edgecolor=\".6\", data=df)\n",
    "# https://www.kaggle.com/rolandmueller/seaborn-diamonds-2-11-2020"
   ]
  },
  {
   "cell_type": "markdown",
   "metadata": {},
   "source": [
    "### Lähteet"
   ]
  },
  {
   "cell_type": "markdown",
   "metadata": {},
   "source": [
    "Ailisto, H., Kaski, S. ja Suominen, A. (2019). Edelläkävijänä tekoälyaikaan. Saatavissa: https://www.tekoalyaika.fi/raportit/edellakavijana-tekoalyaikaan/2-kansainvaliset-tekoalyn-asiantuntijat-kohti-tekoalyn-kolmatta-aaltoa/\n",
    "\n",
    "Amsterdam School of Data Science. (2017). What Skills do I Need to Become a Modern Data Scientist?. Saatavissa: https://www.schoolofdatascience.amsterdam/news/skills-need-become-modern-data-scientist/\n",
    "\n",
    "Ayalasomayajula, V. (2017). The 5 Common Mistakes That Lead to Bad Data Visualization. Saatavissa: https://www.kdnuggets.com/2017/10/5-common-mistakes-bad-data-visualization.html\n",
    "\n",
    "Baiju, NT. (2018). Top 50 open source web crawlers for data mining. Saatavissa: https://bigdata-madesimple.com/top-50-open-source-web-crawlers-for-data-mining/\n",
    "\n",
    "Bernard, B. (2017). Web Scraping and Crawling Are Perfectly Legal, Right?. Saatavissa: https://benbernardblog.com/web-scraping-and-crawling-are-perfectly-legal-right/\n",
    "\n",
    "Bhowmick, A. (2018). Designing for Data Visualization. Saatavissa: https://medium.com/design-ibm/designing-for-data-visualization-c2b18359878c\n",
    "\n",
    "Blei, D. (2012). Probabilistic Topic Models. Vol 55. No. 4. Saatavissa: http://www.cs.columbia.edu/~blei/papers/Blei2012.pdf\n",
    "\n",
    "Brownlee, J. (2019). Your First Machine Learning Project in Python Step-by-Step. Saatavissa: https://machinelearningmastery.com/machine-learning-in-python-step-by-step/\n",
    "\n",
    "Data Science Stack Exchange (2018). Remove special character in a list or string. Saatavissa: https://datascience.stackexchange.com/questions/39960/remove-special-character-in-a-list-or-string\n",
    "\n",
    "Fry, B. (2008). Visualizing Data. Saatavissa: https://books.google.fi/books?hl=en&lr=&id=RRswXg4pJhcC&oi=fnd&pg=PR3&dq=visualizing+data&ots=798mYDjWIa&sig=vZE8vLaz3CoPZwf0yqRZQlxTd0M&redir_esc=y#v=onepage&q=visualizing%20data&f=false\n",
    "\n",
    "Granville, V. (2014). Data Scientist versus Data Engineer. Saatavissa: https://www.datasciencecentral.com/profiles/blogs/data-scientist-versus-data-engineer\n",
    "\n",
    "Guo, P. (2013). Data Science Workflow: Overview and Challenges. Saatavissa: https://cacm.acm.org/blogs/blog-cacm/169199-data-science-workflow-overview-and-challenges/fulltext\n",
    "\n",
    "van den Heever, S. (2017). Top 3 ways to measure the success of your analytics investment. Saatavissa: https://web.archive.org/web/20201020003032/https://www.ibmbigdatahub.com/blog/top-3-ways-measure-success-your-analytics-investment\n",
    "\n",
    "He, Z.(2006). Approximation Algorithms for K-Modes Clustering. Saatavissa: https://arxiv.org/ftp/cs/papers/0603/0603120.pdf\n",
    "\n",
    "Huhtamäki, J. (2021). Johdanto Datatieteeseen - luento 1. Saatavissa: https://github.com/InfoTUNI/joda2021/blob/master/luentomuistio/luento01.ipynb\n",
    "\n",
    "Huhtamäki, J. (2021). Johdanto Datatieteeseen - luento 2. Saatavissa: https://github.com/InfoTUNI/joda2021/blob/master/luentomuistio/luento02.ipynb\n",
    "\n",
    "Huhtamäki, J. (2021). Johdanto Datatieteeseen - luento 3. Saatavissa: https://github.com/InfoTUNI/joda2021/blob/master/luentomuistio/luento03.ipynb\n",
    "\n",
    "Huhtamäki, J. (2021). Johdanto Datatieteeseen - luento 4. Saatavissa: https://github.com/InfoTUNI/joda2021/blob/master/luentomuistio/luento04.ipynb\n",
    "\n",
    "Huhtamäki, J. (2021). Johdanto Datatieteeseen - luento 6. Saatavissa: https://github.com/InfoTUNI/joda2021/blob/master/luentomuistio/luento06.ipynb\n",
    "\n",
    "Huhtamäki, J. (2021). Johdanto Datatieteeseen - luento 7. Saatavissa: https://github.com/InfoTUNI/joda2021/blob/master/luentomuistio/luento07.ipynb\n",
    "\n",
    "Ivan, M. (2015). Types of Machine Learning Algorithms. Saatavissa: https://en.proft.me/2015/12/24/types-machine-learning-algorithms/\n",
    "\n",
    "KDnuggets (2014). What main methodology are you using for your analytics, data mining, or data science projects? Saatavissa: https://www.kdnuggets.com/polls/2014/analytics-data-mining-data-science-methodology.html\n",
    "\n",
    "Mikkonen, T. (2021). Solita NLP - Johdatus Datatieteisiin. Saatavissa: https://github.com/TeemuMikkonen/JODA-NLP/blob/main/Solita_JODA.ipynb\n",
    "\n",
    "Meeks, E. (2019). Exploratory Design in Data Visualization. Saatavissa: https://medium.com/@Elijah_Meeks/exploratory-design-in-data-visualization-87bc60ce7f04\n",
    "\n",
    "Ni, D. (2019). The Best Data Scraping Tools and Web Scraping Tools. Saatavissa: https://www.scraperapi.com/blog/the-10-best-web-scraping-tools \n",
    "\n",
    "Pandas (2021). Saatavissa: https://pandas.pydata.org\n",
    "\n",
    "Patton, J. (2020). Opportunity Canvas. Saatavissa: https://www.jpattonassociates.com/opportunity-canvas/\n",
    "\n",
    "Pema, G. (2018). Getting started with NLP using NLTK. Saatavissa: https://becominghuman.ai/nlp-for-beginners-using-nltk-f58ec22005cd\n",
    "\n",
    "Shekhar, A. (2018). What is Feature Engineering for Machine Learning?. Saatavissa: https://www.tekoalyaika.fi/raportit/edellakavijana-tekoalyaikaan/2-kansainvaliset-tekoalyn-asiantuntijat-kohti-tekoalyn-kolmatta-aaltoa/\n",
    "\n",
    "Silveira, O. (2020). A Gentle Inroduction to Web Scraping with Python. Saatvissa: https://towardsdatascience.com/a-gentle-introduction-to-web-scraping-with-python-b914a64b2fb8\n",
    "\n",
    "Skenderi, E. (2021). Session 1 - Analysing Transaction Data. Saatavissa: https://github.com/InfoTUNI/joda2021/blob/master/koodiesimerkit/Session%201%20-%20Analysis%20of%20Transactions.ipynb \n",
    "\n",
    "Skenderi, E. (2021). Session 4 - Categorial and Missing Data. Saatavissa: https://github.com/InfoTUNI/joda2021/blob/master/koodiesimerkit/Session%204%20-%20Categorical%20and%20Missing%20Data.ipynb\n",
    "\n",
    "Toivanen, P., Huhtamäki, J., Valaskivi, K. ja Tikka, M. (2020). Aihemallinnus hybridin mediatapahtuman ja merkitysten kierron tutkimuksessa. Media & Viestintä. Vol 43. Nro 1. Saatavissa: https://journal.fi/mediaviestinta/article/view/91078\n",
    "\n",
    "Vishabh, G. (2018). Applying Machine Learning to classify an unsupervised text document. Saatavissa: https://towardsdatascience.com/applying-machine-learning-to-classify-an-unsupervised-text-document-e7bb6265f52\n",
    "\n",
    "Yordanov, V. (2018). Introduction to Natural Language Processing for Text. Saatavissa: https://towardsdatascience.com/introduction-to-natural-language-processing-for-text-df845750fb63"
   ]
  },
  {
   "cell_type": "code",
   "execution_count": null,
   "metadata": {},
   "outputs": [],
   "source": []
  }
 ],
 "metadata": {
  "kernelspec": {
   "display_name": "Python 3",
   "language": "python",
   "name": "python3"
  },
  "language_info": {
   "codemirror_mode": {
    "name": "ipython",
    "version": 3
   },
   "file_extension": ".py",
   "mimetype": "text/x-python",
   "name": "python",
   "nbconvert_exporter": "python",
   "pygments_lexer": "ipython3",
   "version": "3.8.5"
  }
 },
 "nbformat": 4,
 "nbformat_minor": 4
}

{
 "cells": [
  {
   "cell_type": "markdown",
   "metadata": {},
   "source": [
    "# Johdanto datatieteeseen 2021"
   ]
  },
  {
   "cell_type": "markdown",
   "metadata": {},
   "source": [
    "## Oppimispäiväkirja"
   ]
  },
  {
   "cell_type": "markdown",
   "metadata": {},
   "source": [
    "## Viikko 1"
   ]
  },
  {
   "cell_type": "markdown",
   "metadata": {},
   "source": [
    "Osallistuin ensimmäisellä viikolla sekä luennolle että demosessioon. Ensimmäisen viikon oppimispäiväkirja on laadittu lähinnä avausluennon ja ensimmäisen demosession aineistoja käyttäen."
   ]
  },
  {
   "cell_type": "markdown",
   "metadata": {},
   "source": [
    "Datatiede koostuu neljästä osa-alueesta, joita ovat liiketoimintaosaaminen, ohjelmointi ja tietokantaosaaminen, tilastollinen analyysi sekä datalähtöinen viestintä ja visualisointi. Datatieteilijän rooli ja työ organisaatiossa on monitieteistä, ja siinä yhdistyy esimerkiksi tietotekninen, matemaattinen ja liiketoiminnallinen osaaminen. Datatieteestä on aiemmin käytetty myös termiä datalogy. Datatieteessä keskeistä on laajojen aineistojen muokkaaminen ja ohjelmoinnin hyödyntäminen (Huhtamäki 2021).\n",
    "\n",
    "CRISP-DM on avoin standardin prosessikuvaus, joka kuvaa tiedonlouhinnan asiantuntijoiden käyttämiä yleisiä lähestymistapoja. Se on yleisimmin käytetty analyysimalli (Wikipedia 2021). Prosessiin kuuluu kuusi eri vaihetta, joita ovat liiketoiminnan ymmärtäminen, datan ymmärtäminen, datan valmistelu, mallintaminen, arviointi ja käyttöönotto. Prosessimallin pohjalta voi yrittää hahmottaa, mitä vaaditaan hyvältä datatieteilijältä (Huhtamäki 2021). \n",
    "\n",
    "Dataa on käytössä ennenmäkemätön määrä, ja määrä vain kasvaa minuutti minuutilta. Myös julkista dataa on saatavilla enemmän kuin koskaan. Tekoälyn toinen aalto on käynnissä, ja siinä merkittävässä osassa on data ja tilastollinen oppiminen. Nykyinen tekoälyn aalto keskittyy koneoppimiseen ja neuroverkkoihin. Käytettävissä oleva data, kehitystyökalut ja kasvava laskentateho vauhdittavat datatieteen kehitystä (Huhtamäki 2021).\n",
    "\n",
    "Datatieteen kehittymisen kannalta erityisen merkittävää on laskentatehon kasvu. Sen lisäksi tekniset ratkaisut, joiden avulla skaalataan yksittäisen koneen tai klusterin laskentatehoa ovat kehittyneet merkittävästi. Erityyppisiä laskentaympäristöjä on kuutta erilaista tyyppiä. Laskentaympäristöjä voivat olla esimerkiksi henkilökohtainen kone, pilviratkaisu tai laskentaklusteri (Huhtamäki 2021). \n",
    "\n",
    "Datatieteessä käytettäviä työvälineitä ovat tilastolaskentaympäristöt (esim. R), joita korvaavat nyt Pythonpohjaiset ympäristöt. Merkittäviä työkaluja ovat myös Pandas, Scikit-learn ja visualisointityövälineet (esim. Holoviews) (Huhtamäki 2021).\n"
   ]
  },
  {
   "cell_type": "markdown",
   "metadata": {},
   "source": [
    "### Viisi tärkeintä asiaa"
   ]
  },
  {
   "cell_type": "markdown",
   "metadata": {},
   "source": [
    "1. Datatieteessä yhdistyy useampi tieteenala.\n",
    "2. Python on kasvattanut rooliaan datatieteessä tilasto-ohjelmistojen ohi.\n",
    "3. Yleisimmin käytetty analyysiprosessi on CRISP-DM.\n",
    "4. Tekoälyn toisessa aallossa pääosassa on data ja tilastollinen oppminen. \n",
    "5. Laskentatehon kasvu on merkittävin asia datatieteen kehittymisessä."
   ]
  },
  {
   "cell_type": "markdown",
   "metadata": {},
   "source": [
    "### Kehitysideat"
   ]
  },
  {
   "cell_type": "markdown",
   "metadata": {},
   "source": [
    "1. Työkirjaympäristöjä, niiden asennusta ja olisi hyödyllistä demota yksityiskohtaisemmin.\n",
    "2. Kurssin suorittamisohjeisiin voisi laittaa vinkkejä siitä, miten oppimispäiväkirjan linkki kannattaa jakaa moodleen. "
   ]
  },
  {
   "cell_type": "markdown",
   "metadata": {},
   "source": [
    "### Koodidemo"
   ]
  },
  {
   "cell_type": "code",
   "execution_count": 13,
   "metadata": {
    "scrolled": true
   },
   "outputs": [
    {
     "data": {
      "text/html": [
       "<div>\n",
       "<style scoped>\n",
       "    .dataframe tbody tr th:only-of-type {\n",
       "        vertical-align: middle;\n",
       "    }\n",
       "\n",
       "    .dataframe tbody tr th {\n",
       "        vertical-align: top;\n",
       "    }\n",
       "\n",
       "    .dataframe thead th {\n",
       "        text-align: right;\n",
       "    }\n",
       "</style>\n",
       "<table border=\"1\" class=\"dataframe\">\n",
       "  <thead>\n",
       "    <tr style=\"text-align: right;\">\n",
       "      <th></th>\n",
       "      <th>country</th>\n",
       "      <th>iso_code</th>\n",
       "      <th>date</th>\n",
       "      <th>total_vaccinations</th>\n",
       "      <th>people_vaccinated</th>\n",
       "      <th>people_fully_vaccinated</th>\n",
       "      <th>daily_vaccinations_raw</th>\n",
       "      <th>daily_vaccinations</th>\n",
       "      <th>total_vaccinations_per_hundred</th>\n",
       "      <th>people_vaccinated_per_hundred</th>\n",
       "      <th>people_fully_vaccinated_per_hundred</th>\n",
       "      <th>daily_vaccinations_per_million</th>\n",
       "      <th>vaccines</th>\n",
       "      <th>source_name</th>\n",
       "      <th>source_website</th>\n",
       "    </tr>\n",
       "  </thead>\n",
       "  <tbody>\n",
       "    <tr>\n",
       "      <th>0</th>\n",
       "      <td>Afghanistan</td>\n",
       "      <td>AFG</td>\n",
       "      <td>2021-02-22</td>\n",
       "      <td>0.0</td>\n",
       "      <td>0.0</td>\n",
       "      <td>NaN</td>\n",
       "      <td>NaN</td>\n",
       "      <td>NaN</td>\n",
       "      <td>0.00</td>\n",
       "      <td>0.00</td>\n",
       "      <td>NaN</td>\n",
       "      <td>NaN</td>\n",
       "      <td>Oxford/AstraZeneca</td>\n",
       "      <td>Government of Afghanistan</td>\n",
       "      <td>https://tolonews.com/index.php/health-170355</td>\n",
       "    </tr>\n",
       "    <tr>\n",
       "      <th>1</th>\n",
       "      <td>Afghanistan</td>\n",
       "      <td>AFG</td>\n",
       "      <td>2021-02-23</td>\n",
       "      <td>NaN</td>\n",
       "      <td>NaN</td>\n",
       "      <td>NaN</td>\n",
       "      <td>NaN</td>\n",
       "      <td>1367.0</td>\n",
       "      <td>NaN</td>\n",
       "      <td>NaN</td>\n",
       "      <td>NaN</td>\n",
       "      <td>35.0</td>\n",
       "      <td>Oxford/AstraZeneca</td>\n",
       "      <td>Government of Afghanistan</td>\n",
       "      <td>https://tolonews.com/index.php/health-170355</td>\n",
       "    </tr>\n",
       "    <tr>\n",
       "      <th>2</th>\n",
       "      <td>Afghanistan</td>\n",
       "      <td>AFG</td>\n",
       "      <td>2021-02-24</td>\n",
       "      <td>NaN</td>\n",
       "      <td>NaN</td>\n",
       "      <td>NaN</td>\n",
       "      <td>NaN</td>\n",
       "      <td>1367.0</td>\n",
       "      <td>NaN</td>\n",
       "      <td>NaN</td>\n",
       "      <td>NaN</td>\n",
       "      <td>35.0</td>\n",
       "      <td>Oxford/AstraZeneca</td>\n",
       "      <td>Government of Afghanistan</td>\n",
       "      <td>https://tolonews.com/index.php/health-170355</td>\n",
       "    </tr>\n",
       "    <tr>\n",
       "      <th>3</th>\n",
       "      <td>Afghanistan</td>\n",
       "      <td>AFG</td>\n",
       "      <td>2021-02-25</td>\n",
       "      <td>NaN</td>\n",
       "      <td>NaN</td>\n",
       "      <td>NaN</td>\n",
       "      <td>NaN</td>\n",
       "      <td>1367.0</td>\n",
       "      <td>NaN</td>\n",
       "      <td>NaN</td>\n",
       "      <td>NaN</td>\n",
       "      <td>35.0</td>\n",
       "      <td>Oxford/AstraZeneca</td>\n",
       "      <td>Government of Afghanistan</td>\n",
       "      <td>https://tolonews.com/index.php/health-170355</td>\n",
       "    </tr>\n",
       "    <tr>\n",
       "      <th>4</th>\n",
       "      <td>Afghanistan</td>\n",
       "      <td>AFG</td>\n",
       "      <td>2021-02-26</td>\n",
       "      <td>NaN</td>\n",
       "      <td>NaN</td>\n",
       "      <td>NaN</td>\n",
       "      <td>NaN</td>\n",
       "      <td>1367.0</td>\n",
       "      <td>NaN</td>\n",
       "      <td>NaN</td>\n",
       "      <td>NaN</td>\n",
       "      <td>35.0</td>\n",
       "      <td>Oxford/AstraZeneca</td>\n",
       "      <td>Government of Afghanistan</td>\n",
       "      <td>https://tolonews.com/index.php/health-170355</td>\n",
       "    </tr>\n",
       "    <tr>\n",
       "      <th>5</th>\n",
       "      <td>Afghanistan</td>\n",
       "      <td>AFG</td>\n",
       "      <td>2021-02-27</td>\n",
       "      <td>NaN</td>\n",
       "      <td>NaN</td>\n",
       "      <td>NaN</td>\n",
       "      <td>NaN</td>\n",
       "      <td>1367.0</td>\n",
       "      <td>NaN</td>\n",
       "      <td>NaN</td>\n",
       "      <td>NaN</td>\n",
       "      <td>35.0</td>\n",
       "      <td>Oxford/AstraZeneca</td>\n",
       "      <td>Government of Afghanistan</td>\n",
       "      <td>https://tolonews.com/index.php/health-170355</td>\n",
       "    </tr>\n",
       "    <tr>\n",
       "      <th>6</th>\n",
       "      <td>Afghanistan</td>\n",
       "      <td>AFG</td>\n",
       "      <td>2021-02-28</td>\n",
       "      <td>8200.0</td>\n",
       "      <td>8200.0</td>\n",
       "      <td>NaN</td>\n",
       "      <td>NaN</td>\n",
       "      <td>1367.0</td>\n",
       "      <td>0.02</td>\n",
       "      <td>0.02</td>\n",
       "      <td>NaN</td>\n",
       "      <td>35.0</td>\n",
       "      <td>Oxford/AstraZeneca</td>\n",
       "      <td>Government of Afghanistan</td>\n",
       "      <td>https://tolonews.com/index.php/health-170355</td>\n",
       "    </tr>\n",
       "    <tr>\n",
       "      <th>7</th>\n",
       "      <td>Albania</td>\n",
       "      <td>ALB</td>\n",
       "      <td>2021-01-10</td>\n",
       "      <td>0.0</td>\n",
       "      <td>0.0</td>\n",
       "      <td>NaN</td>\n",
       "      <td>NaN</td>\n",
       "      <td>NaN</td>\n",
       "      <td>0.00</td>\n",
       "      <td>0.00</td>\n",
       "      <td>NaN</td>\n",
       "      <td>NaN</td>\n",
       "      <td>Pfizer/BioNTech</td>\n",
       "      <td>Ministry of Health</td>\n",
       "      <td>https://shendetesia.gov.al/covid19-ministria-e...</td>\n",
       "    </tr>\n",
       "    <tr>\n",
       "      <th>8</th>\n",
       "      <td>Albania</td>\n",
       "      <td>ALB</td>\n",
       "      <td>2021-01-11</td>\n",
       "      <td>NaN</td>\n",
       "      <td>NaN</td>\n",
       "      <td>NaN</td>\n",
       "      <td>NaN</td>\n",
       "      <td>64.0</td>\n",
       "      <td>NaN</td>\n",
       "      <td>NaN</td>\n",
       "      <td>NaN</td>\n",
       "      <td>22.0</td>\n",
       "      <td>Pfizer/BioNTech</td>\n",
       "      <td>Ministry of Health</td>\n",
       "      <td>https://shendetesia.gov.al/covid19-ministria-e...</td>\n",
       "    </tr>\n",
       "    <tr>\n",
       "      <th>9</th>\n",
       "      <td>Albania</td>\n",
       "      <td>ALB</td>\n",
       "      <td>2021-01-12</td>\n",
       "      <td>128.0</td>\n",
       "      <td>128.0</td>\n",
       "      <td>NaN</td>\n",
       "      <td>NaN</td>\n",
       "      <td>64.0</td>\n",
       "      <td>0.00</td>\n",
       "      <td>0.00</td>\n",
       "      <td>NaN</td>\n",
       "      <td>22.0</td>\n",
       "      <td>Pfizer/BioNTech</td>\n",
       "      <td>Ministry of Health</td>\n",
       "      <td>https://shendetesia.gov.al/covid19-ministria-e...</td>\n",
       "    </tr>\n",
       "  </tbody>\n",
       "</table>\n",
       "</div>"
      ],
      "text/plain": [
       "       country iso_code        date  total_vaccinations  people_vaccinated  \\\n",
       "0  Afghanistan      AFG  2021-02-22                 0.0                0.0   \n",
       "1  Afghanistan      AFG  2021-02-23                 NaN                NaN   \n",
       "2  Afghanistan      AFG  2021-02-24                 NaN                NaN   \n",
       "3  Afghanistan      AFG  2021-02-25                 NaN                NaN   \n",
       "4  Afghanistan      AFG  2021-02-26                 NaN                NaN   \n",
       "5  Afghanistan      AFG  2021-02-27                 NaN                NaN   \n",
       "6  Afghanistan      AFG  2021-02-28              8200.0             8200.0   \n",
       "7      Albania      ALB  2021-01-10                 0.0                0.0   \n",
       "8      Albania      ALB  2021-01-11                 NaN                NaN   \n",
       "9      Albania      ALB  2021-01-12               128.0              128.0   \n",
       "\n",
       "   people_fully_vaccinated  daily_vaccinations_raw  daily_vaccinations  \\\n",
       "0                      NaN                     NaN                 NaN   \n",
       "1                      NaN                     NaN              1367.0   \n",
       "2                      NaN                     NaN              1367.0   \n",
       "3                      NaN                     NaN              1367.0   \n",
       "4                      NaN                     NaN              1367.0   \n",
       "5                      NaN                     NaN              1367.0   \n",
       "6                      NaN                     NaN              1367.0   \n",
       "7                      NaN                     NaN                 NaN   \n",
       "8                      NaN                     NaN                64.0   \n",
       "9                      NaN                     NaN                64.0   \n",
       "\n",
       "   total_vaccinations_per_hundred  people_vaccinated_per_hundred  \\\n",
       "0                            0.00                           0.00   \n",
       "1                             NaN                            NaN   \n",
       "2                             NaN                            NaN   \n",
       "3                             NaN                            NaN   \n",
       "4                             NaN                            NaN   \n",
       "5                             NaN                            NaN   \n",
       "6                            0.02                           0.02   \n",
       "7                            0.00                           0.00   \n",
       "8                             NaN                            NaN   \n",
       "9                            0.00                           0.00   \n",
       "\n",
       "   people_fully_vaccinated_per_hundred  daily_vaccinations_per_million  \\\n",
       "0                                  NaN                             NaN   \n",
       "1                                  NaN                            35.0   \n",
       "2                                  NaN                            35.0   \n",
       "3                                  NaN                            35.0   \n",
       "4                                  NaN                            35.0   \n",
       "5                                  NaN                            35.0   \n",
       "6                                  NaN                            35.0   \n",
       "7                                  NaN                             NaN   \n",
       "8                                  NaN                            22.0   \n",
       "9                                  NaN                            22.0   \n",
       "\n",
       "             vaccines                source_name  \\\n",
       "0  Oxford/AstraZeneca  Government of Afghanistan   \n",
       "1  Oxford/AstraZeneca  Government of Afghanistan   \n",
       "2  Oxford/AstraZeneca  Government of Afghanistan   \n",
       "3  Oxford/AstraZeneca  Government of Afghanistan   \n",
       "4  Oxford/AstraZeneca  Government of Afghanistan   \n",
       "5  Oxford/AstraZeneca  Government of Afghanistan   \n",
       "6  Oxford/AstraZeneca  Government of Afghanistan   \n",
       "7     Pfizer/BioNTech         Ministry of Health   \n",
       "8     Pfizer/BioNTech         Ministry of Health   \n",
       "9     Pfizer/BioNTech         Ministry of Health   \n",
       "\n",
       "                                      source_website  \n",
       "0       https://tolonews.com/index.php/health-170355  \n",
       "1       https://tolonews.com/index.php/health-170355  \n",
       "2       https://tolonews.com/index.php/health-170355  \n",
       "3       https://tolonews.com/index.php/health-170355  \n",
       "4       https://tolonews.com/index.php/health-170355  \n",
       "5       https://tolonews.com/index.php/health-170355  \n",
       "6       https://tolonews.com/index.php/health-170355  \n",
       "7  https://shendetesia.gov.al/covid19-ministria-e...  \n",
       "8  https://shendetesia.gov.al/covid19-ministria-e...  \n",
       "9  https://shendetesia.gov.al/covid19-ministria-e...  "
      ]
     },
     "execution_count": 13,
     "metadata": {},
     "output_type": "execute_result"
    }
   ],
   "source": [
    "# Määritellään pandas kirjasto.\n",
    "import pandas as pd\n",
    "# Luetaan csv-tiedosto ja haetaan sen 10 ensimmäistä riviä.\n",
    "# Data ladattu Kaggle-palvelusta.\n",
    "orig_df = pd.read_csv('country_vaccinations.csv')\n",
    "orig_df.head(10)\n",
    "# Skenderi, E (2021) Session 1 - Analysing Transaction Data. https://github.com/InfoTUNI/joda2021/blob/master/koodiesimerkit/Session%201%20-%20Analysis%20of%20Transactions.ipynb"
   ]
  },
  {
   "cell_type": "code",
   "execution_count": 14,
   "metadata": {},
   "outputs": [
    {
     "data": {
      "text/html": [
       "<div>\n",
       "<style scoped>\n",
       "    .dataframe tbody tr th:only-of-type {\n",
       "        vertical-align: middle;\n",
       "    }\n",
       "\n",
       "    .dataframe tbody tr th {\n",
       "        vertical-align: top;\n",
       "    }\n",
       "\n",
       "    .dataframe thead th {\n",
       "        text-align: right;\n",
       "    }\n",
       "</style>\n",
       "<table border=\"1\" class=\"dataframe\">\n",
       "  <thead>\n",
       "    <tr style=\"text-align: right;\">\n",
       "      <th></th>\n",
       "      <th>daily_vaccinations</th>\n",
       "      <th>daily_vaccinations_per_million</th>\n",
       "      <th>daily_vaccinations_raw</th>\n",
       "      <th>people_fully_vaccinated</th>\n",
       "      <th>people_fully_vaccinated_per_hundred</th>\n",
       "      <th>people_vaccinated</th>\n",
       "      <th>people_vaccinated_per_hundred</th>\n",
       "      <th>total_vaccinations</th>\n",
       "      <th>total_vaccinations_per_hundred</th>\n",
       "    </tr>\n",
       "    <tr>\n",
       "      <th>date</th>\n",
       "      <th></th>\n",
       "      <th></th>\n",
       "      <th></th>\n",
       "      <th></th>\n",
       "      <th></th>\n",
       "      <th></th>\n",
       "      <th></th>\n",
       "      <th></th>\n",
       "      <th></th>\n",
       "    </tr>\n",
       "  </thead>\n",
       "  <tbody>\n",
       "    <tr>\n",
       "      <th>2020-12-13</th>\n",
       "      <td>NaN</td>\n",
       "      <td>NaN</td>\n",
       "      <td>NaN</td>\n",
       "      <td>NaN</td>\n",
       "      <td>NaN</td>\n",
       "      <td>3.458600e+04</td>\n",
       "      <td>0.206000</td>\n",
       "      <td>3.458600e+04</td>\n",
       "      <td>0.206000</td>\n",
       "    </tr>\n",
       "    <tr>\n",
       "      <th>2020-12-14</th>\n",
       "      <td>33646.800000</td>\n",
       "      <td>1058.400000</td>\n",
       "      <td>NaN</td>\n",
       "      <td>NaN</td>\n",
       "      <td>NaN</td>\n",
       "      <td>NaN</td>\n",
       "      <td>NaN</td>\n",
       "      <td>5.000000e+00</td>\n",
       "      <td>0.000000</td>\n",
       "    </tr>\n",
       "    <tr>\n",
       "      <th>2020-12-15</th>\n",
       "      <td>28158.666667</td>\n",
       "      <td>885.166667</td>\n",
       "      <td>718.000000</td>\n",
       "      <td>NaN</td>\n",
       "      <td>NaN</td>\n",
       "      <td>2.850000e+04</td>\n",
       "      <td>0.020000</td>\n",
       "      <td>5.097410e+05</td>\n",
       "      <td>0.040000</td>\n",
       "    </tr>\n",
       "    <tr>\n",
       "      <th>2020-12-16</th>\n",
       "      <td>45075.000000</td>\n",
       "      <td>685.625000</td>\n",
       "      <td>2300.000000</td>\n",
       "      <td>NaN</td>\n",
       "      <td>NaN</td>\n",
       "      <td>NaN</td>\n",
       "      <td>NaN</td>\n",
       "      <td>3.023000e+03</td>\n",
       "      <td>0.010000</td>\n",
       "    </tr>\n",
       "    <tr>\n",
       "      <th>2020-12-17</th>\n",
       "      <td>45186.250000</td>\n",
       "      <td>688.625000</td>\n",
       "      <td>4179.000000</td>\n",
       "      <td>NaN</td>\n",
       "      <td>NaN</td>\n",
       "      <td>NaN</td>\n",
       "      <td>NaN</td>\n",
       "      <td>7.202000e+03</td>\n",
       "      <td>0.020000</td>\n",
       "    </tr>\n",
       "    <tr>\n",
       "      <th>...</th>\n",
       "      <td>...</td>\n",
       "      <td>...</td>\n",
       "      <td>...</td>\n",
       "      <td>...</td>\n",
       "      <td>...</td>\n",
       "      <td>...</td>\n",
       "      <td>...</td>\n",
       "      <td>...</td>\n",
       "      <td>...</td>\n",
       "    </tr>\n",
       "    <tr>\n",
       "      <th>2021-03-13</th>\n",
       "      <td>80690.946903</td>\n",
       "      <td>2992.920354</td>\n",
       "      <td>143549.383562</td>\n",
       "      <td>1.601939e+06</td>\n",
       "      <td>5.509592</td>\n",
       "      <td>3.172678e+06</td>\n",
       "      <td>10.779155</td>\n",
       "      <td>4.070179e+06</td>\n",
       "      <td>15.006753</td>\n",
       "    </tr>\n",
       "    <tr>\n",
       "      <th>2021-03-14</th>\n",
       "      <td>82187.772727</td>\n",
       "      <td>3025.454545</td>\n",
       "      <td>53789.044118</td>\n",
       "      <td>1.694713e+06</td>\n",
       "      <td>5.861304</td>\n",
       "      <td>3.258033e+06</td>\n",
       "      <td>10.487000</td>\n",
       "      <td>4.827328e+06</td>\n",
       "      <td>14.403418</td>\n",
       "    </tr>\n",
       "    <tr>\n",
       "      <th>2021-03-15</th>\n",
       "      <td>82397.784314</td>\n",
       "      <td>3272.598039</td>\n",
       "      <td>135983.878788</td>\n",
       "      <td>1.409442e+06</td>\n",
       "      <td>5.798621</td>\n",
       "      <td>2.880076e+06</td>\n",
       "      <td>11.363210</td>\n",
       "      <td>3.652337e+06</td>\n",
       "      <td>15.815730</td>\n",
       "    </tr>\n",
       "    <tr>\n",
       "      <th>2021-03-16</th>\n",
       "      <td>95594.436782</td>\n",
       "      <td>3180.747126</td>\n",
       "      <td>120426.522388</td>\n",
       "      <td>1.650766e+06</td>\n",
       "      <td>6.415957</td>\n",
       "      <td>3.305070e+06</td>\n",
       "      <td>11.843284</td>\n",
       "      <td>4.186146e+06</td>\n",
       "      <td>16.063200</td>\n",
       "    </tr>\n",
       "    <tr>\n",
       "      <th>2021-03-17</th>\n",
       "      <td>122883.859649</td>\n",
       "      <td>2602.192982</td>\n",
       "      <td>160726.777778</td>\n",
       "      <td>2.122435e+06</td>\n",
       "      <td>6.176389</td>\n",
       "      <td>3.322474e+06</td>\n",
       "      <td>8.069434</td>\n",
       "      <td>4.445770e+06</td>\n",
       "      <td>12.475085</td>\n",
       "    </tr>\n",
       "  </tbody>\n",
       "</table>\n",
       "<p>95 rows × 9 columns</p>\n",
       "</div>"
      ],
      "text/plain": [
       "            daily_vaccinations  daily_vaccinations_per_million  \\\n",
       "date                                                             \n",
       "2020-12-13                 NaN                             NaN   \n",
       "2020-12-14        33646.800000                     1058.400000   \n",
       "2020-12-15        28158.666667                      885.166667   \n",
       "2020-12-16        45075.000000                      685.625000   \n",
       "2020-12-17        45186.250000                      688.625000   \n",
       "...                        ...                             ...   \n",
       "2021-03-13        80690.946903                     2992.920354   \n",
       "2021-03-14        82187.772727                     3025.454545   \n",
       "2021-03-15        82397.784314                     3272.598039   \n",
       "2021-03-16        95594.436782                     3180.747126   \n",
       "2021-03-17       122883.859649                     2602.192982   \n",
       "\n",
       "            daily_vaccinations_raw  people_fully_vaccinated  \\\n",
       "date                                                          \n",
       "2020-12-13                     NaN                      NaN   \n",
       "2020-12-14                     NaN                      NaN   \n",
       "2020-12-15              718.000000                      NaN   \n",
       "2020-12-16             2300.000000                      NaN   \n",
       "2020-12-17             4179.000000                      NaN   \n",
       "...                            ...                      ...   \n",
       "2021-03-13           143549.383562             1.601939e+06   \n",
       "2021-03-14            53789.044118             1.694713e+06   \n",
       "2021-03-15           135983.878788             1.409442e+06   \n",
       "2021-03-16           120426.522388             1.650766e+06   \n",
       "2021-03-17           160726.777778             2.122435e+06   \n",
       "\n",
       "            people_fully_vaccinated_per_hundred  people_vaccinated  \\\n",
       "date                                                                 \n",
       "2020-12-13                                  NaN       3.458600e+04   \n",
       "2020-12-14                                  NaN                NaN   \n",
       "2020-12-15                                  NaN       2.850000e+04   \n",
       "2020-12-16                                  NaN                NaN   \n",
       "2020-12-17                                  NaN                NaN   \n",
       "...                                         ...                ...   \n",
       "2021-03-13                             5.509592       3.172678e+06   \n",
       "2021-03-14                             5.861304       3.258033e+06   \n",
       "2021-03-15                             5.798621       2.880076e+06   \n",
       "2021-03-16                             6.415957       3.305070e+06   \n",
       "2021-03-17                             6.176389       3.322474e+06   \n",
       "\n",
       "            people_vaccinated_per_hundred  total_vaccinations  \\\n",
       "date                                                            \n",
       "2020-12-13                       0.206000        3.458600e+04   \n",
       "2020-12-14                            NaN        5.000000e+00   \n",
       "2020-12-15                       0.020000        5.097410e+05   \n",
       "2020-12-16                            NaN        3.023000e+03   \n",
       "2020-12-17                            NaN        7.202000e+03   \n",
       "...                                   ...                 ...   \n",
       "2021-03-13                      10.779155        4.070179e+06   \n",
       "2021-03-14                      10.487000        4.827328e+06   \n",
       "2021-03-15                      11.363210        3.652337e+06   \n",
       "2021-03-16                      11.843284        4.186146e+06   \n",
       "2021-03-17                       8.069434        4.445770e+06   \n",
       "\n",
       "            total_vaccinations_per_hundred  \n",
       "date                                        \n",
       "2020-12-13                        0.206000  \n",
       "2020-12-14                        0.000000  \n",
       "2020-12-15                        0.040000  \n",
       "2020-12-16                        0.010000  \n",
       "2020-12-17                        0.020000  \n",
       "...                                    ...  \n",
       "2021-03-13                       15.006753  \n",
       "2021-03-14                       14.403418  \n",
       "2021-03-15                       15.815730  \n",
       "2021-03-16                       16.063200  \n",
       "2021-03-17                       12.475085  \n",
       "\n",
       "[95 rows x 9 columns]"
      ]
     },
     "execution_count": 14,
     "metadata": {},
     "output_type": "execute_result"
    }
   ],
   "source": [
    "# Määritellään numpy kirjasto.\n",
    "import numpy as np\n",
    "# Käännetään taulukko näyttämään rokotukset päivämäärän mukaan.\n",
    "orig_df.pivot_table(orig_df, index=[\"date\"], aggfunc=np.mean)\n",
    "# Huhtamäki, J (2021) Joda 2021 - luento 1. https://github.com/InfoTUNI/joda2021/blob/master/luentomuistio/luento01.ipynb"
   ]
  },
  {
   "cell_type": "code",
   "execution_count": 15,
   "metadata": {},
   "outputs": [
    {
     "name": "stdout",
     "output_type": "stream",
     "text": [
      "country                                 object\n",
      "iso_code                                object\n",
      "date                                    object\n",
      "total_vaccinations                     float64\n",
      "people_vaccinated                      float64\n",
      "people_fully_vaccinated                float64\n",
      "daily_vaccinations_raw                 float64\n",
      "daily_vaccinations                     float64\n",
      "total_vaccinations_per_hundred         float64\n",
      "people_vaccinated_per_hundred          float64\n",
      "people_fully_vaccinated_per_hundred    float64\n",
      "daily_vaccinations_per_million         float64\n",
      "vaccines                                object\n",
      "source_name                             object\n",
      "source_website                          object\n",
      "dtype: object\n"
     ]
    }
   ],
   "source": [
    "# Tulostetaan sarakkeiden tyypit.\n",
    "print(orig_df.dtypes)"
   ]
  },
  {
   "cell_type": "code",
   "execution_count": 16,
   "metadata": {},
   "outputs": [
    {
     "name": "stdout",
     "output_type": "stream",
     "text": [
      "country                                 object\n",
      "iso_code                                object\n",
      "date                                    object\n",
      "total_vaccinations                     float64\n",
      "people_vaccinated                      float64\n",
      "people_fully_vaccinated                float64\n",
      "daily_vaccinations_raw                 float64\n",
      "daily_vaccinations                       int64\n",
      "total_vaccinations_per_hundred         float64\n",
      "people_vaccinated_per_hundred          float64\n",
      "people_fully_vaccinated_per_hundred    float64\n",
      "daily_vaccinations_per_million         float64\n",
      "vaccines                                object\n",
      "source_name                             object\n",
      "source_website                          object\n",
      "dtype: object\n"
     ]
    }
   ],
   "source": [
    "# Korvataan sarakkeen NaN-arvot nollalla ja muunnetaan ne kokonaisluvuiksi.\n",
    "orig_df['daily_vaccinations'] = orig_df['daily_vaccinations'].fillna(0).astype(int)\n",
    "orig_df['daily_vaccinations'] = orig_df['daily_vaccinations'].apply(np.int64)\n",
    "print(orig_df.dtypes)\n",
    "# Skenderi, E (2021) Session 1 - Analysing Transaction Data. https://github.com/InfoTUNI/joda2021/blob/master/koodiesimerkit/Session%201%20-%20Analysis%20of%20Transactions.ipynb"
   ]
  },
  {
   "cell_type": "code",
   "execution_count": 17,
   "metadata": {},
   "outputs": [
    {
     "name": "stdout",
     "output_type": "stream",
     "text": [
      "Sum of people vaccinated in Finland: 676566\n"
     ]
    }
   ],
   "source": [
    "# Valitaan kaikki rivit, joissa maa on Finland.\n",
    "fin = orig_df.loc[:,['daily_vaccinations','country']]\n",
    "fin = fin[ fin['country'] == 'Finland' ]\n",
    "sum_fin = sum(fin['daily_vaccinations'])\n",
    "# Tulostetaan suomessa annettujen rokotteiden summa.\n",
    "print(\"Sum of people vaccinated in Finland: {}\".format(sum_fin))\n",
    "# Skenderi, E (2021) Session 1 - Analysing Transaction Data. https://github.com/InfoTUNI/joda2021/blob/master/koodiesimerkit/Session%201%20-%20Analysis%20of%20Transactions.ipynb\n"
   ]
  },
  {
   "cell_type": "markdown",
   "metadata": {},
   "source": [
    "## Viikko 2"
   ]
  },
  {
   "cell_type": "markdown",
   "metadata": {},
   "source": [
    "Toisella viikolla osallistuin sekä luennolle että demosessioon. Oppimispäiväkirjassa on hyödynnetty luentorunkoa, demosessiota ja muuta luennon ohessa esiteltyä aineistoa. Luentoviikolla 2 keskityttiin datan keräämiseen ja jalostamiseen."
   ]
  },
  {
   "cell_type": "markdown",
   "metadata": {},
   "source": [
    "Philip Guo esittelee blogitekstissään Data Science Workflow: Overview and Challenges kuvion nimeltä The Data Science Workflow. Kuvio esittelee tyypillisen datatieteen työnkulun vaiheet. Siihen kuuluu neljä pääasiallista vaihetta jotka ovat: datan valmistelu, analyysin suorittaminen ja pohdinta sekä niiden vuorottelu datan tulkitsemiseksi ja viimeiseksi tulosten levittäminen raportin ja/tai suoritettavan koodin muodossa (Guo 2013). Datatieteen työprosessista voitaisiin lisäksi nostaa esiin Vincent Gravillen määritelmän mukaan ETL ja DAD. Hän nostaa esiin että ETL on enemmän datainsinööreille, jotka keskittyvät ohjelmistokehitykseen, tietokantojen suunnitteluun ja siihen, että data liikkuu jouhevasti lähteen ja määränpään välillä. DAD taas on tarkoitettu datatieteilijöille, jotka keskittyvät datan tuottamaan arvoon. Datatieteilijöiden on kuitenkin tarpeellista ymmärtää myös tietovirtojen kulku (Granville 2014).\n",
    "\n",
    "Data-analytiikan kyvykkyydet parantavat organisaation suorituskykyä. Analytiikan avulla pyritään lisäämään ymmärrystä erityisesti liiketoimintaprosessista. Ymmärrystä voidaan tarkastella analytiikan nelikentän avulla joka jakautuu kuvailevaan, diagnosoivaan, ennakoivaan ja ohjaavaan analytiikkaan. Lisäksi voitaisiin mainita vielä kartoittava analytiikka. Kuvaileva analytiikka selittää mitä on tapahtunut ja diagnosoiva analytiikka miksi jotain tapahtui. Ennakoivan analytiikan avulla pyritään ennakoimaan tulevaa liiketoimintatilannetta ja ohjaava analytiikka vastaa kysymykseen mitä asialle pitäisi tehdä (Huhtamäki 2021). Rasmus Wegenerin ja Velu Sinhan raportissaan esittelemien analytiikan tilaa yrityksissä kuvaavien lukujen perusteella voisi sanoa, että analytiikkaa ei hyödynnetä vielä yrityksissä niin paljoa kuin olisi mahdollista. Analytiikan hyödyntäminen ja merkitys kasvaa yrityksissä kovaa vauhtia.\n",
    "\n",
    "Ryömijä on robotti, joka käy systemaattisesti läpi verkko-osoitteita tarkoituksenaan yleisesti sivujen indeksointi. Ryömijä saa käyttäjältä lähtöpisteeksi verkkosivujen osoitteita, jotka se käy läpi. Ryömijä kasvattaa omaa hakuavaruuttaan lisäämällä alkupisteestä löytyvien verkkosivujen sisältämät hyperlinkit omaan hakujonoon. Ryömijän toimintaa kontrolloidaan rajoittamalla mitä sivuja se käsittelee (valinta), milloin sen tulee palata jollekin sivulle (uudelleenkäynti), miten se estää ylikuormituksen vierailtavilla sivuilla (kohteliaisuus) ja miten sen toimintaa koordinoidaan (rinnakkaistaminen) (Huhtamäki 20201). Suosittuja avoimen lähdekoodin ryömijöitä ovat esimerkiksi Heritix, Nutch ja Scrapy (Baiju NT 2018).\n",
    "\n",
    "Raapija on työkalu, jolla kerätään automatisoidusti tietoa verkkosivuilta. Käytännössä toteutukset ovat yleensä yhdistelmiä ryömijöistä ja raapijoista, joissa ryömijä luo hakuavaruuden lisäämällä hyperlinkkejä hakujonoon ja raapija kerää tiedon sivustoilta annettujen parametrien pohjalta. Raapija pyrkii yleisesti tunnistamaan metaelementtejä  verkkosivujen rakenteessa ja käyttämällä näitä hyödyksi käyttäjää kiinnostavat tiedon tallentamiseksi. Muita tekniikoita voivat olla myös semanttiseen rakenteeseen perustuva haku tai sivuston ulkoasuun perustuva tunnistus (Huhtamäki 2021). Yleisesti käytettyjä raapijoita ovat mm. Scraper API, ScrapeSimple ja Octoparse (Ni 2019).\n",
    "\n",
    "Raapijoiden ja ryömijöiden käyttö voidaan nähdä usein myös negatiivisena asiana. Sitä on käytetty paljon liiketoimintatarkoituksessa kilpailuedun kasvattamiseksi. Raavintaa saatetaan usein tehdä myös välittämättä tekijänoikeuksista ja lisäksi sillä saatetaan aiheuttaa odottamatonta kuormitusta nettisivustolle (Bernard 2017). Voitaisiin esimerkiksi miettiä, että onko eettisesti oikein kerätä toisten toimijoiden nettisivuilta dataa omiin tarkoituksiin.\n",
    "\n",
    "Datatyyppi on standardimuoto, jolla ohjelma käsittelee muuttujan sisältämää tietoa. Yleisimpiä datatyyppejä ovat esimerkiksi reaali, numeerinen ja boolean. Datatyyppi rajoittaa sitä, mitä operaatioita datalle voidaan suorittaa. Data voidaan lisäksi jakaa käytännössä joko teksti- ja binäärimuotoiseen tiedostotyyppiin. Tekstimuotoinen on ihmisen luettavissa ja binäärimuotoinen vain koneen luettavissa (Huhtamäki 2021).\n",
    "\n",
    "Tiedon välittäminen tarkoittaa tiedon muuntamista ja mallinnusta raakamuotoisesta datasta paremmin hyödynnettävään muotoon. Lopputuote riippuu hyvin paljolti siitä, millaisessa analytiikkaprosessissa sitä halutaan hyödyntää. Esimerkiksi Pandas on erinomainen työkalu datan hallitsemisessa (Huhtamäki 2021).  Pandas on nopea, tehokas, joustava ja helppokäyttöinen avoimen lähdekoodin data-analyysi työkalu, joka on rakennettu Python-ohjelmointikielen päälle (Pandas 2021)."
   ]
  },
  {
   "cell_type": "markdown",
   "metadata": {},
   "source": [
    "### Viisi tärkeintä asiaa"
   ]
  },
  {
   "cell_type": "markdown",
   "metadata": {},
   "source": [
    "1. Data Science Workflow -prosessikaavio.\n",
    "2. ETL ja DAD ja niiden erot.\n",
    "3. Data-analytiikan avulla pyritään parantamaan organisaation suorituskykyä.\n",
    "4. Raapijoita ja ryömijöitä voidaan käyttää datan keräämiseen web-sivustoilta.\n",
    "5. Yleisimpiä datatyyppejä ovat reaali, numeerinen ja boolean."
   ]
  },
  {
   "cell_type": "markdown",
   "metadata": {},
   "source": [
    "### Kehitysideat"
   ]
  },
  {
   "cell_type": "markdown",
   "metadata": {},
   "source": [
    "1. Erilaisia kirjastoja ja niiden tarkoitusta voisi käydä hieman läpi luennoilla, esim. Pandas ja Numpy."
   ]
  },
  {
   "cell_type": "markdown",
   "metadata": {},
   "source": [
    "### Koodidemo"
   ]
  },
  {
   "cell_type": "code",
   "execution_count": 2,
   "metadata": {},
   "outputs": [],
   "source": [
    "# Tuodaan kirjastot\n",
    "from bs4 import BeautifulSoup\n",
    "import pandas as pd\n",
    "from urllib.request import urlopen"
   ]
  },
  {
   "cell_type": "code",
   "execution_count": 3,
   "metadata": {},
   "outputs": [],
   "source": [
    "# Määritellään verkkosivu ja haetaan lähdekoodi.\n",
    "url = 'https://quotes.toscrape.com'\n",
    "page = urlopen(url)\n",
    "soup = BeautifulSoup(page, 'html.parser')"
   ]
  },
  {
   "cell_type": "code",
   "execution_count": 8,
   "metadata": {},
   "outputs": [],
   "source": [
    "# Haetaan sivulta halutut elementit.\n",
    "quotes = soup.find_all('div', {'class': 'quote'})\n",
    "# Käydään elementit läpi ja haetaan halutut tiedot.\n",
    "for quote in quotes:\n",
    "    text = quote.find('span', class_ = 'text').text\n",
    "    author = quote.find('small', class_ ='author').text\n",
    "    tags = quote.find('div', class_ ='tags').find_all('a')\n",
    "    \n",
    "    tags_list = []\n",
    "    for tag in tags:\n",
    "        tags_list.append(tag.text)\n",
    "\n",
    "    single_quote = [text, author, tags_list]\n",
    "    all_quotes.append(single_quote)\n",
    "# Tallennetaan haluttu tieto dataframeen.\n",
    "df = pd.DataFrame(all_quotes, columns=['quote', 'author', 'tags'])\n",
    "# Silveira, O (2020) A Gentle Inroduction to Web Scraping with Python. https://towardsdatascience.com/a-gentle-introduction-to-web-scraping-with-python-b914a64b2fb8"
   ]
  },
  {
   "cell_type": "code",
   "execution_count": 9,
   "metadata": {},
   "outputs": [
    {
     "data": {
      "text/html": [
       "<div>\n",
       "<style scoped>\n",
       "    .dataframe tbody tr th:only-of-type {\n",
       "        vertical-align: middle;\n",
       "    }\n",
       "\n",
       "    .dataframe tbody tr th {\n",
       "        vertical-align: top;\n",
       "    }\n",
       "\n",
       "    .dataframe thead th {\n",
       "        text-align: right;\n",
       "    }\n",
       "</style>\n",
       "<table border=\"1\" class=\"dataframe\">\n",
       "  <thead>\n",
       "    <tr style=\"text-align: right;\">\n",
       "      <th></th>\n",
       "      <th>quote</th>\n",
       "      <th>author</th>\n",
       "      <th>tags</th>\n",
       "    </tr>\n",
       "  </thead>\n",
       "  <tbody>\n",
       "    <tr>\n",
       "      <th>0</th>\n",
       "      <td>“A day without sunshine is like, you know, nig...</td>\n",
       "      <td>Steve Martin</td>\n",
       "      <td>[humor, obvious, simile]</td>\n",
       "    </tr>\n",
       "    <tr>\n",
       "      <th>1</th>\n",
       "      <td>“The world as we have created it is a process ...</td>\n",
       "      <td>Albert Einstein</td>\n",
       "      <td>[change, deep-thoughts, thinking, world]</td>\n",
       "    </tr>\n",
       "    <tr>\n",
       "      <th>2</th>\n",
       "      <td>“It is our choices, Harry, that show what we t...</td>\n",
       "      <td>J.K. Rowling</td>\n",
       "      <td>[abilities, choices]</td>\n",
       "    </tr>\n",
       "    <tr>\n",
       "      <th>3</th>\n",
       "      <td>“There are only two ways to live your life. On...</td>\n",
       "      <td>Albert Einstein</td>\n",
       "      <td>[inspirational, life, live, miracle, miracles]</td>\n",
       "    </tr>\n",
       "    <tr>\n",
       "      <th>4</th>\n",
       "      <td>“The person, be it gentleman or lady, who has ...</td>\n",
       "      <td>Jane Austen</td>\n",
       "      <td>[aliteracy, books, classic, humor]</td>\n",
       "    </tr>\n",
       "    <tr>\n",
       "      <th>5</th>\n",
       "      <td>“Imperfection is beauty, madness is genius and...</td>\n",
       "      <td>Marilyn Monroe</td>\n",
       "      <td>[be-yourself, inspirational]</td>\n",
       "    </tr>\n",
       "    <tr>\n",
       "      <th>6</th>\n",
       "      <td>“Try not to become a man of success. Rather be...</td>\n",
       "      <td>Albert Einstein</td>\n",
       "      <td>[adulthood, success, value]</td>\n",
       "    </tr>\n",
       "    <tr>\n",
       "      <th>7</th>\n",
       "      <td>“It is better to be hated for what you are tha...</td>\n",
       "      <td>André Gide</td>\n",
       "      <td>[life, love]</td>\n",
       "    </tr>\n",
       "    <tr>\n",
       "      <th>8</th>\n",
       "      <td>“I have not failed. I've just found 10,000 way...</td>\n",
       "      <td>Thomas A. Edison</td>\n",
       "      <td>[edison, failure, inspirational, paraphrased]</td>\n",
       "    </tr>\n",
       "    <tr>\n",
       "      <th>9</th>\n",
       "      <td>“A woman is like a tea bag; you never know how...</td>\n",
       "      <td>Eleanor Roosevelt</td>\n",
       "      <td>[misattributed-eleanor-roosevelt]</td>\n",
       "    </tr>\n",
       "    <tr>\n",
       "      <th>10</th>\n",
       "      <td>“A day without sunshine is like, you know, nig...</td>\n",
       "      <td>Steve Martin</td>\n",
       "      <td>[humor, obvious, simile]</td>\n",
       "    </tr>\n",
       "  </tbody>\n",
       "</table>\n",
       "</div>"
      ],
      "text/plain": [
       "                                                quote             author  \\\n",
       "0   “A day without sunshine is like, you know, nig...       Steve Martin   \n",
       "1   “The world as we have created it is a process ...    Albert Einstein   \n",
       "2   “It is our choices, Harry, that show what we t...       J.K. Rowling   \n",
       "3   “There are only two ways to live your life. On...    Albert Einstein   \n",
       "4   “The person, be it gentleman or lady, who has ...        Jane Austen   \n",
       "5   “Imperfection is beauty, madness is genius and...     Marilyn Monroe   \n",
       "6   “Try not to become a man of success. Rather be...    Albert Einstein   \n",
       "7   “It is better to be hated for what you are tha...         André Gide   \n",
       "8   “I have not failed. I've just found 10,000 way...   Thomas A. Edison   \n",
       "9   “A woman is like a tea bag; you never know how...  Eleanor Roosevelt   \n",
       "10  “A day without sunshine is like, you know, nig...       Steve Martin   \n",
       "\n",
       "                                              tags  \n",
       "0                         [humor, obvious, simile]  \n",
       "1         [change, deep-thoughts, thinking, world]  \n",
       "2                             [abilities, choices]  \n",
       "3   [inspirational, life, live, miracle, miracles]  \n",
       "4               [aliteracy, books, classic, humor]  \n",
       "5                     [be-yourself, inspirational]  \n",
       "6                      [adulthood, success, value]  \n",
       "7                                     [life, love]  \n",
       "8    [edison, failure, inspirational, paraphrased]  \n",
       "9                [misattributed-eleanor-roosevelt]  \n",
       "10                        [humor, obvious, simile]  "
      ]
     },
     "execution_count": 9,
     "metadata": {},
     "output_type": "execute_result"
    }
   ],
   "source": [
    "df"
   ]
  },
  {
   "cell_type": "markdown",
   "metadata": {},
   "source": [
    "## Viikko 3"
   ]
  },
  {
   "cell_type": "markdown",
   "metadata": {},
   "source": [
    "Kolmannella viikolla osallistuin sekä luennolle että demosessioon. Oppimispäiväkirjassa on hyödynnetty luentorunkoa, demosessiota ja muuta luennon ohessa esiteltyä aineistoa. Luentoviikolla 3 käsiteltiin koneoppimisen periatteita."
   ]
  },
  {
   "cell_type": "markdown",
   "metadata": {},
   "source": [
    "Koneoppimisessa oppimisprosessi on pohjimmiltaan samanlainen kuin ihmisen oppimisessa. Se voidaan jakaa neljään toisiinsa liittyvään komponenttiin: tietojen tallennus, abstraktio, yleistäminen ja arviointi. Koneoppimisalgoritmit voidaan jakaa eri kategorioihin sen mukaan, mikä niiden tarkoitus on. Kategorioita ovat esimerkiksi ohjattu, ohjaamaton ja vahvistettu oppiminen (Ivan 2015).\n",
    "\n",
    "Ohjatun oppimisen algoritmeja käytetään pääasiallisesti ennakoivassa mallintamisessa. Ennakoiva malli on rakennettu koneoppimisalgoritmista ja piirteistä tai ominaisuuksista jotka on eroteltu \"harjoitusdatasta\" siten, että mallin avulla voidaan ennustaa arvoja syötetystä datasta. Ohjatut oppimisalgoritmit yrittävät siis mallintaa suhteita ja riippuvuuksia siten, että voimme ennustaa uuden datan lähtöarvot niiden suhteiden perusteella, jotka se on oppinut edellisistä data-aineistoista. Ohjatun oppimisen algoritmit voidaan jakaa kahteen päätyyppiin, jotka ovat luokittelu- ja regressioalgoritmit. Luokittelualgoritmit rakentavat ennustavia malleja \"harjoitusdatasta\", jossa on erotettavissa piirteitä ja luokkamerkintöjä. Tämä ennustava malli pystyy luokittelemaan uutta dataa perustuen aiemmin opittuihin piirteisiin ja luokkamerkitöihin. Luokittelualgoritmeja ovat esimerkiksi decision tree, random forest ja support vector machine. Regressioalgoritmi rakentaa mallin perustuen \"harjoitusdatan\" piirteisiin ja siitä saatuihin arvoihin. Mallia käytetään ennustaessa arvoja uudelle datalle. Regressioalgoritmeja ovat esim. lineaarinen regressio, monivaiheinen regressio, regressio puut ja lasso regressio (Ivan 2015).\n",
    "\n",
    "Viime vuosina monet menestystarinat tekoälystä pohjautuvat koneoppimiseen ja syviin neuroverkkoihin. Tekoälyn kehitys voitaisiin jakaa kolmeen aaltoon, jotka ovat: käsin rakennetut toteutukset, tilastollinen oppiminen ja tilanteeseen mukautuva oppiva tekoäly. Nästä tilastollinen oppiminen on nykyisin vallitseva teknologia, johon koneoppiminen ja syvät neuroverkot kuuluvat. Kolmannen aallon odotetaan alkavan 2020-luvulla. Asiantuntijoiden näkökulmasta koneoppiminen ja neuroverkot tulevat olemaan merkittävin tekoälyteknologia myös lähivuosina (Ailisto, Kaski & Suominen 2019).\n",
    "\n",
    "Laskennallinen analytiikka perustuu piirteisiin (features), jotka voivat olla binäärisiä, kategorisia tai jatkuvia. Piirteiden voidaan sanoa olevan syötteen muuttujan synonyymeja. Ihmisen asiantuntemuksen avulla muunnetaan ns. raakadata sarjaksi koneoppimisen näkökulmasta hyödyllisiä ominaisuuksia. Prosessia voidaan täydentää  eri menetelmillä, jotka tunnistavat datasta piirteitä automaattisesti.Tällaisia prosesseja ovat esimerkiksi standardointi, kohinan poisto, ulottuvuuksien vähentäminen ja ulottuvuuksien kasvattaminen (Huhtamäki 2021).\n",
    "\n",
    "Piirteiden suunnittelu (feature engineering) on tärkeä koneoppimisen osa-alue. Se on prosessi, jossa datatietojen avulla luodaan ominaisuuksia, joiden avulla koneoppimisalgoritmit saadaan toimimaan. Jos piirteiden suunnittelu tehdään oikein, niin se lisää koneoppimisalgoritmin ennustavaa voimaa luomalla raakadatasta ominaisuuksia, jotka helpottavat koneoppimisprosessia. Piirteiden suunnittelun avulla on mahdollista luoda valtava ero hyvän ja huonon mallin välille (Shekhar 2018)."
   ]
  },
  {
   "cell_type": "markdown",
   "metadata": {},
   "source": [
    "### Viisi tärkeintä asiaa"
   ]
  },
  {
   "cell_type": "markdown",
   "metadata": {},
   "source": [
    "1. Supervised Learning Workflow\n",
    "2. Yksi koneoppimisen kategoria on ohjattu oppiminen.\n",
    "3. Ohjatun oppimisen algoritmeja ovat luokittelu- ja regressioalgoritmit.\n",
    "4. Koneoppiminen ja neuroverkot ovat merkittävimpiä tekoälyteknologioita lähivuosina.\n",
    "5. Piirteiden suunnittelun avulla voidaan rakentaa parempia ja toimivampia koneoppimismalleja. "
   ]
  },
  {
   "cell_type": "markdown",
   "metadata": {},
   "source": [
    "### Kehitysideat"
   ]
  },
  {
   "cell_type": "markdown",
   "metadata": {},
   "source": [
    "1. Tekoälyä käsitteenä voisi käydä käsitteenä tarkemmin läpi ja sitä mitä kaikkea se oikeastaan sisältää. Se on monelle ehkä jonkin verran häilyvä käsite."
   ]
  },
  {
   "cell_type": "markdown",
   "metadata": {},
   "source": [
    "### Koodidemo"
   ]
  },
  {
   "cell_type": "code",
   "execution_count": 37,
   "metadata": {},
   "outputs": [],
   "source": [
    "import matplotlib.pyplot as plt\n",
    "import pandas as pd\n",
    "from pandas import read_csv\n",
    "import sklearn\n",
    "from pandas.plotting import scatter_matrix\n",
    "from sklearn.model_selection import train_test_split\n",
    "from sklearn.linear_model import LogisticRegression\n",
    "from sklearn.tree import DecisionTreeClassifier\n",
    "from sklearn.neighbors import KNeighborsClassifier\n",
    "from sklearn.discriminant_analysis import LinearDiscriminantAnalysis\n",
    "from sklearn.naive_bayes import GaussianNB\n",
    "from sklearn.model_selection import cross_val_score, StratifiedKFold\n",
    "#from sklearn.model_selection import StratifiedKFold\n",
    "from sklearn.metrics import classification_report, confusion_matrix, accuracy_score\n",
    "#from sklearn.metrics import confusion_matrix\n",
    "#from sklearn.metrics import accuracy_score\n",
    "from sklearn.svm import SVC"
   ]
  },
  {
   "cell_type": "code",
   "execution_count": 38,
   "metadata": {},
   "outputs": [
    {
     "name": "stdout",
     "output_type": "stream",
     "text": [
      "(150, 5)\n"
     ]
    }
   ],
   "source": [
    "# Haetaan datasetti ja tallennetaan se dataframeen.\n",
    "url = \"https://raw.githubusercontent.com/jbrownlee/Datasets/master/iris.csv\"\n",
    "names = ['sepal-length', 'sepal-width', 'petal-length', 'petal-width', 'class']\n",
    "dataset = read_csv(url, names=names)\n",
    "print(dataset.shape)"
   ]
  },
  {
   "cell_type": "code",
   "execution_count": 39,
   "metadata": {},
   "outputs": [
    {
     "data": {
      "text/html": [
       "<div>\n",
       "<style scoped>\n",
       "    .dataframe tbody tr th:only-of-type {\n",
       "        vertical-align: middle;\n",
       "    }\n",
       "\n",
       "    .dataframe tbody tr th {\n",
       "        vertical-align: top;\n",
       "    }\n",
       "\n",
       "    .dataframe thead th {\n",
       "        text-align: right;\n",
       "    }\n",
       "</style>\n",
       "<table border=\"1\" class=\"dataframe\">\n",
       "  <thead>\n",
       "    <tr style=\"text-align: right;\">\n",
       "      <th></th>\n",
       "      <th>sepal-length</th>\n",
       "      <th>sepal-width</th>\n",
       "      <th>petal-length</th>\n",
       "      <th>petal-width</th>\n",
       "      <th>class</th>\n",
       "    </tr>\n",
       "  </thead>\n",
       "  <tbody>\n",
       "    <tr>\n",
       "      <th>0</th>\n",
       "      <td>5.1</td>\n",
       "      <td>3.5</td>\n",
       "      <td>1.4</td>\n",
       "      <td>0.2</td>\n",
       "      <td>Iris-setosa</td>\n",
       "    </tr>\n",
       "    <tr>\n",
       "      <th>1</th>\n",
       "      <td>4.9</td>\n",
       "      <td>3.0</td>\n",
       "      <td>1.4</td>\n",
       "      <td>0.2</td>\n",
       "      <td>Iris-setosa</td>\n",
       "    </tr>\n",
       "    <tr>\n",
       "      <th>2</th>\n",
       "      <td>4.7</td>\n",
       "      <td>3.2</td>\n",
       "      <td>1.3</td>\n",
       "      <td>0.2</td>\n",
       "      <td>Iris-setosa</td>\n",
       "    </tr>\n",
       "    <tr>\n",
       "      <th>3</th>\n",
       "      <td>4.6</td>\n",
       "      <td>3.1</td>\n",
       "      <td>1.5</td>\n",
       "      <td>0.2</td>\n",
       "      <td>Iris-setosa</td>\n",
       "    </tr>\n",
       "    <tr>\n",
       "      <th>4</th>\n",
       "      <td>5.0</td>\n",
       "      <td>3.6</td>\n",
       "      <td>1.4</td>\n",
       "      <td>0.2</td>\n",
       "      <td>Iris-setosa</td>\n",
       "    </tr>\n",
       "  </tbody>\n",
       "</table>\n",
       "</div>"
      ],
      "text/plain": [
       "   sepal-length  sepal-width  petal-length  petal-width        class\n",
       "0           5.1          3.5           1.4          0.2  Iris-setosa\n",
       "1           4.9          3.0           1.4          0.2  Iris-setosa\n",
       "2           4.7          3.2           1.3          0.2  Iris-setosa\n",
       "3           4.6          3.1           1.5          0.2  Iris-setosa\n",
       "4           5.0          3.6           1.4          0.2  Iris-setosa"
      ]
     },
     "execution_count": 39,
     "metadata": {},
     "output_type": "execute_result"
    }
   ],
   "source": [
    "dataset.head()"
   ]
  },
  {
   "cell_type": "code",
   "execution_count": 9,
   "metadata": {},
   "outputs": [
    {
     "name": "stdout",
     "output_type": "stream",
     "text": [
      "       sepal-length  sepal-width  petal-length  petal-width\n",
      "count    150.000000   150.000000    150.000000   150.000000\n",
      "mean       5.843333     3.054000      3.758667     1.198667\n",
      "std        0.828066     0.433594      1.764420     0.763161\n",
      "min        4.300000     2.000000      1.000000     0.100000\n",
      "25%        5.100000     2.800000      1.600000     0.300000\n",
      "50%        5.800000     3.000000      4.350000     1.300000\n",
      "75%        6.400000     3.300000      5.100000     1.800000\n",
      "max        7.900000     4.400000      6.900000     2.500000\n"
     ]
    }
   ],
   "source": [
    "# Tulostetaan yhteenveto muuttujista.\n",
    "print(dataset.describe())"
   ]
  },
  {
   "cell_type": "code",
   "execution_count": 10,
   "metadata": {},
   "outputs": [
    {
     "name": "stdout",
     "output_type": "stream",
     "text": [
      "class\n",
      "Iris-setosa        50\n",
      "Iris-versicolor    50\n",
      "Iris-virginica     50\n",
      "dtype: int64\n"
     ]
    }
   ],
   "source": [
    "# Tarkastetaan kuinka monta riviä kuuluu mihinkin luokkaan.\n",
    "print(dataset.groupby('class').size())"
   ]
  },
  {
   "cell_type": "code",
   "execution_count": 13,
   "metadata": {},
   "outputs": [
    {
     "data": {
      "image/png": "[encoded data removed]",
      "text/plain": [
       "<Figure size 432x288 with 4 Axes>"
      ]
     },
     "metadata": {
      "needs_background": "light"
     },
     "output_type": "display_data"
    }
   ],
   "source": [
    "# Visualisoidaan dataa, jotta saadaan ideaa muuttujien jakautuneisuudesta.\n",
    "dataset.plot(kind='box', subplots=True, layout=(2, 2), sharex=False, sharey=False)\n",
    "plt.show()"
   ]
  },
  {
   "cell_type": "code",
   "execution_count": 14,
   "metadata": {},
   "outputs": [
    {
     "data": {
      "image/png": "[encoded data removed]",
      "text/plain": [
       "<Figure size 432x288 with 4 Axes>"
      ]
     },
     "metadata": {
      "needs_background": "light"
     },
     "output_type": "display_data"
    }
   ],
   "source": [
    "dataset.hist()\n",
    "plt.show()"
   ]
  },
  {
   "cell_type": "code",
   "execution_count": 17,
   "metadata": {},
   "outputs": [
    {
     "data": {
      "image/png": "[encoded data removed]",
      "text/plain": [
       "<Figure size 432x288 with 16 Axes>"
      ]
     },
     "metadata": {
      "needs_background": "light"
     },
     "output_type": "display_data"
    }
   ],
   "source": [
    "# Tarkastellaan suhteita muuttujien välillä.\n",
    "scatter_matrix(dataset)\n",
    "plt.show()"
   ]
  },
  {
   "cell_type": "code",
   "execution_count": 40,
   "metadata": {},
   "outputs": [],
   "source": [
    "# Jaetaan datasetti osiin, joita käytetään datan kouluttamiseen ja arviointiin.\n",
    "# Osa datasta pidetään validointiaineistona, jonka avulla mallin tarkkuutta testataan.\n",
    "array = dataset.values\n",
    "X = array[:,0:4]\n",
    "Y = array[:, 4]\n",
    "X_train, X_validation, Y_train, Y_validation = train_test_split(X, Y, test_size=0.20, random_state=1)"
   ]
  },
  {
   "cell_type": "code",
   "execution_count": 32,
   "metadata": {},
   "outputs": [
    {
     "name": "stdout",
     "output_type": "stream",
     "text": [
      "LR: 0.941667 (0.065085)\n",
      "LDA: 0.975000 (0.038188)\n",
      "KNN: 0.958333 (0.041667)\n",
      "CART: 0.941667 (0.053359)\n",
      "NB: 0.950000 (0.055277)\n",
      "SVM: 0.983333 (0.033333)\n"
     ]
    }
   ],
   "source": [
    "# Rakennetaan ja arvioidaan mallit.\n",
    "models = []\n",
    "models.append(('LR', LogisticRegression(solver='liblinear', multi_class='ovr')))\n",
    "models.append(('LDA', LinearDiscriminantAnalysis()))\n",
    "models.append(('KNN', KNeighborsClassifier()))\n",
    "models.append(('CART', DecisionTreeClassifier()))\n",
    "models.append(('NB', GaussianNB()))\n",
    "models.append(('SVM', SVC(gamma='auto')))\n",
    "\n",
    "results = []\n",
    "names = []\n",
    "for name, model in models:\n",
    "    kfold = StratifiedKFold(n_splits=10, random_state=1, shuffle=True)\n",
    "    cv_results = cross_val_score(model, X_train, Y_train, cv=kfold, scoring='accuracy')\n",
    "    results.append(cv_results)\n",
    "    names.append(name)\n",
    "    print('%s: %f (%f)' % (name, cv_results.mean(), cv_results.std()))"
   ]
  },
  {
   "cell_type": "code",
   "execution_count": 33,
   "metadata": {},
   "outputs": [
    {
     "data": {
      "image/png": "[encoded data removed]",
      "text/plain": [
       "<Figure size 432x288 with 1 Axes>"
      ]
     },
     "metadata": {
      "needs_background": "light"
     },
     "output_type": "display_data"
    }
   ],
   "source": [
    "# Arvioidaan malleja visualisoinnin avulla.\n",
    "plt.boxplot(results, labels=names)\n",
    "plt.title('Algorithm Comparison')\n",
    "plt.show()\n",
    "# Support Vector Machines (SVM) näyttää saavan parhaan tarkkuusarvon vertailussa."
   ]
  },
  {
   "cell_type": "code",
   "execution_count": 35,
   "metadata": {},
   "outputs": [
    {
     "name": "stdout",
     "output_type": "stream",
     "text": [
      "0.9666666666666667\n",
      "[[11  0  0]\n",
      " [ 0 12  1]\n",
      " [ 0  0  6]]\n",
      "                 precision    recall  f1-score   support\n",
      "\n",
      "    Iris-setosa       1.00      1.00      1.00        11\n",
      "Iris-versicolor       1.00      0.92      0.96        13\n",
      " Iris-virginica       0.86      1.00      0.92         6\n",
      "\n",
      "       accuracy                           0.97        30\n",
      "      macro avg       0.95      0.97      0.96        30\n",
      "   weighted avg       0.97      0.97      0.97        30\n",
      "\n"
     ]
    }
   ],
   "source": [
    "# Valitaan malliksi SVM ja tehdään sen avulla ennusteita.\n",
    "# Sovitetaan malli opetettuun datasettiin ja tehdään ennusteita validointia varten säästetyn datasetin avulla.\n",
    "model = SVC(gamma='auto')\n",
    "model.fit(X_train, Y_train)\n",
    "predictions = model.predict(X_validation)\n",
    "\n",
    "# Arvioidaan ennusteita.\n",
    "print(accuracy_score(Y_validation, predictions))\n",
    "print(confusion_matrix(Y_validation, predictions))\n",
    "print(classification_report(Y_validation, predictions))\n",
    "# Tarkkuus on 96 %.\n",
    "# Confusion matrix kertoo tehdyistä virheistä.\n",
    "# Brownlee, J. (2019). Your First Machine Learning Project in Python Step-By-Step. https://machinelearningmastery.com/machine-learning-in-python-step-by-step/"
   ]
  },
  {
   "cell_type": "markdown",
   "metadata": {},
   "source": [
    "## Viikko 4"
   ]
  },
  {
   "cell_type": "markdown",
   "metadata": {},
   "source": [
    "Viikolla neljä osallistuin opetukseen katsomalla luentotallenteen jälkikäteen. Demosessioon osallistuin livenä. Oppimispäiväkirjassa on hyödynnetty luentorunkoa, demosessiota ja muuta luennon ohessa esiteltyä aineistoa. Luentoviikolla 4 syvennyttiin harjoitustyöprosessiin."
   ]
  },
  {
   "cell_type": "markdown",
   "metadata": {},
   "source": [
    "Luennolla käytiin läpi harjoitustyön tekemistä CRISP-DM mallin mukaisesti. CRISP-DM malli on pääasiallinen prosessimalli, jota käytetään datatiede-projeteissa. Sen keskiössä on liiketoiminnan ymmärtäminen (KDnuggets 2014). Mallin tavoitteena on korostaa, että todellisen maalilman datatiedeprojekteissa lähtökohtana on liiketoimintaongelma, ei data. Prosessissa voi hyödyntää kehikkoa mahdollisuuksien tunnistamiseen (Huhtamäki 2021). Kehikko on kehitetty hyödyntäen liiketoiminta- ja lean-kehikkoja, jotka ovat hyviä työkaluja uusista tuotteista keskustellessa. Mahdollisuuksien kehikko tosin olettaa, että tuote on jo olemassa. Koska tuotteeseen voitaisiin lisätä niin paljon hyviä ominaisuuksia, niin on otettava huomioon käyttäjän ongelmat, joita yritetään ratkaista. On mietittävä, miten käyttäjä käyttää ratkaisuita ongelmiensa ratkaisemiseksi (Patton 2020).\n",
    "\n",
    "Lähdetään dataprojektissa liikkeelle liiketoiminnan ymmärtämisestä ja siitä, miten voidaan tuottaa datan avulla arvoa liiketoiminnalle. On luotava jonkinlainen arviointikehikko sille, miten voidaan arvioida datan tuottamaa arvoa liiketoimintaprosessille. Harjoitustyössä on olennaista päättää jokin selkeä kysymys, johon vastata datan avulla ja vasta sitten pohtia, onko tarvittavaa dataa saatavilla (Huhtamäki 2021). \n",
    "\n",
    "Toimialan sidosryhmät haluavat tietää, että auttavatko tehdyt analytiikkainvestoinnit tekemään parempia, nopeampia ja älykkäämpiä päätöksiä mitattavissa olevilla liiketoiminnan tuloksilla. Ensimmäinen tekijä analytiikkainvestoinnin onnistumisen arvioinnissa on tuloksena olevien liiketoimintapäätösten laatu, tyypilillisesti mitattuna jollakin keskeisellä suorituskykyindikaattorilla (KPI), kuten voitto, asiakaspalvelu tai kustannukset. Mutta miten mitata päätöksen laatua ennen päätöksen tosiasiallista toteuttamista? Avain on siepata KPI:t päätöksenteko-optimointimalleihin, joissa ne heijastavat suoraan vaihtoehtoisten päätösten, suunnitelmien ja aikataulujen vaikutusta. Toinen tekijä on nopeus, jota pyritään saavuttamaan optimointimallien ja automaation avulla. Nopeampi aikataulu tarkoittaa lyhyempiä toimitusaikoja ja nopeampaa markkinoille tuloa, jotka tuottavat merkittävää kilpailuetua. Kolmas ja usein unohdettu tekijä on kestävyys. Päätös, suunnitelma tai aikataulu on vankka, kun se tuottaa edelleen hyviä tuloksia, vaikka ympäröivä maailma muuttuisi. Kestävämpään päätöksentekoon pyritään yhdistelemällä optimointia ja koneoppimista (van den Heever 2017).\n",
    "\n",
    "Kun kysymys, johon harjoitustyössä halutaan vastata on valittu, niin tulee pohtia, että mistä saadaan tarvittava data kysymykseen vastaamiseksi. On mahdollista käyttää esimerkiksi organisaation itse luomaa dataa, mutta tällöin tulee arvioida mahdollisuuksien mukaan, millaisia datalähteitä organisaatiolla on käytössään. Toinen vaihtoehto on käyttää API-rajapintoja, joiden takaa löytyy vaikka minkälaisia datalähteitä, joista voi olla hyötyä harjoitustyössä. Kolmas vaihtoehto on etsiä avointa dataa, jota varsinkin julkiset toimijat ovat omalta osaltaa lähteneet julkaisemaan aika aktiivisestikin (Huhtamäki 2021). \n",
    "\n",
    "Kun aineisto on valittu ja hankittu, niin dataa tulee tarkastella ja selvittää mitä se pitää sisällään. Tässä kohtaa kannattaa miettiä alkuperäistä kysymystä ja pohtia mitä käytössä olevat muuttujat ovat ja mihin ne voivat vastata. Kun data on ymmärretty, niin sen jälkeen se voidaan putsata. Putsaaminen voi sisältää esimerkiksi kirjoitusvirheiden korjausta tai muuttujien muuntamista. Seuraava vaihe on datan rikastaminen, jossa pyritään yhdstämään eri lähteistä tulevat datat yhdeksi. Tavoitteena tulisi olla muuntaa data sellaiseen muotoon, jossa alkuperäiselle kysymykselle arvokkaat piirteet olisivat tunnistettavissa (Huhtamäki 2021). \n",
    "\n",
    "Dataa visualisoitaessa tulee kriittisesti arvioida, millaiset kuvat ovat arvokkaita loppukäyttäjälle. Kaikesta ei kannata tehdä visualisointeja vain siksi, että voi. Tulisi pystyä selittämään, miksi joku tietty kuvaaja on arvokas asiaa analysoivalle loppukäyttälle. Visualisointeja tehtäessä tulisi pystyä valitsemaan oikeat muuttujat useiden muiden muuttujien joukosta. Visualisoinnin jälkeen dataa voidaan ruveta mallintamaan. Tässä vaiheessa mieleen kannattaa palauttaa alkuperäinen kysymys ja ottaa se huomioon mallin valinnassa. Tässä voi käyttää apuna esimerkiksi scikit-learn-kirjaston algoritmi \"cheat-sheet:iä\". Analyysi tulee harvoin valmiiksi mallin valitsemisen jälkeen, vaan prosessi jatkuu iteroimalla. Kun analyysiprosessin on käynyt kertaalleen läpi, niin dataa voi mahdollisesti haluta täydentää uudella datalla tai rikastaa ja mallintaa sitä toisella tavalla. Prosessin myötä voi myös herätä kokonaan uusia kysymyksiä, joihin etsiä vastausta (Huhtamäki 2021).\n",
    "\n",
    "Koen, että liiketoiminnan ymmärtäminen ja oikean kysymyksen löytäminen on varmasti itselleni vaikein osa harjoitustyötä. Olin ajatellut käyttää harjoitustyössä AirBnB-datasettejä, ja haluaisin löytää jonkin hyvän kysymyksen johon lähden datan avulla etsimään vastausta. En siis haluasi toteuttaa valmista esimerkkiä hintaennustimesta, vaan lähteä hieman haastamaan itseäni koettamalla miettiä jotain toista ongelmaa/kysymystä. Pidän avoinna myös mahdollisuutta käyttää jotain muuta, kuin AirBnB-dataa. \n",
    "\n",
    "Koska osallistuin luennolle vasta jälkikäteen katsomalla tallenteen, niin on jonkin verran vaikeaa arvioida, miten vuorovaikutteinen break-out-ryhmätyöskentely lopulta sujui. Tallenteen perusteella arvioisin, että se olisi voinut sujua paremminkin. Tähän vaikutti todennäköisesti ainakin luennolle livenä osallistuneiden määrä, joka oli verrattain pieni koko kurssin osallistujamäärään suhteutettuna. Esimerkiksi Flingaan kirjattiin vain yksi tai kaksi AirBnb-caseen liittyvää ongelmaa. Tämä kielii ehkä siitä, että muillakin on vaikeuksia keksiä hyviä kysymyksiä ja ongelmia, joihin harjoitustyössä lähdettäisiin hakemaan vastausta. Ideana vuorovaikutteisempi työskentely luennolla on mielestäni hyvä, ja varmasti joissan tapauksissa voisi toimia paremmin. Koska moni varmasti pohtii juurikin sitä oikeaa kysymystä, niin erityisesti siinä voisi autaa kurssikaverien kanssa yhdessä ideoiminen."
   ]
  },
  {
   "cell_type": "markdown",
   "metadata": {},
   "source": [
    "### Viisi tärkeintä asiaa"
   ]
  },
  {
   "cell_type": "markdown",
   "metadata": {},
   "source": [
    "1. Mahdollisuuksien tunnistamisen kehikko\n",
    "2. Liiketoiminnan ymmärtäminen ja arvonluonti liiketoimintaprosessille datan avulla\n",
    "3. Analytiikan hyötyjen mittaaminen\n",
    "4. Datan hankkiminen, ymmärtäminen, putsaaminen ja visualisointi\n",
    "5. Mallintaminen ja iterointi, scikit-learn algorithm cheat-sheet"
   ]
  },
  {
   "cell_type": "markdown",
   "metadata": {},
   "source": [
    "### Kehitysideat"
   ]
  },
  {
   "cell_type": "markdown",
   "metadata": {},
   "source": [
    "1. Voisiko ennen luentoa olla pakollisena tehtävänä jokaiselle keksiä hyvä kysymys tai kiinnostava ongelmia AirBnB-casesta, joka tulisi sitten kirjata Flingaan. Parhaat ideat voitaisiin nostaa esiin tykkäysten perusteella ja niitä voitaisiin jatkojalostaa. Tällaisen prosessin avulla voisi löytyä usempikin kiinnostava ongelma kurssin opiskelijoiden ratkaistavaksi. Tiedostan, että tämän kaltainen työnkulku oli tavoitteena myös luennolla, mutta kaatui ideoiden vähäiseen määrään. Etukäteen ideointi ja \"pakollisuus\" lisäisivät toivottavasti tuotettujen ideoiden määrää. Ideoita voisivat tuottaa myös ne, jotka eivät pääse osallistumaan luennon reaaliajassa."
   ]
  },
  {
   "cell_type": "markdown",
   "metadata": {},
   "source": [
    "### Koodidemo"
   ]
  },
  {
   "cell_type": "code",
   "execution_count": 23,
   "metadata": {},
   "outputs": [],
   "source": [
    "import pandas as pd\n",
    "import numpy as np\n",
    "\n",
    "from sklearn import preprocessing\n",
    "from sklearn import linear_model\n",
    "from sklearn.model_selection import cross_val_predict\n",
    "\n",
    "import matplotlib.pyplot as plt"
   ]
  },
  {
   "cell_type": "code",
   "execution_count": 3,
   "metadata": {},
   "outputs": [
    {
     "data": {
      "text/html": [
       "<div>\n",
       "<style scoped>\n",
       "    .dataframe tbody tr th:only-of-type {\n",
       "        vertical-align: middle;\n",
       "    }\n",
       "\n",
       "    .dataframe tbody tr th {\n",
       "        vertical-align: top;\n",
       "    }\n",
       "\n",
       "    .dataframe thead th {\n",
       "        text-align: right;\n",
       "    }\n",
       "</style>\n",
       "<table border=\"1\" class=\"dataframe\">\n",
       "  <thead>\n",
       "    <tr style=\"text-align: right;\">\n",
       "      <th></th>\n",
       "      <th>age</th>\n",
       "      <th>sex</th>\n",
       "      <th>bmi</th>\n",
       "      <th>children</th>\n",
       "      <th>smoker</th>\n",
       "      <th>region</th>\n",
       "      <th>charges</th>\n",
       "    </tr>\n",
       "  </thead>\n",
       "  <tbody>\n",
       "    <tr>\n",
       "      <th>0</th>\n",
       "      <td>19</td>\n",
       "      <td>female</td>\n",
       "      <td>27.900</td>\n",
       "      <td>0</td>\n",
       "      <td>yes</td>\n",
       "      <td>southwest</td>\n",
       "      <td>16884.92400</td>\n",
       "    </tr>\n",
       "    <tr>\n",
       "      <th>1</th>\n",
       "      <td>18</td>\n",
       "      <td>male</td>\n",
       "      <td>33.770</td>\n",
       "      <td>1</td>\n",
       "      <td>no</td>\n",
       "      <td>southeast</td>\n",
       "      <td>1725.55230</td>\n",
       "    </tr>\n",
       "    <tr>\n",
       "      <th>2</th>\n",
       "      <td>28</td>\n",
       "      <td>male</td>\n",
       "      <td>33.000</td>\n",
       "      <td>3</td>\n",
       "      <td>no</td>\n",
       "      <td>southeast</td>\n",
       "      <td>4449.46200</td>\n",
       "    </tr>\n",
       "    <tr>\n",
       "      <th>3</th>\n",
       "      <td>33</td>\n",
       "      <td>male</td>\n",
       "      <td>22.705</td>\n",
       "      <td>0</td>\n",
       "      <td>no</td>\n",
       "      <td>northwest</td>\n",
       "      <td>21984.47061</td>\n",
       "    </tr>\n",
       "    <tr>\n",
       "      <th>4</th>\n",
       "      <td>32</td>\n",
       "      <td>male</td>\n",
       "      <td>28.880</td>\n",
       "      <td>0</td>\n",
       "      <td>no</td>\n",
       "      <td>northwest</td>\n",
       "      <td>3866.85520</td>\n",
       "    </tr>\n",
       "  </tbody>\n",
       "</table>\n",
       "</div>"
      ],
      "text/plain": [
       "   age     sex     bmi  children smoker     region      charges\n",
       "0   19  female  27.900         0    yes  southwest  16884.92400\n",
       "1   18    male  33.770         1     no  southeast   1725.55230\n",
       "2   28    male  33.000         3     no  southeast   4449.46200\n",
       "3   33    male  22.705         0     no  northwest  21984.47061\n",
       "4   32    male  28.880         0     no  northwest   3866.85520"
      ]
     },
     "execution_count": 3,
     "metadata": {},
     "output_type": "execute_result"
    }
   ],
   "source": [
    "# luetaan data.\n",
    "df = pd.read_csv('insurance.csv')\n",
    "\n",
    "df.head()"
   ]
  },
  {
   "cell_type": "code",
   "execution_count": 27,
   "metadata": {},
   "outputs": [
    {
     "data": {
      "text/html": [
       "<div>\n",
       "<style scoped>\n",
       "    .dataframe tbody tr th:only-of-type {\n",
       "        vertical-align: middle;\n",
       "    }\n",
       "\n",
       "    .dataframe tbody tr th {\n",
       "        vertical-align: top;\n",
       "    }\n",
       "\n",
       "    .dataframe thead th {\n",
       "        text-align: right;\n",
       "    }\n",
       "</style>\n",
       "<table border=\"1\" class=\"dataframe\">\n",
       "  <thead>\n",
       "    <tr style=\"text-align: right;\">\n",
       "      <th></th>\n",
       "      <th>age</th>\n",
       "      <th>bmi</th>\n",
       "      <th>smoker</th>\n",
       "      <th>charges</th>\n",
       "    </tr>\n",
       "  </thead>\n",
       "  <tbody>\n",
       "    <tr>\n",
       "      <th>0</th>\n",
       "      <td>19</td>\n",
       "      <td>27</td>\n",
       "      <td>1</td>\n",
       "      <td>16884</td>\n",
       "    </tr>\n",
       "    <tr>\n",
       "      <th>1</th>\n",
       "      <td>18</td>\n",
       "      <td>33</td>\n",
       "      <td>0</td>\n",
       "      <td>1725</td>\n",
       "    </tr>\n",
       "    <tr>\n",
       "      <th>2</th>\n",
       "      <td>28</td>\n",
       "      <td>33</td>\n",
       "      <td>0</td>\n",
       "      <td>4449</td>\n",
       "    </tr>\n",
       "    <tr>\n",
       "      <th>3</th>\n",
       "      <td>33</td>\n",
       "      <td>22</td>\n",
       "      <td>0</td>\n",
       "      <td>21984</td>\n",
       "    </tr>\n",
       "    <tr>\n",
       "      <th>4</th>\n",
       "      <td>32</td>\n",
       "      <td>28</td>\n",
       "      <td>0</td>\n",
       "      <td>3866</td>\n",
       "    </tr>\n",
       "  </tbody>\n",
       "</table>\n",
       "</div>"
      ],
      "text/plain": [
       "   age  bmi  smoker  charges\n",
       "0   19   27       1    16884\n",
       "1   18   33       0     1725\n",
       "2   28   33       0     4449\n",
       "3   33   22       0    21984\n",
       "4   32   28       0     3866"
      ]
     },
     "execution_count": 27,
     "metadata": {},
     "output_type": "execute_result"
    }
   ],
   "source": [
    "# Poistetaan dataframesta osa sarakkeistam joita ei oteta mukaan analyysiin.\n",
    "df = df[['age', 'bmi', 'smoker', 'charges']]\n",
    "df.head()"
   ]
  },
  {
   "cell_type": "code",
   "execution_count": 28,
   "metadata": {},
   "outputs": [
    {
     "name": "stdout",
     "output_type": "stream",
     "text": [
      "[1 0]\n"
     ]
    }
   ],
   "source": [
    "print(df.smoker.unique())"
   ]
  },
  {
   "cell_type": "code",
   "execution_count": 32,
   "metadata": {},
   "outputs": [
    {
     "data": {
      "text/html": [
       "<div>\n",
       "<style scoped>\n",
       "    .dataframe tbody tr th:only-of-type {\n",
       "        vertical-align: middle;\n",
       "    }\n",
       "\n",
       "    .dataframe tbody tr th {\n",
       "        vertical-align: top;\n",
       "    }\n",
       "\n",
       "    .dataframe thead th {\n",
       "        text-align: right;\n",
       "    }\n",
       "</style>\n",
       "<table border=\"1\" class=\"dataframe\">\n",
       "  <thead>\n",
       "    <tr style=\"text-align: right;\">\n",
       "      <th></th>\n",
       "      <th>age</th>\n",
       "      <th>bmi</th>\n",
       "      <th>smoker</th>\n",
       "      <th>charges</th>\n",
       "    </tr>\n",
       "  </thead>\n",
       "  <tbody>\n",
       "    <tr>\n",
       "      <th>0</th>\n",
       "      <td>19</td>\n",
       "      <td>27</td>\n",
       "      <td>1</td>\n",
       "      <td>16884</td>\n",
       "    </tr>\n",
       "    <tr>\n",
       "      <th>1</th>\n",
       "      <td>18</td>\n",
       "      <td>33</td>\n",
       "      <td>0</td>\n",
       "      <td>1725</td>\n",
       "    </tr>\n",
       "    <tr>\n",
       "      <th>2</th>\n",
       "      <td>28</td>\n",
       "      <td>33</td>\n",
       "      <td>0</td>\n",
       "      <td>4449</td>\n",
       "    </tr>\n",
       "    <tr>\n",
       "      <th>3</th>\n",
       "      <td>33</td>\n",
       "      <td>22</td>\n",
       "      <td>0</td>\n",
       "      <td>21984</td>\n",
       "    </tr>\n",
       "    <tr>\n",
       "      <th>4</th>\n",
       "      <td>32</td>\n",
       "      <td>28</td>\n",
       "      <td>0</td>\n",
       "      <td>3866</td>\n",
       "    </tr>\n",
       "  </tbody>\n",
       "</table>\n",
       "</div>"
      ],
      "text/plain": [
       "   age  bmi  smoker  charges\n",
       "0   19   27       1    16884\n",
       "1   18   33       0     1725\n",
       "2   28   33       0     4449\n",
       "3   33   22       0    21984\n",
       "4   32   28       0     3866"
      ]
     },
     "execution_count": 32,
     "metadata": {},
     "output_type": "execute_result"
    }
   ],
   "source": [
    "# Muunnetaan smoker -muuttujasta kategorinen.\n",
    "le = preprocessing.LabelEncoder()\n",
    "arr = le.fit_transform(df.smoker)\n",
    "df.smoker = arr\n",
    "df.head()"
   ]
  },
  {
   "cell_type": "code",
   "execution_count": 30,
   "metadata": {},
   "outputs": [
    {
     "data": {
      "image/png": "[encoded data removed]",
      "text/plain": [
       "<Figure size 1440x720 with 1 Axes>"
      ]
     },
     "metadata": {
      "needs_background": "light"
     },
     "output_type": "display_data"
    }
   ],
   "source": [
    "# Suoritetaan lineaarinen regressio.\n",
    "lr = linear_model.LinearRegression()\n",
    "\n",
    "# Määritetään x ja y.\n",
    "y = df.charges\n",
    "X = df.drop(columns='charges')\n",
    "\n",
    "predict = cross_val_predict(lr, X, y, cv=10)\n",
    "\n",
    "fig, ax = plt.subplots(figsize=(20, 10))\n",
    "ax.scatter(y, predict, edgecolors=(0, 0, 0))\n",
    "ax.plot([y.min(), y.max()], [y.min(), y.max()], 'k--', lw=4)\n",
    "ax.set_xlabel('Measured')\n",
    "ax.set_ylabel('Predicted')\n",
    "plt.show()"
   ]
  },
  {
   "cell_type": "code",
   "execution_count": 31,
   "metadata": {},
   "outputs": [
    {
     "name": "stdout",
     "output_type": "stream",
     "text": [
      "              age       bmi    smoker   charges\n",
      "age      1.000000  0.108437 -0.025019  0.299009\n",
      "bmi      0.108437  1.000000  0.001669  0.196188\n",
      "smoker  -0.025019  0.001669  1.000000  0.787251\n",
      "charges  0.299009  0.196188  0.787251  1.000000\n"
     ]
    }
   ],
   "source": [
    "# Tulostetaan Pearsonin korrelaatiokertoimet.\n",
    "print(df.corr())"
   ]
  },
  {
   "cell_type": "code",
   "execution_count": null,
   "metadata": {},
   "outputs": [],
   "source": [
    "# Skenderi, E (2021) Session 4 - Categorial and missing data. https://github.com/InfoTUNI/joda2021/blob/master/koodiesimerkit/Session%204%20-%20Categorical%20and%20Missing%20Data.ipynb"
   ]
  },
  {
   "cell_type": "markdown",
   "metadata": {},
   "source": [
    "### Lähteet"
   ]
  },
  {
   "cell_type": "markdown",
   "metadata": {},
   "source": [
    "Ailisto, H., Kaski, S. ja Suominen, A. (2019). Edelläkävijänä tekoälyaikaan. Saatavissa: https://www.tekoalyaika.fi/raportit/edellakavijana-tekoalyaikaan/2-kansainvaliset-tekoalyn-asiantuntijat-kohti-tekoalyn-kolmatta-aaltoa/\n",
    "\n",
    "Baiju, NT. (2018). Top 50 open source web crawlers for data mining. Saatavissa: https://bigdata-madesimple.com/top-50-open-source-web-crawlers-for-data-mining/\n",
    "\n",
    "Bernard, B. (2017). Web Scraping and Crawling Are Perfectly Legal, Right?. Saatavissa: https://benbernardblog.com/web-scraping-and-crawling-are-perfectly-legal-right/\n",
    "\n",
    "Brownlee, J. (2019). Your First Machine Learning Project in Python Step-by-Step. Saatavissa: https://machinelearningmastery.com/machine-learning-in-python-step-by-step/\n",
    "\n",
    "Granville, V. (2014). Data Scientist versus Data Engineer. Saatavissa: https://www.datasciencecentral.com/profiles/blogs/data-scientist-versus-data-engineer\n",
    "\n",
    "Guo, P. (2013). Data Science Workflow: Overview and Challenges. Saatavissa: https://cacm.acm.org/blogs/blog-cacm/169199-data-science-workflow-overview-and-challenges/fulltext\n",
    "\n",
    "van den Heever, S. (2017). Top 3 ways to measure the success of your analytics investment. Saatavissa: https://web.archive.org/web/20201020003032/https://www.ibmbigdatahub.com/blog/top-3-ways-measure-success-your-analytics-investment\n",
    "\n",
    "Huhtamäki, J. (2021). Johdanto Datatieteeseen - luento 1. Saatavissa: https://github.com/InfoTUNI/joda2021/blob/master/luentomuistio/luento01.ipynb\n",
    "\n",
    "Huhtamäki, J. (2021). Johdanto Datatieteeseen - luento 2. Saatavissa: https://github.com/InfoTUNI/joda2021/blob/master/luentomuistio/luento02.ipynb\n",
    "\n",
    "Huhtamäki, J. (2021). Johdanto Datatieteeseen - luento 3. Saatavissa: https://github.com/InfoTUNI/joda2021/blob/master/luentomuistio/luento03.ipynb\n",
    "\n",
    "Huhtamäki, J. (2021). Johdanto Datatieteeseen - luento 4. Saatavissa: https://github.com/InfoTUNI/joda2021/blob/master/luentomuistio/luento04.ipynb\n",
    "\n",
    "Ivan, M. (2015). Types of Machine Learning Algorithms. Saatavissa: https://en.proft.me/2015/12/24/types-machine-learning-algorithms/\n",
    "\n",
    "KDnuggets (2014). What main methodology are you using for your analytics, data mining, or data science projects? Saatavissa: https://www.kdnuggets.com/polls/2014/analytics-data-mining-data-science-methodology.html\n",
    "\n",
    "Ni, D. (2019). The Best Data Scraping Tools and Web Scraping Tools. Saatavissa: https://www.scraperapi.com/blog/the-10-best-web-scraping-tools \n",
    "\n",
    "Pandas (2021). Saatavissa: https://pandas.pydata.org\n",
    "\n",
    "Patton, J. (2020). Opportunity Canvas. Saatavissa: https://www.jpattonassociates.com/opportunity-canvas/\n",
    "\n",
    "Shekhar, A. (2018). What is Feature Engineering for Machine Learning?. Saatavissa: https://www.tekoalyaika.fi/raportit/edellakavijana-tekoalyaikaan/2-kansainvaliset-tekoalyn-asiantuntijat-kohti-tekoalyn-kolmatta-aaltoa/\n",
    "\n",
    "Silveira, O. (2020). A Gentle Inroduction to Web Scraping with Python. Saatvissa: https://towardsdatascience.com/a-gentle-introduction-to-web-scraping-with-python-b914a64b2fb8\n",
    "\n",
    "Skenderi, E. (2021). Session 1 - Analysing Transaction Data. Saatavissa: https://github.com/InfoTUNI/joda2021/blob/master/koodiesimerkit/Session%201%20-%20Analysis%20of%20Transactions.ipynb \n",
    "\n",
    "Skenderi, E. (2021). Session 4 - Categorial and Missing Data. Saatavissa: https://github.com/InfoTUNI/joda2021/blob/master/koodiesimerkit/Session%204%20-%20Categorical%20and%20Missing%20Data.ipynb\n",
    "\n",
    "Wikipedia (2021). Cross-industry standard process for data mining. Saatavissa: https://en.wikipedia.org/wiki/Cross-industry_standard_process_for_data_mining"
   ]
  },
  {
   "cell_type": "code",
   "execution_count": null,
   "metadata": {},
   "outputs": [],
   "source": []
  }
 ],
 "metadata": {
  "kernelspec": {
   "display_name": "Python 3",
   "language": "python",
   "name": "python3"
  },
  "language_info": {
   "codemirror_mode": {
    "name": "ipython",
    "version": 3
   },
   "file_extension": ".py",
   "mimetype": "text/x-python",
   "name": "python",
   "nbconvert_exporter": "python",
   "pygments_lexer": "ipython3",
   "version": "3.8.5"
  }
 },
 "nbformat": 4,
 "nbformat_minor": 4
}
